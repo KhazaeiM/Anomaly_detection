{
  "cells": [
    {
      "cell_type": "markdown",
      "metadata": {
        "id": "view-in-github",
        "colab_type": "text"
      },
      "source": [
        "<a href=\"https://colab.research.google.com/github/KhazaeiM/Anomaly_detection/blob/main/04__RandomWalks_Sampling.ipynb\" target=\"_parent\"><img src=\"https://colab.research.google.com/assets/colab-badge.svg\" alt=\"Open In Colab\"/></a>"
      ]
    },
    {
      "cell_type": "code",
      "execution_count": null,
      "metadata": {
        "id": "y-LE7VsTFB_a"
      },
      "outputs": [],
      "source": [
        "# import tensorflow as tf\n",
        "# device_name = tf.test.gpu_device_name()\n",
        "# if device_name != '/device:GPU:0':\n",
        "#   raise SystemError('GPU device not found')\n",
        "# print('Found GPU at: {}'.format(device_name))"
      ]
    },
    {
      "cell_type": "code",
      "execution_count": null,
      "metadata": {
        "id": "QKmjPL1HC4SM"
      },
      "outputs": [],
      "source": [
        "import pandas as pd\n",
        "import numpy as np\n",
        "import itertools\n",
        "import csv\n",
        "from itertools import chain\n",
        "import random\n",
        "import functools\n",
        "import operator\n",
        "from collections import Counter"
      ]
    },
    {
      "cell_type": "code",
      "execution_count": null,
      "metadata": {
        "id": "z-pi4BXnEJqw"
      },
      "outputs": [],
      "source": [
        "data_path = \"/content/drive/MyDrive/data/Thesise Data/AMiner_Academic/\"\n",
        "dimen = 128\n",
        "window = 5\n",
        "walk_length = 100\n",
        "a_top = 10\n",
        "p_top = 10\n",
        "v_top = 3"
      ]
    },
    {
      "cell_type": "code",
      "execution_count": null,
      "metadata": {
        "id": "sIAqhYQJFSrL"
      },
      "outputs": [],
      "source": [
        "papers = pd.read_csv(data_path + 'AMiner-Papers-inj-200-train-csv.csv', index_col=False)\n",
        "authors = pd.read_csv(data_path + 'AMiner-Authors-inj-200-train-csv.csv', index_col=False)\n",
        "venues = pd.read_csv(data_path + 'AMiner-Venue-A&P-inj-200-train-csv.csv', index_col=False)\n",
        "contribution  = pd.read_csv(data_path + 'AMiner-A&A-inj-200-train-csv.csv', index_col=False)"
      ]
    },
    {
      "cell_type": "code",
      "execution_count": null,
      "metadata": {
        "colab": {
          "base_uri": "https://localhost:8080/"
        },
        "id": "egRWxWvi5DVA",
        "outputId": "70d8cf97-4f29-481a-fe8b-2e2a86a135e6"
      },
      "outputs": [
        {
          "data": {
            "text/plain": [
              "262180"
            ]
          },
          "execution_count": 5,
          "metadata": {},
          "output_type": "execute_result"
        }
      ],
      "source": [
        "len(papers['venue_name'])"
      ]
    },
    {
      "cell_type": "code",
      "execution_count": null,
      "metadata": {
        "colab": {
          "base_uri": "https://localhost:8080/"
        },
        "id": "Vfx8tefO4qZR",
        "outputId": "db22184e-4658-4fa8-8b0d-55dc3d756136"
      },
      "outputs": [
        {
          "data": {
            "text/plain": [
              "['-']       244211\n",
              "['v48']       1886\n",
              "['v202']      1077\n",
              "['v203']       907\n",
              "['v10']        848\n",
              "             ...  \n",
              "['v199']         3\n",
              "['v195']         3\n",
              "['v58']          3\n",
              "['v19']          1\n",
              "['v21']          1\n",
              "Name: venue_name, Length: 161, dtype: int64"
            ]
          },
          "execution_count": 6,
          "metadata": {},
          "output_type": "execute_result"
        }
      ],
      "source": [
        "papers['venue_name'].value_counts()"
      ]
    },
    {
      "cell_type": "code",
      "execution_count": null,
      "metadata": {
        "id": "1w-p4jYbfncB"
      },
      "outputs": [],
      "source": [
        "# CONVERT str TO list\n",
        "def str2list(df, col):\n",
        "  df[col] = df[col].transform(lambda x: x.replace('[', \"\").replace(']', \"\"))\n",
        "  df[col] = df[col].apply(lambda x: [j for i in csv.reader(x, delimiter = ',', quotechar=\"'\") for j in i if j.strip()])"
      ]
    },
    {
      "cell_type": "code",
      "execution_count": null,
      "metadata": {
        "id": "CvvlFTY4W_Ej"
      },
      "outputs": [],
      "source": [
        "# SPLIT EACH CLIQUE TO PAPER AND AUTHOR NODES\n",
        "def separated(lis):\n",
        "  a_list = []\n",
        "  p_list = []\n",
        "  v_list = []\n",
        "\n",
        "  for j in range(len(lis)):\n",
        "    if lis[j][0] == 'a':\n",
        "      a_list.append(lis[j])\n",
        "    if lis[j][0] == 'p':\n",
        "      p_list.append(lis[j])\n",
        "    if lis[j][0] == 'v':\n",
        "      v_list.append(lis[j])\n",
        "  return (a_list, p_list, v_list)"
      ]
    },
    {
      "cell_type": "code",
      "execution_count": null,
      "metadata": {
        "id": "P2fJbYQ1oE9n"
      },
      "outputs": [],
      "source": [
        "v_cols = ['index_a', 'index_p']\n",
        "for col in v_cols:\n",
        "  str2list(venues, col)\n",
        "a_cols = ['index_p', 'venue_name', 'co_authors']\n",
        "for col in a_cols:\n",
        "  str2list(authors, col)\n",
        "p_cols = ['index_a', 'references', 'venue_name']\n",
        "for col in p_cols:\n",
        "  str2list(papers, col)"
      ]
    },
    {
      "cell_type": "code",
      "execution_count": null,
      "metadata": {
        "colab": {
          "base_uri": "https://localhost:8080/"
        },
        "id": "to3Kl3krgdG1",
        "outputId": "74e6096f-9581-47c6-92b4-2d1650611255"
      },
      "outputs": [
        {
          "data": {
            "text/html": [
              "\n",
              "  <div id=\"df-7cea3433-3aca-4866-a5a7-3888a540561f\">\n",
              "    <div class=\"colab-df-container\">\n",
              "      <div>\n",
              "<style scoped>\n",
              "    .dataframe tbody tr th:only-of-type {\n",
              "        vertical-align: middle;\n",
              "    }\n",
              "\n",
              "    .dataframe tbody tr th {\n",
              "        vertical-align: top;\n",
              "    }\n",
              "\n",
              "    .dataframe thead th {\n",
              "        text-align: right;\n",
              "    }\n",
              "</style>\n",
              "<table border=\"1\" class=\"dataframe\">\n",
              "  <thead>\n",
              "    <tr style=\"text-align: right;\">\n",
              "      <th></th>\n",
              "      <th>index_p</th>\n",
              "      <th>index_a</th>\n",
              "      <th>year</th>\n",
              "      <th>references</th>\n",
              "      <th>venue_name</th>\n",
              "      <th>abnormal</th>\n",
              "    </tr>\n",
              "  </thead>\n",
              "  <tbody>\n",
              "    <tr>\n",
              "      <th>0</th>\n",
              "      <td>p1000022</td>\n",
              "      <td>[a1641825]</td>\n",
              "      <td>2007</td>\n",
              "      <td></td>\n",
              "      <td></td>\n",
              "      <td>0</td>\n",
              "    </tr>\n",
              "    <tr>\n",
              "      <th>1</th>\n",
              "      <td>p1000023</td>\n",
              "      <td>[a1642199]</td>\n",
              "      <td>2007</td>\n",
              "      <td></td>\n",
              "      <td></td>\n",
              "      <td>0</td>\n",
              "    </tr>\n",
              "    <tr>\n",
              "      <th>2</th>\n",
              "      <td>p1000028</td>\n",
              "      <td>[a1558799, a1654966, a830738]</td>\n",
              "      <td>2007</td>\n",
              "      <td></td>\n",
              "      <td></td>\n",
              "      <td>0</td>\n",
              "    </tr>\n",
              "  </tbody>\n",
              "</table>\n",
              "</div>\n",
              "      <button class=\"colab-df-convert\" onclick=\"convertToInteractive('df-7cea3433-3aca-4866-a5a7-3888a540561f')\"\n",
              "              title=\"Convert this dataframe to an interactive table.\"\n",
              "              style=\"display:none;\">\n",
              "        \n",
              "  <svg xmlns=\"http://www.w3.org/2000/svg\" height=\"24px\"viewBox=\"0 0 24 24\"\n",
              "       width=\"24px\">\n",
              "    <path d=\"M0 0h24v24H0V0z\" fill=\"none\"/>\n",
              "    <path d=\"M18.56 5.44l.94 2.06.94-2.06 2.06-.94-2.06-.94-.94-2.06-.94 2.06-2.06.94zm-11 1L8.5 8.5l.94-2.06 2.06-.94-2.06-.94L8.5 2.5l-.94 2.06-2.06.94zm10 10l.94 2.06.94-2.06 2.06-.94-2.06-.94-.94-2.06-.94 2.06-2.06.94z\"/><path d=\"M17.41 7.96l-1.37-1.37c-.4-.4-.92-.59-1.43-.59-.52 0-1.04.2-1.43.59L10.3 9.45l-7.72 7.72c-.78.78-.78 2.05 0 2.83L4 21.41c.39.39.9.59 1.41.59.51 0 1.02-.2 1.41-.59l7.78-7.78 2.81-2.81c.8-.78.8-2.07 0-2.86zM5.41 20L4 18.59l7.72-7.72 1.47 1.35L5.41 20z\"/>\n",
              "  </svg>\n",
              "      </button>\n",
              "      \n",
              "  <style>\n",
              "    .colab-df-container {\n",
              "      display:flex;\n",
              "      flex-wrap:wrap;\n",
              "      gap: 12px;\n",
              "    }\n",
              "\n",
              "    .colab-df-convert {\n",
              "      background-color: #E8F0FE;\n",
              "      border: none;\n",
              "      border-radius: 50%;\n",
              "      cursor: pointer;\n",
              "      display: none;\n",
              "      fill: #1967D2;\n",
              "      height: 32px;\n",
              "      padding: 0 0 0 0;\n",
              "      width: 32px;\n",
              "    }\n",
              "\n",
              "    .colab-df-convert:hover {\n",
              "      background-color: #E2EBFA;\n",
              "      box-shadow: 0px 1px 2px rgba(60, 64, 67, 0.3), 0px 1px 3px 1px rgba(60, 64, 67, 0.15);\n",
              "      fill: #174EA6;\n",
              "    }\n",
              "\n",
              "    [theme=dark] .colab-df-convert {\n",
              "      background-color: #3B4455;\n",
              "      fill: #D2E3FC;\n",
              "    }\n",
              "\n",
              "    [theme=dark] .colab-df-convert:hover {\n",
              "      background-color: #434B5C;\n",
              "      box-shadow: 0px 1px 3px 1px rgba(0, 0, 0, 0.15);\n",
              "      filter: drop-shadow(0px 1px 2px rgba(0, 0, 0, 0.3));\n",
              "      fill: #FFFFFF;\n",
              "    }\n",
              "  </style>\n",
              "\n",
              "      <script>\n",
              "        const buttonEl =\n",
              "          document.querySelector('#df-7cea3433-3aca-4866-a5a7-3888a540561f button.colab-df-convert');\n",
              "        buttonEl.style.display =\n",
              "          google.colab.kernel.accessAllowed ? 'block' : 'none';\n",
              "\n",
              "        async function convertToInteractive(key) {\n",
              "          const element = document.querySelector('#df-7cea3433-3aca-4866-a5a7-3888a540561f');\n",
              "          const dataTable =\n",
              "            await google.colab.kernel.invokeFunction('convertToInteractive',\n",
              "                                                     [key], {});\n",
              "          if (!dataTable) return;\n",
              "\n",
              "          const docLinkHtml = 'Like what you see? Visit the ' +\n",
              "            '<a target=\"_blank\" href=https://colab.research.google.com/notebooks/data_table.ipynb>data table notebook</a>'\n",
              "            + ' to learn more about interactive tables.';\n",
              "          element.innerHTML = '';\n",
              "          dataTable['output_type'] = 'display_data';\n",
              "          await google.colab.output.renderOutput(dataTable, element);\n",
              "          const docLink = document.createElement('div');\n",
              "          docLink.innerHTML = docLinkHtml;\n",
              "          element.appendChild(docLink);\n",
              "        }\n",
              "      </script>\n",
              "    </div>\n",
              "  </div>\n",
              "  "
            ],
            "text/plain": [
              "    index_p                        index_a  year references venue_name  \\\n",
              "0  p1000022                     [a1641825]  2007                         \n",
              "1  p1000023                     [a1642199]  2007                         \n",
              "2  p1000028  [a1558799, a1654966, a830738]  2007                         \n",
              "\n",
              "   abnormal  \n",
              "0         0  \n",
              "1         0  \n",
              "2         0  "
            ]
          },
          "execution_count": 10,
          "metadata": {},
          "output_type": "execute_result"
        }
      ],
      "source": [
        "papers['index_a'] = papers['index_a'].transform(lambda x: '' if x == ['-'] else x)\n",
        "papers['references'] = papers['references'].transform(lambda x: '' if x == ['-'] else x)\n",
        "papers['venue_name'] = papers['venue_name'].transform(lambda x: '' if x == ['-'] else x)\n",
        "papers.head(3)"
      ]
    },
    {
      "cell_type": "code",
      "execution_count": null,
      "metadata": {
        "colab": {
          "base_uri": "https://localhost:8080/"
        },
        "id": "Mmv9KizCgf7Q",
        "outputId": "9ab8fd0f-148c-4dc0-bdd7-63c87f50da39"
      },
      "outputs": [
        {
          "data": {
            "text/html": [
              "\n",
              "  <div id=\"df-1f7c88dd-57f6-4f78-a609-0a2e8fe23ec4\">\n",
              "    <div class=\"colab-df-container\">\n",
              "      <div>\n",
              "<style scoped>\n",
              "    .dataframe tbody tr th:only-of-type {\n",
              "        vertical-align: middle;\n",
              "    }\n",
              "\n",
              "    .dataframe tbody tr th {\n",
              "        vertical-align: top;\n",
              "    }\n",
              "\n",
              "    .dataframe thead th {\n",
              "        text-align: right;\n",
              "    }\n",
              "</style>\n",
              "<table border=\"1\" class=\"dataframe\">\n",
              "  <thead>\n",
              "    <tr style=\"text-align: right;\">\n",
              "      <th></th>\n",
              "      <th>index_a</th>\n",
              "      <th>index_p</th>\n",
              "      <th>interest</th>\n",
              "      <th>venue_name</th>\n",
              "      <th>abnormal</th>\n",
              "      <th>co_authors</th>\n",
              "    </tr>\n",
              "  </thead>\n",
              "  <tbody>\n",
              "    <tr>\n",
              "      <th>0</th>\n",
              "      <td>a100</td>\n",
              "      <td>[p1853556]</td>\n",
              "      <td>['networked', 'technology', 'work', 'practice'...</td>\n",
              "      <td></td>\n",
              "      <td>0</td>\n",
              "      <td></td>\n",
              "    </tr>\n",
              "    <tr>\n",
              "      <th>1</th>\n",
              "      <td>a1000000</td>\n",
              "      <td>[p1608103]</td>\n",
              "      <td>['asynchronous', 'task', 'OpenMP', 'implementa...</td>\n",
              "      <td></td>\n",
              "      <td>0</td>\n",
              "      <td>[a1145211, a937524]</td>\n",
              "    </tr>\n",
              "    <tr>\n",
              "      <th>2</th>\n",
              "      <td>a1000005</td>\n",
              "      <td>[p1613472]</td>\n",
              "      <td>['automatic', 'segmentation', 'automatic', 've...</td>\n",
              "      <td></td>\n",
              "      <td>0</td>\n",
              "      <td></td>\n",
              "    </tr>\n",
              "  </tbody>\n",
              "</table>\n",
              "</div>\n",
              "      <button class=\"colab-df-convert\" onclick=\"convertToInteractive('df-1f7c88dd-57f6-4f78-a609-0a2e8fe23ec4')\"\n",
              "              title=\"Convert this dataframe to an interactive table.\"\n",
              "              style=\"display:none;\">\n",
              "        \n",
              "  <svg xmlns=\"http://www.w3.org/2000/svg\" height=\"24px\"viewBox=\"0 0 24 24\"\n",
              "       width=\"24px\">\n",
              "    <path d=\"M0 0h24v24H0V0z\" fill=\"none\"/>\n",
              "    <path d=\"M18.56 5.44l.94 2.06.94-2.06 2.06-.94-2.06-.94-.94-2.06-.94 2.06-2.06.94zm-11 1L8.5 8.5l.94-2.06 2.06-.94-2.06-.94L8.5 2.5l-.94 2.06-2.06.94zm10 10l.94 2.06.94-2.06 2.06-.94-2.06-.94-.94-2.06-.94 2.06-2.06.94z\"/><path d=\"M17.41 7.96l-1.37-1.37c-.4-.4-.92-.59-1.43-.59-.52 0-1.04.2-1.43.59L10.3 9.45l-7.72 7.72c-.78.78-.78 2.05 0 2.83L4 21.41c.39.39.9.59 1.41.59.51 0 1.02-.2 1.41-.59l7.78-7.78 2.81-2.81c.8-.78.8-2.07 0-2.86zM5.41 20L4 18.59l7.72-7.72 1.47 1.35L5.41 20z\"/>\n",
              "  </svg>\n",
              "      </button>\n",
              "      \n",
              "  <style>\n",
              "    .colab-df-container {\n",
              "      display:flex;\n",
              "      flex-wrap:wrap;\n",
              "      gap: 12px;\n",
              "    }\n",
              "\n",
              "    .colab-df-convert {\n",
              "      background-color: #E8F0FE;\n",
              "      border: none;\n",
              "      border-radius: 50%;\n",
              "      cursor: pointer;\n",
              "      display: none;\n",
              "      fill: #1967D2;\n",
              "      height: 32px;\n",
              "      padding: 0 0 0 0;\n",
              "      width: 32px;\n",
              "    }\n",
              "\n",
              "    .colab-df-convert:hover {\n",
              "      background-color: #E2EBFA;\n",
              "      box-shadow: 0px 1px 2px rgba(60, 64, 67, 0.3), 0px 1px 3px 1px rgba(60, 64, 67, 0.15);\n",
              "      fill: #174EA6;\n",
              "    }\n",
              "\n",
              "    [theme=dark] .colab-df-convert {\n",
              "      background-color: #3B4455;\n",
              "      fill: #D2E3FC;\n",
              "    }\n",
              "\n",
              "    [theme=dark] .colab-df-convert:hover {\n",
              "      background-color: #434B5C;\n",
              "      box-shadow: 0px 1px 3px 1px rgba(0, 0, 0, 0.15);\n",
              "      filter: drop-shadow(0px 1px 2px rgba(0, 0, 0, 0.3));\n",
              "      fill: #FFFFFF;\n",
              "    }\n",
              "  </style>\n",
              "\n",
              "      <script>\n",
              "        const buttonEl =\n",
              "          document.querySelector('#df-1f7c88dd-57f6-4f78-a609-0a2e8fe23ec4 button.colab-df-convert');\n",
              "        buttonEl.style.display =\n",
              "          google.colab.kernel.accessAllowed ? 'block' : 'none';\n",
              "\n",
              "        async function convertToInteractive(key) {\n",
              "          const element = document.querySelector('#df-1f7c88dd-57f6-4f78-a609-0a2e8fe23ec4');\n",
              "          const dataTable =\n",
              "            await google.colab.kernel.invokeFunction('convertToInteractive',\n",
              "                                                     [key], {});\n",
              "          if (!dataTable) return;\n",
              "\n",
              "          const docLinkHtml = 'Like what you see? Visit the ' +\n",
              "            '<a target=\"_blank\" href=https://colab.research.google.com/notebooks/data_table.ipynb>data table notebook</a>'\n",
              "            + ' to learn more about interactive tables.';\n",
              "          element.innerHTML = '';\n",
              "          dataTable['output_type'] = 'display_data';\n",
              "          await google.colab.output.renderOutput(dataTable, element);\n",
              "          const docLink = document.createElement('div');\n",
              "          docLink.innerHTML = docLinkHtml;\n",
              "          element.appendChild(docLink);\n",
              "        }\n",
              "      </script>\n",
              "    </div>\n",
              "  </div>\n",
              "  "
            ],
            "text/plain": [
              "    index_a     index_p                                           interest  \\\n",
              "0      a100  [p1853556]  ['networked', 'technology', 'work', 'practice'...   \n",
              "1  a1000000  [p1608103]  ['asynchronous', 'task', 'OpenMP', 'implementa...   \n",
              "2  a1000005  [p1613472]  ['automatic', 'segmentation', 'automatic', 've...   \n",
              "\n",
              "  venue_name  abnormal           co_authors  \n",
              "0                    0                       \n",
              "1                    0  [a1145211, a937524]  \n",
              "2                    0                       "
            ]
          },
          "execution_count": 11,
          "metadata": {},
          "output_type": "execute_result"
        }
      ],
      "source": [
        "authors['index_p'] = authors['index_p'].transform(lambda x: '' if x == ['-'] else x)\n",
        "authors['co_authors'] = authors['co_authors'].transform(lambda x: '' if x == ['-'] else x)\n",
        "authors['venue_name'] = authors['venue_name'].transform(lambda x: '' if x == ['-'] else x)\n",
        "authors.head(3)"
      ]
    },
    {
      "cell_type": "code",
      "execution_count": null,
      "metadata": {
        "colab": {
          "base_uri": "https://localhost:8080/"
        },
        "id": "bHazqfamggAh",
        "outputId": "949f716e-b4d7-4704-ca13-b15b8c428de2"
      },
      "outputs": [
        {
          "data": {
            "text/html": [
              "\n",
              "  <div id=\"df-bbab3149-1055-4cf5-9a64-7ba6628242dc\">\n",
              "    <div class=\"colab-df-container\">\n",
              "      <div>\n",
              "<style scoped>\n",
              "    .dataframe tbody tr th:only-of-type {\n",
              "        vertical-align: middle;\n",
              "    }\n",
              "\n",
              "    .dataframe tbody tr th {\n",
              "        vertical-align: top;\n",
              "    }\n",
              "\n",
              "    .dataframe thead th {\n",
              "        text-align: right;\n",
              "    }\n",
              "</style>\n",
              "<table border=\"1\" class=\"dataframe\">\n",
              "  <thead>\n",
              "    <tr style=\"text-align: right;\">\n",
              "      <th></th>\n",
              "      <th>venue_name</th>\n",
              "      <th>index_p</th>\n",
              "      <th>index_a</th>\n",
              "    </tr>\n",
              "  </thead>\n",
              "  <tbody>\n",
              "    <tr>\n",
              "      <th>0</th>\n",
              "      <td>v1</td>\n",
              "      <td>[p1304711, p954849, p2034776, p1002497, p16793...</td>\n",
              "      <td>[a1617363, a1085914, a1453204, a1289832, a1007...</td>\n",
              "    </tr>\n",
              "    <tr>\n",
              "      <th>1</th>\n",
              "      <td>v10</td>\n",
              "      <td>[p2012819, p1526732, p1224795, p1911661, p1960...</td>\n",
              "      <td>[a1006833, a114793, a1641427, a488688, a105204...</td>\n",
              "    </tr>\n",
              "    <tr>\n",
              "      <th>2</th>\n",
              "      <td>v100</td>\n",
              "      <td>[p1476514, p1476445, p1476500, p1476455, p1476...</td>\n",
              "      <td>[a953745, a1282951, a1284117, a1284426, a12411...</td>\n",
              "    </tr>\n",
              "  </tbody>\n",
              "</table>\n",
              "</div>\n",
              "      <button class=\"colab-df-convert\" onclick=\"convertToInteractive('df-bbab3149-1055-4cf5-9a64-7ba6628242dc')\"\n",
              "              title=\"Convert this dataframe to an interactive table.\"\n",
              "              style=\"display:none;\">\n",
              "        \n",
              "  <svg xmlns=\"http://www.w3.org/2000/svg\" height=\"24px\"viewBox=\"0 0 24 24\"\n",
              "       width=\"24px\">\n",
              "    <path d=\"M0 0h24v24H0V0z\" fill=\"none\"/>\n",
              "    <path d=\"M18.56 5.44l.94 2.06.94-2.06 2.06-.94-2.06-.94-.94-2.06-.94 2.06-2.06.94zm-11 1L8.5 8.5l.94-2.06 2.06-.94-2.06-.94L8.5 2.5l-.94 2.06-2.06.94zm10 10l.94 2.06.94-2.06 2.06-.94-2.06-.94-.94-2.06-.94 2.06-2.06.94z\"/><path d=\"M17.41 7.96l-1.37-1.37c-.4-.4-.92-.59-1.43-.59-.52 0-1.04.2-1.43.59L10.3 9.45l-7.72 7.72c-.78.78-.78 2.05 0 2.83L4 21.41c.39.39.9.59 1.41.59.51 0 1.02-.2 1.41-.59l7.78-7.78 2.81-2.81c.8-.78.8-2.07 0-2.86zM5.41 20L4 18.59l7.72-7.72 1.47 1.35L5.41 20z\"/>\n",
              "  </svg>\n",
              "      </button>\n",
              "      \n",
              "  <style>\n",
              "    .colab-df-container {\n",
              "      display:flex;\n",
              "      flex-wrap:wrap;\n",
              "      gap: 12px;\n",
              "    }\n",
              "\n",
              "    .colab-df-convert {\n",
              "      background-color: #E8F0FE;\n",
              "      border: none;\n",
              "      border-radius: 50%;\n",
              "      cursor: pointer;\n",
              "      display: none;\n",
              "      fill: #1967D2;\n",
              "      height: 32px;\n",
              "      padding: 0 0 0 0;\n",
              "      width: 32px;\n",
              "    }\n",
              "\n",
              "    .colab-df-convert:hover {\n",
              "      background-color: #E2EBFA;\n",
              "      box-shadow: 0px 1px 2px rgba(60, 64, 67, 0.3), 0px 1px 3px 1px rgba(60, 64, 67, 0.15);\n",
              "      fill: #174EA6;\n",
              "    }\n",
              "\n",
              "    [theme=dark] .colab-df-convert {\n",
              "      background-color: #3B4455;\n",
              "      fill: #D2E3FC;\n",
              "    }\n",
              "\n",
              "    [theme=dark] .colab-df-convert:hover {\n",
              "      background-color: #434B5C;\n",
              "      box-shadow: 0px 1px 3px 1px rgba(0, 0, 0, 0.15);\n",
              "      filter: drop-shadow(0px 1px 2px rgba(0, 0, 0, 0.3));\n",
              "      fill: #FFFFFF;\n",
              "    }\n",
              "  </style>\n",
              "\n",
              "      <script>\n",
              "        const buttonEl =\n",
              "          document.querySelector('#df-bbab3149-1055-4cf5-9a64-7ba6628242dc button.colab-df-convert');\n",
              "        buttonEl.style.display =\n",
              "          google.colab.kernel.accessAllowed ? 'block' : 'none';\n",
              "\n",
              "        async function convertToInteractive(key) {\n",
              "          const element = document.querySelector('#df-bbab3149-1055-4cf5-9a64-7ba6628242dc');\n",
              "          const dataTable =\n",
              "            await google.colab.kernel.invokeFunction('convertToInteractive',\n",
              "                                                     [key], {});\n",
              "          if (!dataTable) return;\n",
              "\n",
              "          const docLinkHtml = 'Like what you see? Visit the ' +\n",
              "            '<a target=\"_blank\" href=https://colab.research.google.com/notebooks/data_table.ipynb>data table notebook</a>'\n",
              "            + ' to learn more about interactive tables.';\n",
              "          element.innerHTML = '';\n",
              "          dataTable['output_type'] = 'display_data';\n",
              "          await google.colab.output.renderOutput(dataTable, element);\n",
              "          const docLink = document.createElement('div');\n",
              "          docLink.innerHTML = docLinkHtml;\n",
              "          element.appendChild(docLink);\n",
              "        }\n",
              "      </script>\n",
              "    </div>\n",
              "  </div>\n",
              "  "
            ],
            "text/plain": [
              "  venue_name                                            index_p  \\\n",
              "0         v1  [p1304711, p954849, p2034776, p1002497, p16793...   \n",
              "1        v10  [p2012819, p1526732, p1224795, p1911661, p1960...   \n",
              "2       v100  [p1476514, p1476445, p1476500, p1476455, p1476...   \n",
              "\n",
              "                                             index_a  \n",
              "0  [a1617363, a1085914, a1453204, a1289832, a1007...  \n",
              "1  [a1006833, a114793, a1641427, a488688, a105204...  \n",
              "2  [a953745, a1282951, a1284117, a1284426, a12411...  "
            ]
          },
          "execution_count": 12,
          "metadata": {},
          "output_type": "execute_result"
        }
      ],
      "source": [
        "venues = venues[1:].reset_index(drop=True)\n",
        "venues.head(3)"
      ]
    },
    {
      "cell_type": "code",
      "execution_count": null,
      "metadata": {
        "colab": {
          "base_uri": "https://localhost:8080/"
        },
        "id": "9kbnJZSMggHZ",
        "outputId": "ddc76975-1184-40f2-88c2-f451d41da986"
      },
      "outputs": [
        {
          "data": {
            "text/html": [
              "\n",
              "  <div id=\"df-1b6e6897-eb4c-4ae3-9aad-74b08afcafe8\">\n",
              "    <div class=\"colab-df-container\">\n",
              "      <div>\n",
              "<style scoped>\n",
              "    .dataframe tbody tr th:only-of-type {\n",
              "        vertical-align: middle;\n",
              "    }\n",
              "\n",
              "    .dataframe tbody tr th {\n",
              "        vertical-align: top;\n",
              "    }\n",
              "\n",
              "    .dataframe thead th {\n",
              "        text-align: right;\n",
              "    }\n",
              "</style>\n",
              "<table border=\"1\" class=\"dataframe\">\n",
              "  <thead>\n",
              "    <tr style=\"text-align: right;\">\n",
              "      <th></th>\n",
              "      <th>auth_1</th>\n",
              "      <th>auth_2</th>\n",
              "      <th>counts</th>\n",
              "    </tr>\n",
              "  </thead>\n",
              "  <tbody>\n",
              "    <tr>\n",
              "      <th>0</th>\n",
              "      <td>a111806</td>\n",
              "      <td>a977442</td>\n",
              "      <td>246</td>\n",
              "    </tr>\n",
              "    <tr>\n",
              "      <th>1</th>\n",
              "      <td>a111806</td>\n",
              "      <td>a966551</td>\n",
              "      <td>246</td>\n",
              "    </tr>\n",
              "    <tr>\n",
              "      <th>2</th>\n",
              "      <td>a966551</td>\n",
              "      <td>a977442</td>\n",
              "      <td>246</td>\n",
              "    </tr>\n",
              "    <tr>\n",
              "      <th>3</th>\n",
              "      <td>a215655</td>\n",
              "      <td>a529794</td>\n",
              "      <td>72</td>\n",
              "    </tr>\n",
              "    <tr>\n",
              "      <th>4</th>\n",
              "      <td>a1162933</td>\n",
              "      <td>a839667</td>\n",
              "      <td>57</td>\n",
              "    </tr>\n",
              "  </tbody>\n",
              "</table>\n",
              "</div>\n",
              "      <button class=\"colab-df-convert\" onclick=\"convertToInteractive('df-1b6e6897-eb4c-4ae3-9aad-74b08afcafe8')\"\n",
              "              title=\"Convert this dataframe to an interactive table.\"\n",
              "              style=\"display:none;\">\n",
              "        \n",
              "  <svg xmlns=\"http://www.w3.org/2000/svg\" height=\"24px\"viewBox=\"0 0 24 24\"\n",
              "       width=\"24px\">\n",
              "    <path d=\"M0 0h24v24H0V0z\" fill=\"none\"/>\n",
              "    <path d=\"M18.56 5.44l.94 2.06.94-2.06 2.06-.94-2.06-.94-.94-2.06-.94 2.06-2.06.94zm-11 1L8.5 8.5l.94-2.06 2.06-.94-2.06-.94L8.5 2.5l-.94 2.06-2.06.94zm10 10l.94 2.06.94-2.06 2.06-.94-2.06-.94-.94-2.06-.94 2.06-2.06.94z\"/><path d=\"M17.41 7.96l-1.37-1.37c-.4-.4-.92-.59-1.43-.59-.52 0-1.04.2-1.43.59L10.3 9.45l-7.72 7.72c-.78.78-.78 2.05 0 2.83L4 21.41c.39.39.9.59 1.41.59.51 0 1.02-.2 1.41-.59l7.78-7.78 2.81-2.81c.8-.78.8-2.07 0-2.86zM5.41 20L4 18.59l7.72-7.72 1.47 1.35L5.41 20z\"/>\n",
              "  </svg>\n",
              "      </button>\n",
              "      \n",
              "  <style>\n",
              "    .colab-df-container {\n",
              "      display:flex;\n",
              "      flex-wrap:wrap;\n",
              "      gap: 12px;\n",
              "    }\n",
              "\n",
              "    .colab-df-convert {\n",
              "      background-color: #E8F0FE;\n",
              "      border: none;\n",
              "      border-radius: 50%;\n",
              "      cursor: pointer;\n",
              "      display: none;\n",
              "      fill: #1967D2;\n",
              "      height: 32px;\n",
              "      padding: 0 0 0 0;\n",
              "      width: 32px;\n",
              "    }\n",
              "\n",
              "    .colab-df-convert:hover {\n",
              "      background-color: #E2EBFA;\n",
              "      box-shadow: 0px 1px 2px rgba(60, 64, 67, 0.3), 0px 1px 3px 1px rgba(60, 64, 67, 0.15);\n",
              "      fill: #174EA6;\n",
              "    }\n",
              "\n",
              "    [theme=dark] .colab-df-convert {\n",
              "      background-color: #3B4455;\n",
              "      fill: #D2E3FC;\n",
              "    }\n",
              "\n",
              "    [theme=dark] .colab-df-convert:hover {\n",
              "      background-color: #434B5C;\n",
              "      box-shadow: 0px 1px 3px 1px rgba(0, 0, 0, 0.15);\n",
              "      filter: drop-shadow(0px 1px 2px rgba(0, 0, 0, 0.3));\n",
              "      fill: #FFFFFF;\n",
              "    }\n",
              "  </style>\n",
              "\n",
              "      <script>\n",
              "        const buttonEl =\n",
              "          document.querySelector('#df-1b6e6897-eb4c-4ae3-9aad-74b08afcafe8 button.colab-df-convert');\n",
              "        buttonEl.style.display =\n",
              "          google.colab.kernel.accessAllowed ? 'block' : 'none';\n",
              "\n",
              "        async function convertToInteractive(key) {\n",
              "          const element = document.querySelector('#df-1b6e6897-eb4c-4ae3-9aad-74b08afcafe8');\n",
              "          const dataTable =\n",
              "            await google.colab.kernel.invokeFunction('convertToInteractive',\n",
              "                                                     [key], {});\n",
              "          if (!dataTable) return;\n",
              "\n",
              "          const docLinkHtml = 'Like what you see? Visit the ' +\n",
              "            '<a target=\"_blank\" href=https://colab.research.google.com/notebooks/data_table.ipynb>data table notebook</a>'\n",
              "            + ' to learn more about interactive tables.';\n",
              "          element.innerHTML = '';\n",
              "          dataTable['output_type'] = 'display_data';\n",
              "          await google.colab.output.renderOutput(dataTable, element);\n",
              "          const docLink = document.createElement('div');\n",
              "          docLink.innerHTML = docLinkHtml;\n",
              "          element.appendChild(docLink);\n",
              "        }\n",
              "      </script>\n",
              "    </div>\n",
              "  </div>\n",
              "  "
            ],
            "text/plain": [
              "     auth_1   auth_2  counts\n",
              "0   a111806  a977442     246\n",
              "1   a111806  a966551     246\n",
              "2   a966551  a977442     246\n",
              "3   a215655  a529794      72\n",
              "4  a1162933  a839667      57"
            ]
          },
          "execution_count": 13,
          "metadata": {},
          "output_type": "execute_result"
        }
      ],
      "source": [
        "contribution['auth'] = contribution['auth'].apply(lambda x: x.replace(\"(\", \"\").replace(\")\", \"\").replace(\"'\", \"\").replace(\" \", \"\"))\n",
        "contribute = pd.DataFrame(contribution.auth.str.split(',',1).tolist(), columns = ['auth_1','auth_2'])\n",
        "contribute['counts'] =  contribution['counts']\n",
        "contribute.head()"
      ]
    },
    {
      "cell_type": "code",
      "execution_count": null,
      "metadata": {
        "id": "ChHidX6QzsH_"
      },
      "outputs": [],
      "source": [
        "def random_choice(series, idx_current):\n",
        "  if (len(series.iloc[idx_current]) != 0):\n",
        "    return random.choice(series.iloc[idx_current])"
      ]
    },
    {
      "cell_type": "code",
      "execution_count": null,
      "metadata": {
        "id": "VL1O0570b6bJ"
      },
      "outputs": [],
      "source": [
        "# SPLIT EACH CLIQUE TO PAPER AND AUTHOR NODES\n",
        "def separated(lis):\n",
        "  a_list = []\n",
        "  p_list = []\n",
        "  v_list = []\n",
        "\n",
        "  for j in range(len(lis)):\n",
        "    if lis[j][0] == 'a':\n",
        "      a_list.append(lis[j])\n",
        "    if lis[j][0] == 'p':\n",
        "      p_list.append(lis[j])\n",
        "    if lis[j][0] == 'v':\n",
        "      v_list.append(lis[j])\n",
        "  return (a_list, p_list, v_list)"
      ]
    },
    {
      "cell_type": "code",
      "execution_count": null,
      "metadata": {
        "id": "dZz2vselcA3V"
      },
      "outputs": [],
      "source": [
        "def sampled(a_list, a_sample, p_list, p_sample, v_list, v_sample, start_node):\n",
        "\n",
        "  def top_k(common, common_1, common_2, k):\n",
        "    top_node = []\n",
        "    if len(common) == 0:\n",
        "      lis = common_1 + common_2\n",
        "      common = np.random.choice(lis, k)\n",
        "\n",
        "    for item in common:\n",
        "      top_node.append(item)\n",
        "    while len(top_node) != k:\n",
        "      ch = random.choice(common)\n",
        "      top_node.append(ch)\n",
        "    return top_node\n",
        "\n",
        "  common_a = [x[0] for x in Counter(a_list).most_common(a_sample)]\n",
        "  common_p = [x[0] for x in Counter(p_list).most_common(p_sample)]\n",
        "  common_v = [x[0] for x in Counter(v_list).most_common(v_sample)]\n",
        "\n",
        "  sample = [start_node]\n",
        "  top_a = top_k(common_a, common_p, common_v, a_sample)\n",
        "  sample.extend(top_a)\n",
        "  top_p = top_k(common_p, common_a, common_v, p_sample)\n",
        "  sample.extend(top_p)\n",
        "  top_v = top_k(common_v, common_p, common_a, v_sample)\n",
        "  sample.extend(top_v)\n",
        "  return(sample)\n"
      ]
    },
    {
      "cell_type": "code",
      "execution_count": null,
      "metadata": {
        "colab": {
          "base_uri": "https://localhost:8080/"
        },
        "id": "Vk-OHk2wDsuW",
        "outputId": "f78b3c74-ac52-4da6-b6b0-1f82ba5d82d7"
      },
      "outputs": [
        {
          "data": {
            "text/plain": [
              "227834"
            ]
          },
          "execution_count": 17,
          "metadata": {},
          "output_type": "execute_result"
        }
      ],
      "source": [
        "len(authors['index_a'])"
      ]
    },
    {
      "cell_type": "code",
      "execution_count": null,
      "metadata": {
        "colab": {
          "base_uri": "https://localhost:8080/"
        },
        "id": "OSIjQwZMa32u",
        "outputId": "49100f19-3331-4b54-e636-5ab50473f4bb"
      },
      "outputs": [
        {
          "output_type": "stream",
          "name": "stdout",
          "text": [
            "100\n",
            "200\n",
            "300\n",
            "400\n",
            "500\n",
            "600\n",
            "700\n",
            "800\n",
            "900\n",
            "1000\n",
            "1100\n",
            "1200\n",
            "1300\n",
            "1400\n"
          ]
        }
      ],
      "source": [
        "phase = authors[16000:20000]\n",
        "\n",
        "neigh_auth = ['author', 'paper', 'venue']\n",
        "neigh_paper = ['author', 'paper', 'venue']\n",
        "neigh_venue = ['author', 'paper']\n",
        "types = [authors, papers, venues]\n",
        "col_index = ['index_a', 'index_p', 'venue_name']\n",
        "\n",
        "with open(data_path+'AMiner_Walks_a_20000.txt', 'w') as textfile:\n",
        "  j = 0\n",
        "  for idx, rows in phase.iterrows():\n",
        "    node_walk = []\n",
        "    start = rows['index_a']\n",
        "    current = start\n",
        "    node_walk.append(current)\n",
        "    while len(node_walk) < walk_length:\n",
        "      prob = random.random()\n",
        "      if prob > 0.5:\n",
        "        if current[0] == 'a':\n",
        "          idx_current = types[0].index[authors['index_a'] == current][0]\n",
        "          choose = random.choice(neigh_auth)\n",
        "          if choose == 'author':\n",
        "            current = random_choice(authors['co_authors'], idx_current)\n",
        "          elif choose == 'paper':\n",
        "            current = random_choice(authors['index_p'], idx_current)\n",
        "          elif choose == 'venue':\n",
        "            current = random_choice(authors['venue_name'], idx_current)\n",
        "\n",
        "        elif current[0] == 'p':\n",
        "          idx_current = papers.index[papers['index_p'] == current][0]\n",
        "          choose = random.choice(neigh_paper)\n",
        "          if choose == 'author':\n",
        "            current = random_choice(papers['index_a'], idx_current)\n",
        "          elif choose == 'paper':\n",
        "            current = random_choice(papers['references'], idx_current)\n",
        "          elif choose == 'venue':\n",
        "            current = random_choice(papers['venue_name'], idx_current)\n",
        "\n",
        "        elif current[0] == 'v':\n",
        "          idx_current = venues.index[venues['venue_name'] == current][0]\n",
        "          choose = random.choice(neigh_venue)\n",
        "          if choose == 'author':\n",
        "            current = random_choice(venues['index_a'], idx_current)\n",
        "          elif choose == 'paper':\n",
        "            current = random_choice(venues['index_p'], idx_current)\n",
        "\n",
        "      else:\n",
        "        current = start\n",
        "      if current == None:\n",
        "        current = node_walk[-1]\n",
        "      node_walk.append(current)\n",
        "        # print(current)    \n",
        "    temp = []\n",
        "    for i in range(len(node_walk)-1):\n",
        "      temp.append(node_walk[i])\n",
        "      if (node_walk[i][0] == 'a') and (node_walk[i+1][0] == 'a'):\n",
        "        filter = (contribute['auth_1'] == node_walk[i]) & (contribute['auth_2'] == node_walk[i+1])\n",
        "        idx = contribute[filter].index.values\n",
        "        cont = contribute['counts'].iloc[idx].values\n",
        "        if len(cont) != 0:\n",
        "          repeated = cont[0]\n",
        "          temp.extend([node_walk[i+1]]*(repeated - 1))\n",
        "\n",
        "    (a_list, p_list, v_list) = separated(temp)\n",
        "    samples = sampled(a_list, a_top, p_list, p_top, v_list, v_top, node_walk[0])\n",
        "    j += 1\n",
        "    # print(samples)\n",
        "    textfile.write(str(samples) + \"\\n\")\n",
        "    if j%100 == 0:\n",
        "      print(j)\n",
        "textfile.close()"
      ]
    },
    {
      "cell_type": "code",
      "execution_count": null,
      "metadata": {
        "colab": {
          "background_save": true
        },
        "id": "mCtAXoyl837O"
      },
      "outputs": [],
      "source": [
        "# textfile = open(data_path + \"AMiner_Walks.txt\", \"w\")\n",
        "\n",
        "# neigh_auth = ['author', 'paper', 'venue']\n",
        "# neigh_paper = ['author', 'paper', 'venue']\n",
        "# neigh_venue = ['author', 'paper']\n",
        "# types = [authors, papers, venues]\n",
        "# col_index = ['index_a', 'index_p', 'venue_name']\n",
        "# all_walks = []\n",
        "\n",
        "# for i in range(3):\n",
        "#   type_walk = []\n",
        "#   for idx, rows in types[i].iterrows():\n",
        "#     node_walk = []\n",
        "#     start = rows[col_index[i]]\n",
        "#     current = start\n",
        "#     node_walk.append(current)\n",
        "#     while len(node_walk) < walk_length:\n",
        "#       prob = random.random()\n",
        "#       if prob > 0.5:\n",
        "#         if current[0] == 'a':\n",
        "#           idx_current = types[0].index[authors['index_a'] == current][0]\n",
        "#           choose = random.choice(neigh_auth)\n",
        "#           if choose == 'author':\n",
        "#             current = random_choice(authors['co_authors'], idx_current)\n",
        "#           elif choose == 'paper':\n",
        "#             current = random_choice(authors['index_p'], idx_current)\n",
        "#           elif choose == 'venue':\n",
        "#             current = random_choice(authors['venue_name'], idx_current)\n",
        "\n",
        "#         elif current[0] == 'p':\n",
        "#           idx_current = papers.index[papers['index_p'] == current][0]\n",
        "#           choose = random.choice(neigh_paper)\n",
        "#           if choose == 'author':\n",
        "#             current = random_choice(papers['index_a'], idx_current)\n",
        "#           elif choose == 'paper':\n",
        "#             current = random_choice(papers['references'], idx_current)\n",
        "#           elif choose == 'venue':\n",
        "#             current = random_choice(papers['venue_name'], idx_current)\n",
        "\n",
        "#         elif current[0] == 'v':\n",
        "#           idx_current = venues.index[venues['venue_name'] == current][0]\n",
        "#           choose = random.choice(neigh_venue)\n",
        "#           if choose == 'author':\n",
        "#             current = random_choice(venues['index_a'], idx_current)\n",
        "#           elif choose == 'paper':\n",
        "#             current = random_choice(venues['index_p'], idx_current)\n",
        "\n",
        "#       else:\n",
        "#         current = start\n",
        "#       if current == None:\n",
        "#         current = node_walk[-1]\n",
        "#       node_walk.append(current)\n",
        "#       # print(current)    \n",
        "#     type_walk.append(node_walk)\n",
        "#     textfile.write(str(node_walk) + \"\\n\")\n",
        "#     print(len(type_walk))\n",
        "#     # print(type_walk)\n",
        "#   print('***********************')\n",
        "#   all_walks.append(type_walk)\n",
        "# textfile.close()"
      ]
    },
    {
      "cell_type": "code",
      "execution_count": null,
      "metadata": {
        "colab": {
          "background_save": true
        },
        "id": "fx3IpsSn7L6H"
      },
      "outputs": [],
      "source": [
        "  # all_walks[2][526]"
      ]
    },
    {
      "cell_type": "code",
      "execution_count": null,
      "metadata": {
        "colab": {
          "background_save": true
        },
        "id": "R1T2AwbU_1Nk"
      },
      "outputs": [],
      "source": [
        "# textfile = open(data_path + \"AMiner_Walks.txt\", \"w\")\n",
        "# for element in all_walks:\n",
        "#   textfile.write(element + \"\\n\")\n",
        "# textfile.close()"
      ]
    },
    {
      "cell_type": "code",
      "execution_count": null,
      "metadata": {
        "colab": {
          "background_save": true
        },
        "id": "IGMFHPiLMX6V"
      },
      "outputs": [],
      "source": [
        "# venues[venues['venue_name'] == 'v12']"
      ]
    },
    {
      "cell_type": "code",
      "execution_count": null,
      "metadata": {
        "colab": {
          "background_save": true
        },
        "id": "20w-S0xtJGTQ"
      },
      "outputs": [],
      "source": [
        "# venues.head(100)"
      ]
    },
    {
      "cell_type": "code",
      "execution_count": null,
      "metadata": {
        "colab": {
          "background_save": true
        },
        "id": "5j9IhPO2jETx"
      },
      "outputs": [],
      "source": [
        "# authors[authors['index_a'] == 'a1000027']"
      ]
    }
  ],
  "metadata": {
    "colab": {
      "collapsed_sections": [],
      "provenance": [],
      "mount_file_id": "1F4c9KUE0jvPWSc85hkPfNMmGPiql-Q8F",
      "authorship_tag": "ABX9TyOusq1G15V27H8UtaM01oda",
      "include_colab_link": true
    },
    "gpuClass": "standard",
    "kernelspec": {
      "display_name": "Python 3",
      "name": "python3"
    },
    "language_info": {
      "name": "python"
    }
  },
  "nbformat": 4,
  "nbformat_minor": 0
}