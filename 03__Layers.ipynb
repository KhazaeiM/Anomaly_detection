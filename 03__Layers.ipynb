{
  "cells": [
    {
      "cell_type": "markdown",
      "metadata": {
        "id": "view-in-github",
        "colab_type": "text"
      },
      "source": [
        "<a href=\"https://colab.research.google.com/github/KhazaeiM/Anomaly_detection/blob/main/03__Layers.ipynb\" target=\"_parent\"><img src=\"https://colab.research.google.com/assets/colab-badge.svg\" alt=\"Open In Colab\"/></a>"
      ]
    },
    {
      "cell_type": "code",
      "source": [
        "from google.colab import drive\n",
        "drive.mount('/content/drive')"
      ],
      "metadata": {
        "colab": {
          "base_uri": "https://localhost:8080/"
        },
        "id": "ezonFjV2sBVk",
        "outputId": "bea95057-7c05-47f0-a840-0d5029afc83f"
      },
      "execution_count": 1,
      "outputs": [
        {
          "output_type": "stream",
          "name": "stdout",
          "text": [
            "Mounted at /content/drive\n"
          ]
        }
      ]
    },
    {
      "cell_type": "code",
      "source": [
        "!pip install dgl #-f https://data.dgl.ai/wheels/repo.html"
      ],
      "metadata": {
        "id": "nS5dKq-zmVCe",
        "colab": {
          "base_uri": "https://localhost:8080/"
        },
        "outputId": "b9ebd637-c413-4ac8-a28c-ea1917b6fd54"
      },
      "execution_count": 2,
      "outputs": [
        {
          "output_type": "stream",
          "name": "stdout",
          "text": [
            "Collecting dgl\n",
            "  Downloading dgl-2.1.0-cp310-cp310-manylinux1_x86_64.whl (8.5 MB)\n",
            "\u001b[2K     \u001b[90m━━━━━━━━━━━━━━━━━━━━━━━━━━━━━━━━━━━━━━━━\u001b[0m \u001b[32m8.5/8.5 MB\u001b[0m \u001b[31m17.9 MB/s\u001b[0m eta \u001b[36m0:00:00\u001b[0m\n",
            "\u001b[?25hRequirement already satisfied: numpy>=1.14.0 in /usr/local/lib/python3.10/dist-packages (from dgl) (1.25.2)\n",
            "Requirement already satisfied: scipy>=1.1.0 in /usr/local/lib/python3.10/dist-packages (from dgl) (1.11.4)\n",
            "Requirement already satisfied: networkx>=2.1 in /usr/local/lib/python3.10/dist-packages (from dgl) (3.3)\n",
            "Requirement already satisfied: requests>=2.19.0 in /usr/local/lib/python3.10/dist-packages (from dgl) (2.31.0)\n",
            "Requirement already satisfied: tqdm in /usr/local/lib/python3.10/dist-packages (from dgl) (4.66.4)\n",
            "Requirement already satisfied: psutil>=5.8.0 in /usr/local/lib/python3.10/dist-packages (from dgl) (5.9.5)\n",
            "Collecting torchdata>=0.5.0 (from dgl)\n",
            "  Downloading torchdata-0.7.1-cp310-cp310-manylinux_2_17_x86_64.manylinux2014_x86_64.whl (4.7 MB)\n",
            "\u001b[2K     \u001b[90m━━━━━━━━━━━━━━━━━━━━━━━━━━━━━━━━━━━━━━━━\u001b[0m \u001b[32m4.7/4.7 MB\u001b[0m \u001b[31m40.8 MB/s\u001b[0m eta \u001b[36m0:00:00\u001b[0m\n",
            "\u001b[?25hRequirement already satisfied: charset-normalizer<4,>=2 in /usr/local/lib/python3.10/dist-packages (from requests>=2.19.0->dgl) (3.3.2)\n",
            "Requirement already satisfied: idna<4,>=2.5 in /usr/local/lib/python3.10/dist-packages (from requests>=2.19.0->dgl) (3.7)\n",
            "Requirement already satisfied: urllib3<3,>=1.21.1 in /usr/local/lib/python3.10/dist-packages (from requests>=2.19.0->dgl) (2.0.7)\n",
            "Requirement already satisfied: certifi>=2017.4.17 in /usr/local/lib/python3.10/dist-packages (from requests>=2.19.0->dgl) (2024.6.2)\n",
            "Requirement already satisfied: torch>=2 in /usr/local/lib/python3.10/dist-packages (from torchdata>=0.5.0->dgl) (2.3.0+cu121)\n",
            "Requirement already satisfied: filelock in /usr/local/lib/python3.10/dist-packages (from torch>=2->torchdata>=0.5.0->dgl) (3.14.0)\n",
            "Requirement already satisfied: typing-extensions>=4.8.0 in /usr/local/lib/python3.10/dist-packages (from torch>=2->torchdata>=0.5.0->dgl) (4.12.1)\n",
            "Requirement already satisfied: sympy in /usr/local/lib/python3.10/dist-packages (from torch>=2->torchdata>=0.5.0->dgl) (1.12.1)\n",
            "Requirement already satisfied: jinja2 in /usr/local/lib/python3.10/dist-packages (from torch>=2->torchdata>=0.5.0->dgl) (3.1.4)\n",
            "Requirement already satisfied: fsspec in /usr/local/lib/python3.10/dist-packages (from torch>=2->torchdata>=0.5.0->dgl) (2023.6.0)\n",
            "Collecting nvidia-cuda-nvrtc-cu12==12.1.105 (from torch>=2->torchdata>=0.5.0->dgl)\n",
            "  Using cached nvidia_cuda_nvrtc_cu12-12.1.105-py3-none-manylinux1_x86_64.whl (23.7 MB)\n",
            "Collecting nvidia-cuda-runtime-cu12==12.1.105 (from torch>=2->torchdata>=0.5.0->dgl)\n",
            "  Using cached nvidia_cuda_runtime_cu12-12.1.105-py3-none-manylinux1_x86_64.whl (823 kB)\n",
            "Collecting nvidia-cuda-cupti-cu12==12.1.105 (from torch>=2->torchdata>=0.5.0->dgl)\n",
            "  Using cached nvidia_cuda_cupti_cu12-12.1.105-py3-none-manylinux1_x86_64.whl (14.1 MB)\n",
            "Collecting nvidia-cudnn-cu12==8.9.2.26 (from torch>=2->torchdata>=0.5.0->dgl)\n",
            "  Using cached nvidia_cudnn_cu12-8.9.2.26-py3-none-manylinux1_x86_64.whl (731.7 MB)\n",
            "Collecting nvidia-cublas-cu12==12.1.3.1 (from torch>=2->torchdata>=0.5.0->dgl)\n",
            "  Using cached nvidia_cublas_cu12-12.1.3.1-py3-none-manylinux1_x86_64.whl (410.6 MB)\n",
            "Collecting nvidia-cufft-cu12==11.0.2.54 (from torch>=2->torchdata>=0.5.0->dgl)\n",
            "  Using cached nvidia_cufft_cu12-11.0.2.54-py3-none-manylinux1_x86_64.whl (121.6 MB)\n",
            "Collecting nvidia-curand-cu12==10.3.2.106 (from torch>=2->torchdata>=0.5.0->dgl)\n",
            "  Using cached nvidia_curand_cu12-10.3.2.106-py3-none-manylinux1_x86_64.whl (56.5 MB)\n",
            "Collecting nvidia-cusolver-cu12==11.4.5.107 (from torch>=2->torchdata>=0.5.0->dgl)\n",
            "  Using cached nvidia_cusolver_cu12-11.4.5.107-py3-none-manylinux1_x86_64.whl (124.2 MB)\n",
            "Collecting nvidia-cusparse-cu12==12.1.0.106 (from torch>=2->torchdata>=0.5.0->dgl)\n",
            "  Using cached nvidia_cusparse_cu12-12.1.0.106-py3-none-manylinux1_x86_64.whl (196.0 MB)\n",
            "Collecting nvidia-nccl-cu12==2.20.5 (from torch>=2->torchdata>=0.5.0->dgl)\n",
            "  Using cached nvidia_nccl_cu12-2.20.5-py3-none-manylinux2014_x86_64.whl (176.2 MB)\n",
            "Collecting nvidia-nvtx-cu12==12.1.105 (from torch>=2->torchdata>=0.5.0->dgl)\n",
            "  Using cached nvidia_nvtx_cu12-12.1.105-py3-none-manylinux1_x86_64.whl (99 kB)\n",
            "Requirement already satisfied: triton==2.3.0 in /usr/local/lib/python3.10/dist-packages (from torch>=2->torchdata>=0.5.0->dgl) (2.3.0)\n",
            "Collecting nvidia-nvjitlink-cu12 (from nvidia-cusolver-cu12==11.4.5.107->torch>=2->torchdata>=0.5.0->dgl)\n",
            "  Downloading nvidia_nvjitlink_cu12-12.5.40-py3-none-manylinux2014_x86_64.whl (21.3 MB)\n",
            "\u001b[2K     \u001b[90m━━━━━━━━━━━━━━━━━━━━━━━━━━━━━━━━━━━━━━━━\u001b[0m \u001b[32m21.3/21.3 MB\u001b[0m \u001b[31m57.2 MB/s\u001b[0m eta \u001b[36m0:00:00\u001b[0m\n",
            "\u001b[?25hRequirement already satisfied: MarkupSafe>=2.0 in /usr/local/lib/python3.10/dist-packages (from jinja2->torch>=2->torchdata>=0.5.0->dgl) (2.1.5)\n",
            "Requirement already satisfied: mpmath<1.4.0,>=1.1.0 in /usr/local/lib/python3.10/dist-packages (from sympy->torch>=2->torchdata>=0.5.0->dgl) (1.3.0)\n",
            "Installing collected packages: nvidia-nvtx-cu12, nvidia-nvjitlink-cu12, nvidia-nccl-cu12, nvidia-curand-cu12, nvidia-cufft-cu12, nvidia-cuda-runtime-cu12, nvidia-cuda-nvrtc-cu12, nvidia-cuda-cupti-cu12, nvidia-cublas-cu12, nvidia-cusparse-cu12, nvidia-cudnn-cu12, nvidia-cusolver-cu12, torchdata, dgl\n",
            "Successfully installed dgl-2.1.0 nvidia-cublas-cu12-12.1.3.1 nvidia-cuda-cupti-cu12-12.1.105 nvidia-cuda-nvrtc-cu12-12.1.105 nvidia-cuda-runtime-cu12-12.1.105 nvidia-cudnn-cu12-8.9.2.26 nvidia-cufft-cu12-11.0.2.54 nvidia-curand-cu12-10.3.2.106 nvidia-cusolver-cu12-11.4.5.107 nvidia-cusparse-cu12-12.1.0.106 nvidia-nccl-cu12-2.20.5 nvidia-nvjitlink-cu12-12.5.40 nvidia-nvtx-cu12-12.1.105 torchdata-0.7.1\n"
          ]
        }
      ]
    },
    {
      "cell_type": "code",
      "source": [
        "!pip install torch==2.1.0 -f https://download.pytorch.org/whl/torch_stable.html"
      ],
      "metadata": {
        "id": "32iUzL6_5ZdS",
        "colab": {
          "base_uri": "https://localhost:8080/"
        },
        "outputId": "5c0f59ee-4aa3-4425-9dcb-8f4b2c7b8571"
      },
      "execution_count": 3,
      "outputs": [
        {
          "output_type": "stream",
          "name": "stdout",
          "text": [
            "Looking in links: https://download.pytorch.org/whl/torch_stable.html\n",
            "Collecting torch==2.1.0\n",
            "  Downloading https://download.pytorch.org/whl/rocm5.6/torch-2.1.0%2Brocm5.6-cp310-cp310-linux_x86_64.whl (1590.3 MB)\n",
            "\u001b[2K     \u001b[90m━━━━━━━━━━━━━━━━━━━━━━━━━━━━━━━━━━━━━━━━\u001b[0m \u001b[32m1.6/1.6 GB\u001b[0m \u001b[31m790.3 kB/s\u001b[0m eta \u001b[36m0:00:00\u001b[0m\n",
            "\u001b[?25hRequirement already satisfied: filelock in /usr/local/lib/python3.10/dist-packages (from torch==2.1.0) (3.14.0)\n",
            "Requirement already satisfied: typing-extensions in /usr/local/lib/python3.10/dist-packages (from torch==2.1.0) (4.12.1)\n",
            "Requirement already satisfied: sympy in /usr/local/lib/python3.10/dist-packages (from torch==2.1.0) (1.12.1)\n",
            "Requirement already satisfied: networkx in /usr/local/lib/python3.10/dist-packages (from torch==2.1.0) (3.3)\n",
            "Requirement already satisfied: jinja2 in /usr/local/lib/python3.10/dist-packages (from torch==2.1.0) (3.1.4)\n",
            "Requirement already satisfied: fsspec in /usr/local/lib/python3.10/dist-packages (from torch==2.1.0) (2023.6.0)\n",
            "Collecting pytorch-triton-rocm==2.1.0 (from torch==2.1.0)\n",
            "  Downloading pytorch_triton_rocm-2.1.0-cp310-cp310-manylinux_2_17_x86_64.manylinux2014_x86_64.whl (169.4 MB)\n",
            "\u001b[2K     \u001b[90m━━━━━━━━━━━━━━━━━━━━━━━━━━━━━━━━━━━━━━━━\u001b[0m \u001b[32m169.4/169.4 MB\u001b[0m \u001b[31m5.2 MB/s\u001b[0m eta \u001b[36m0:00:00\u001b[0m\n",
            "\u001b[?25hRequirement already satisfied: cmake>=3.20 in /usr/local/lib/python3.10/dist-packages (from pytorch-triton-rocm==2.1.0->torch==2.1.0) (3.27.9)\n",
            "Collecting lit (from pytorch-triton-rocm==2.1.0->torch==2.1.0)\n",
            "  Downloading lit-18.1.7-py3-none-any.whl (96 kB)\n",
            "\u001b[2K     \u001b[90m━━━━━━━━━━━━━━━━━━━━━━━━━━━━━━━━━━━━━━━━\u001b[0m \u001b[32m96.4/96.4 kB\u001b[0m \u001b[31m10.4 MB/s\u001b[0m eta \u001b[36m0:00:00\u001b[0m\n",
            "\u001b[?25hRequirement already satisfied: MarkupSafe>=2.0 in /usr/local/lib/python3.10/dist-packages (from jinja2->torch==2.1.0) (2.1.5)\n",
            "Requirement already satisfied: mpmath<1.4.0,>=1.1.0 in /usr/local/lib/python3.10/dist-packages (from sympy->torch==2.1.0) (1.3.0)\n",
            "Installing collected packages: lit, pytorch-triton-rocm, torch\n",
            "  Attempting uninstall: torch\n",
            "    Found existing installation: torch 2.3.0+cu121\n",
            "    Uninstalling torch-2.3.0+cu121:\n",
            "      Successfully uninstalled torch-2.3.0+cu121\n",
            "\u001b[31mERROR: pip's dependency resolver does not currently take into account all the packages that are installed. This behaviour is the source of the following dependency conflicts.\n",
            "torchaudio 2.3.0+cu121 requires torch==2.3.0, but you have torch 2.1.0+rocm5.6 which is incompatible.\n",
            "torchtext 0.18.0 requires torch>=2.3.0, but you have torch 2.1.0+rocm5.6 which is incompatible.\n",
            "torchvision 0.18.0+cu121 requires torch==2.3.0, but you have torch 2.1.0+rocm5.6 which is incompatible.\u001b[0m\u001b[31m\n",
            "\u001b[0mSuccessfully installed lit-18.1.7 pytorch-triton-rocm-2.1.0 torch-2.1.0+rocm5.6\n"
          ]
        }
      ]
    },
    {
      "cell_type": "code",
      "source": [
        "import numpy as np\n",
        "import torch as tch\n",
        "# tch.utils.data.datapipes.utils.common.DILL_AVAILABLE = tch.utils._import_utils.dill_available()\n",
        "# import torchdata\n",
        "import dgl\n",
        "import itertools\n",
        "import csv\n",
        "from itertools import chain\n",
        "import string\n",
        "import pandas as pd\n",
        "import dgl.nn as dglnn\n",
        "import torch.nn as nn\n",
        "import torch.nn.functional as func\n",
        "import dgl.function as dglfunc\n",
        "import cv2\n",
        "from google.colab.patches import cv2_imshow\n",
        "from mlxtend.plotting import plot_confusion_matrix\n",
        "import matplotlib.pyplot as plt"
      ],
      "metadata": {
        "id": "PG3NaAdxmd24",
        "colab": {
          "base_uri": "https://localhost:8080/"
        },
        "outputId": "22fdbc18-c703-411a-c814-7c65f76db97c"
      },
      "execution_count": 4,
      "outputs": [
        {
          "output_type": "stream",
          "name": "stderr",
          "text": [
            "DGL backend not selected or invalid.  Assuming PyTorch for now.\n"
          ]
        },
        {
          "output_type": "stream",
          "name": "stdout",
          "text": [
            "Setting the default backend to \"pytorch\". You can change it in the ~/.dgl/config.json file or export the DGLBACKEND environment variable.  Valid options are: pytorch, mxnet, tensorflow (all lowercase)\n"
          ]
        }
      ]
    },
    {
      "cell_type": "code",
      "source": [
        "# tch.__version__"
      ],
      "metadata": {
        "id": "evWygwFP4mtn"
      },
      "execution_count": 5,
      "outputs": []
    },
    {
      "cell_type": "code",
      "source": [
        "from sklearn.decomposition import PCA\n",
        "from sklearn.preprocessing import StandardScaler, MinMaxScaler\n",
        "from sklearn.preprocessing import normalize\n",
        "from sklearn.preprocessing import minmax_scale"
      ],
      "metadata": {
        "id": "R8x9P7Ti4Xf3"
      },
      "execution_count": 6,
      "outputs": []
    },
    {
      "cell_type": "code",
      "source": [
        "from tensorflow.keras.models import Model, load_model, Sequential\n",
        "from tensorflow.keras.layers import Lambda, Input, Dense, Dropout, Layer, LSTM, Bidirectional\n",
        "from tensorflow.keras.losses import mse\n",
        "from tensorflow import keras\n",
        "from tensorflow.keras import optimizers\n",
        "from keras import losses"
      ],
      "metadata": {
        "id": "S_QVJNty2Tse"
      },
      "execution_count": 7,
      "outputs": []
    },
    {
      "cell_type": "code",
      "source": [
        "data_path = \"/content/drive/MyDrive/My_data/Paper/AMiner_Academic/Data/Anomaly_paper/\"\n",
        "dimen = 32\n",
        "window = 5"
      ],
      "metadata": {
        "id": "sM97NOuTmjoh"
      },
      "execution_count": 8,
      "outputs": []
    },
    {
      "cell_type": "code",
      "source": [
        "# CONVERT str TO list\n",
        "def str2list(x):\n",
        "  if (type(x) != float) and (x != \"['-']\"):\n",
        "    temp = x.split(', ')\n",
        "    return [t.translate(str.maketrans('', '', string.punctuation)) for t in temp]\n",
        "  else:\n",
        "    return []"
      ],
      "metadata": {
        "id": "Ik0dRIrgoJUX"
      },
      "execution_count": 9,
      "outputs": []
    },
    {
      "cell_type": "code",
      "source": [
        "# CONVERT TEXT TYPE TO TENSOR TYPE\n",
        "def txt2array(x):\n",
        "  temp = x.replace('[', \"\").replace(']', \"\").replace('\\n', \"\").split()\n",
        "  float_list = [float(z) for z in temp]\n",
        "  return tch.Tensor([float_list])"
      ],
      "metadata": {
        "id": "taur0jQerQ2y"
      },
      "execution_count": 10,
      "outputs": []
    },
    {
      "cell_type": "code",
      "source": [
        "papers = pd.read_csv(data_path + 'AMiner-Papers-inj-5p-csv.csv', index_col=False)\n",
        "authors = pd.read_csv(data_path + 'AMiner-Authors-inj-5p-csv.csv', index_col=False)\n",
        "# venues = pd.read_csv(data_path + 'AMiner-V&A&P-inj-5p-csv.csv', index_col=False)"
      ],
      "metadata": {
        "id": "7J291qO8rT6V"
      },
      "execution_count": 17,
      "outputs": []
    },
    {
      "cell_type": "code",
      "source": [
        "p_col = ['index_a', 'references', 'venue_name']\n",
        "a_col = ['index_p', 'venue_name', 'co_authors']\n",
        "v_col = ['index_a', 'index_p']\n",
        "for col in p_col:\n",
        "  papers[col] = papers[col].apply(lambda x: str2list(x))\n",
        "for col in a_col:\n",
        "  authors[col] = authors[col].apply(lambda x: str2list(x))\n",
        "# for col in v_col:\n",
        "#   venues[col] = venues[col].apply(lambda x: str2list(x))\n",
        "\n",
        "papers['title'] = papers['title'].apply(lambda x: txt2array(x))\n",
        "authors['interest'] = authors['interest'].apply(lambda x: txt2array(x))\n",
        "\n",
        "num_col_a = ['h_index', 'p_index']\n",
        "for col in num_col_a:\n",
        "  authors[col] = authors[col].apply(lambda x: tch.Tensor([x]))\n",
        "\n",
        "temp,codes = pd.factorize(papers['year'])\n",
        "papers['year'] = temp+1\n",
        "papers['year'] = papers['year'].apply(lambda x: tch.Tensor([x]))\n",
        "# venues = venues.iloc[:130]\n",
        "# venues['type'] = venues['type'].apply(lambda x: int(x))"
      ],
      "metadata": {
        "id": "ECtf1G0drrGO"
      },
      "execution_count": 18,
      "outputs": []
    },
    {
      "cell_type": "markdown",
      "source": [
        "**NORMALIZATION**"
      ],
      "metadata": {
        "id": "sxBtHfTe0YWK"
      }
    },
    {
      "cell_type": "code",
      "source": [
        "papers.head(2)"
      ],
      "metadata": {
        "id": "QOpSHzfg0eKC",
        "colab": {
          "base_uri": "https://localhost:8080/",
          "height": 112
        },
        "outputId": "c60918b5-0e4b-46ed-9e67-2b6e0b98dd3b"
      },
      "execution_count": 19,
      "outputs": [
        {
          "output_type": "execute_result",
          "data": {
            "text/plain": [
              "    index_p              index_a  \\\n",
              "0  p1221037  [a1573508, a701939]   \n",
              "1  p1247452           [a1150721]   \n",
              "\n",
              "                                               title          year references  \\\n",
              "0  [[tensor(0.0600), tensor(-0.0932), tensor(-0.0...  [tensor(1.)]         []   \n",
              "1  [[tensor(-0.0290), tensor(-0.0463), tensor(0.0...  [tensor(1.)]         []   \n",
              "\n",
              "  venue_name  abnormal  \n",
              "0         []         0  \n",
              "1         []         0  "
            ],
            "text/html": [
              "\n",
              "  <div id=\"df-774ab5e8-a0dc-4468-ad28-555dab060649\" class=\"colab-df-container\">\n",
              "    <div>\n",
              "<style scoped>\n",
              "    .dataframe tbody tr th:only-of-type {\n",
              "        vertical-align: middle;\n",
              "    }\n",
              "\n",
              "    .dataframe tbody tr th {\n",
              "        vertical-align: top;\n",
              "    }\n",
              "\n",
              "    .dataframe thead th {\n",
              "        text-align: right;\n",
              "    }\n",
              "</style>\n",
              "<table border=\"1\" class=\"dataframe\">\n",
              "  <thead>\n",
              "    <tr style=\"text-align: right;\">\n",
              "      <th></th>\n",
              "      <th>index_p</th>\n",
              "      <th>index_a</th>\n",
              "      <th>title</th>\n",
              "      <th>year</th>\n",
              "      <th>references</th>\n",
              "      <th>venue_name</th>\n",
              "      <th>abnormal</th>\n",
              "    </tr>\n",
              "  </thead>\n",
              "  <tbody>\n",
              "    <tr>\n",
              "      <th>0</th>\n",
              "      <td>p1221037</td>\n",
              "      <td>[a1573508, a701939]</td>\n",
              "      <td>[[tensor(0.0600), tensor(-0.0932), tensor(-0.0...</td>\n",
              "      <td>[tensor(1.)]</td>\n",
              "      <td>[]</td>\n",
              "      <td>[]</td>\n",
              "      <td>0</td>\n",
              "    </tr>\n",
              "    <tr>\n",
              "      <th>1</th>\n",
              "      <td>p1247452</td>\n",
              "      <td>[a1150721]</td>\n",
              "      <td>[[tensor(-0.0290), tensor(-0.0463), tensor(0.0...</td>\n",
              "      <td>[tensor(1.)]</td>\n",
              "      <td>[]</td>\n",
              "      <td>[]</td>\n",
              "      <td>0</td>\n",
              "    </tr>\n",
              "  </tbody>\n",
              "</table>\n",
              "</div>\n",
              "    <div class=\"colab-df-buttons\">\n",
              "\n",
              "  <div class=\"colab-df-container\">\n",
              "    <button class=\"colab-df-convert\" onclick=\"convertToInteractive('df-774ab5e8-a0dc-4468-ad28-555dab060649')\"\n",
              "            title=\"Convert this dataframe to an interactive table.\"\n",
              "            style=\"display:none;\">\n",
              "\n",
              "  <svg xmlns=\"http://www.w3.org/2000/svg\" height=\"24px\" viewBox=\"0 -960 960 960\">\n",
              "    <path d=\"M120-120v-720h720v720H120Zm60-500h600v-160H180v160Zm220 220h160v-160H400v160Zm0 220h160v-160H400v160ZM180-400h160v-160H180v160Zm440 0h160v-160H620v160ZM180-180h160v-160H180v160Zm440 0h160v-160H620v160Z\"/>\n",
              "  </svg>\n",
              "    </button>\n",
              "\n",
              "  <style>\n",
              "    .colab-df-container {\n",
              "      display:flex;\n",
              "      gap: 12px;\n",
              "    }\n",
              "\n",
              "    .colab-df-convert {\n",
              "      background-color: #E8F0FE;\n",
              "      border: none;\n",
              "      border-radius: 50%;\n",
              "      cursor: pointer;\n",
              "      display: none;\n",
              "      fill: #1967D2;\n",
              "      height: 32px;\n",
              "      padding: 0 0 0 0;\n",
              "      width: 32px;\n",
              "    }\n",
              "\n",
              "    .colab-df-convert:hover {\n",
              "      background-color: #E2EBFA;\n",
              "      box-shadow: 0px 1px 2px rgba(60, 64, 67, 0.3), 0px 1px 3px 1px rgba(60, 64, 67, 0.15);\n",
              "      fill: #174EA6;\n",
              "    }\n",
              "\n",
              "    .colab-df-buttons div {\n",
              "      margin-bottom: 4px;\n",
              "    }\n",
              "\n",
              "    [theme=dark] .colab-df-convert {\n",
              "      background-color: #3B4455;\n",
              "      fill: #D2E3FC;\n",
              "    }\n",
              "\n",
              "    [theme=dark] .colab-df-convert:hover {\n",
              "      background-color: #434B5C;\n",
              "      box-shadow: 0px 1px 3px 1px rgba(0, 0, 0, 0.15);\n",
              "      filter: drop-shadow(0px 1px 2px rgba(0, 0, 0, 0.3));\n",
              "      fill: #FFFFFF;\n",
              "    }\n",
              "  </style>\n",
              "\n",
              "    <script>\n",
              "      const buttonEl =\n",
              "        document.querySelector('#df-774ab5e8-a0dc-4468-ad28-555dab060649 button.colab-df-convert');\n",
              "      buttonEl.style.display =\n",
              "        google.colab.kernel.accessAllowed ? 'block' : 'none';\n",
              "\n",
              "      async function convertToInteractive(key) {\n",
              "        const element = document.querySelector('#df-774ab5e8-a0dc-4468-ad28-555dab060649');\n",
              "        const dataTable =\n",
              "          await google.colab.kernel.invokeFunction('convertToInteractive',\n",
              "                                                    [key], {});\n",
              "        if (!dataTable) return;\n",
              "\n",
              "        const docLinkHtml = 'Like what you see? Visit the ' +\n",
              "          '<a target=\"_blank\" href=https://colab.research.google.com/notebooks/data_table.ipynb>data table notebook</a>'\n",
              "          + ' to learn more about interactive tables.';\n",
              "        element.innerHTML = '';\n",
              "        dataTable['output_type'] = 'display_data';\n",
              "        await google.colab.output.renderOutput(dataTable, element);\n",
              "        const docLink = document.createElement('div');\n",
              "        docLink.innerHTML = docLinkHtml;\n",
              "        element.appendChild(docLink);\n",
              "      }\n",
              "    </script>\n",
              "  </div>\n",
              "\n",
              "\n",
              "<div id=\"df-7bd28a27-e803-4a43-ad98-b003f25fd00b\">\n",
              "  <button class=\"colab-df-quickchart\" onclick=\"quickchart('df-7bd28a27-e803-4a43-ad98-b003f25fd00b')\"\n",
              "            title=\"Suggest charts\"\n",
              "            style=\"display:none;\">\n",
              "\n",
              "<svg xmlns=\"http://www.w3.org/2000/svg\" height=\"24px\"viewBox=\"0 0 24 24\"\n",
              "     width=\"24px\">\n",
              "    <g>\n",
              "        <path d=\"M19 3H5c-1.1 0-2 .9-2 2v14c0 1.1.9 2 2 2h14c1.1 0 2-.9 2-2V5c0-1.1-.9-2-2-2zM9 17H7v-7h2v7zm4 0h-2V7h2v10zm4 0h-2v-4h2v4z\"/>\n",
              "    </g>\n",
              "</svg>\n",
              "  </button>\n",
              "\n",
              "<style>\n",
              "  .colab-df-quickchart {\n",
              "      --bg-color: #E8F0FE;\n",
              "      --fill-color: #1967D2;\n",
              "      --hover-bg-color: #E2EBFA;\n",
              "      --hover-fill-color: #174EA6;\n",
              "      --disabled-fill-color: #AAA;\n",
              "      --disabled-bg-color: #DDD;\n",
              "  }\n",
              "\n",
              "  [theme=dark] .colab-df-quickchart {\n",
              "      --bg-color: #3B4455;\n",
              "      --fill-color: #D2E3FC;\n",
              "      --hover-bg-color: #434B5C;\n",
              "      --hover-fill-color: #FFFFFF;\n",
              "      --disabled-bg-color: #3B4455;\n",
              "      --disabled-fill-color: #666;\n",
              "  }\n",
              "\n",
              "  .colab-df-quickchart {\n",
              "    background-color: var(--bg-color);\n",
              "    border: none;\n",
              "    border-radius: 50%;\n",
              "    cursor: pointer;\n",
              "    display: none;\n",
              "    fill: var(--fill-color);\n",
              "    height: 32px;\n",
              "    padding: 0;\n",
              "    width: 32px;\n",
              "  }\n",
              "\n",
              "  .colab-df-quickchart:hover {\n",
              "    background-color: var(--hover-bg-color);\n",
              "    box-shadow: 0 1px 2px rgba(60, 64, 67, 0.3), 0 1px 3px 1px rgba(60, 64, 67, 0.15);\n",
              "    fill: var(--button-hover-fill-color);\n",
              "  }\n",
              "\n",
              "  .colab-df-quickchart-complete:disabled,\n",
              "  .colab-df-quickchart-complete:disabled:hover {\n",
              "    background-color: var(--disabled-bg-color);\n",
              "    fill: var(--disabled-fill-color);\n",
              "    box-shadow: none;\n",
              "  }\n",
              "\n",
              "  .colab-df-spinner {\n",
              "    border: 2px solid var(--fill-color);\n",
              "    border-color: transparent;\n",
              "    border-bottom-color: var(--fill-color);\n",
              "    animation:\n",
              "      spin 1s steps(1) infinite;\n",
              "  }\n",
              "\n",
              "  @keyframes spin {\n",
              "    0% {\n",
              "      border-color: transparent;\n",
              "      border-bottom-color: var(--fill-color);\n",
              "      border-left-color: var(--fill-color);\n",
              "    }\n",
              "    20% {\n",
              "      border-color: transparent;\n",
              "      border-left-color: var(--fill-color);\n",
              "      border-top-color: var(--fill-color);\n",
              "    }\n",
              "    30% {\n",
              "      border-color: transparent;\n",
              "      border-left-color: var(--fill-color);\n",
              "      border-top-color: var(--fill-color);\n",
              "      border-right-color: var(--fill-color);\n",
              "    }\n",
              "    40% {\n",
              "      border-color: transparent;\n",
              "      border-right-color: var(--fill-color);\n",
              "      border-top-color: var(--fill-color);\n",
              "    }\n",
              "    60% {\n",
              "      border-color: transparent;\n",
              "      border-right-color: var(--fill-color);\n",
              "    }\n",
              "    80% {\n",
              "      border-color: transparent;\n",
              "      border-right-color: var(--fill-color);\n",
              "      border-bottom-color: var(--fill-color);\n",
              "    }\n",
              "    90% {\n",
              "      border-color: transparent;\n",
              "      border-bottom-color: var(--fill-color);\n",
              "    }\n",
              "  }\n",
              "</style>\n",
              "\n",
              "  <script>\n",
              "    async function quickchart(key) {\n",
              "      const quickchartButtonEl =\n",
              "        document.querySelector('#' + key + ' button');\n",
              "      quickchartButtonEl.disabled = true;  // To prevent multiple clicks.\n",
              "      quickchartButtonEl.classList.add('colab-df-spinner');\n",
              "      try {\n",
              "        const charts = await google.colab.kernel.invokeFunction(\n",
              "            'suggestCharts', [key], {});\n",
              "      } catch (error) {\n",
              "        console.error('Error during call to suggestCharts:', error);\n",
              "      }\n",
              "      quickchartButtonEl.classList.remove('colab-df-spinner');\n",
              "      quickchartButtonEl.classList.add('colab-df-quickchart-complete');\n",
              "    }\n",
              "    (() => {\n",
              "      let quickchartButtonEl =\n",
              "        document.querySelector('#df-7bd28a27-e803-4a43-ad98-b003f25fd00b button');\n",
              "      quickchartButtonEl.style.display =\n",
              "        google.colab.kernel.accessAllowed ? 'block' : 'none';\n",
              "    })();\n",
              "  </script>\n",
              "</div>\n",
              "    </div>\n",
              "  </div>\n"
            ],
            "application/vnd.google.colaboratory.intrinsic+json": {
              "type": "dataframe",
              "variable_name": "papers"
            }
          },
          "metadata": {},
          "execution_count": 19
        }
      ]
    },
    {
      "cell_type": "code",
      "source": [
        "p = np.array(papers['title'].to_list()).flatten().reshape((-1,dimen))\n",
        "norm_p = np.linalg.norm(p)\n",
        "# papers['title'] = papers['title'].apply(lambda x: x/norm_p)\n",
        "data = tch.from_numpy(normalize(p, axis=0, norm='max'))\n",
        "papers['title'] = list(data)\n",
        "papers.head(2)"
      ],
      "metadata": {
        "id": "1-qlORMV0NOu",
        "colab": {
          "base_uri": "https://localhost:8080/",
          "height": 112
        },
        "outputId": "4186165a-0666-4c9e-9e58-d3076cd249e6"
      },
      "execution_count": 20,
      "outputs": [
        {
          "output_type": "execute_result",
          "data": {
            "text/plain": [
              "    index_p              index_a  \\\n",
              "0  p1221037  [a1573508, a701939]   \n",
              "1  p1247452           [a1150721]   \n",
              "\n",
              "                                               title          year references  \\\n",
              "0  [tensor(0.1387), tensor(-0.1581), tensor(-0.02...  [tensor(1.)]         []   \n",
              "1  [tensor(-0.0670), tensor(-0.0785), tensor(0.05...  [tensor(1.)]         []   \n",
              "\n",
              "  venue_name  abnormal  \n",
              "0         []         0  \n",
              "1         []         0  "
            ],
            "text/html": [
              "\n",
              "  <div id=\"df-e1c5833d-ca6b-4931-9f80-6511143e3b94\" class=\"colab-df-container\">\n",
              "    <div>\n",
              "<style scoped>\n",
              "    .dataframe tbody tr th:only-of-type {\n",
              "        vertical-align: middle;\n",
              "    }\n",
              "\n",
              "    .dataframe tbody tr th {\n",
              "        vertical-align: top;\n",
              "    }\n",
              "\n",
              "    .dataframe thead th {\n",
              "        text-align: right;\n",
              "    }\n",
              "</style>\n",
              "<table border=\"1\" class=\"dataframe\">\n",
              "  <thead>\n",
              "    <tr style=\"text-align: right;\">\n",
              "      <th></th>\n",
              "      <th>index_p</th>\n",
              "      <th>index_a</th>\n",
              "      <th>title</th>\n",
              "      <th>year</th>\n",
              "      <th>references</th>\n",
              "      <th>venue_name</th>\n",
              "      <th>abnormal</th>\n",
              "    </tr>\n",
              "  </thead>\n",
              "  <tbody>\n",
              "    <tr>\n",
              "      <th>0</th>\n",
              "      <td>p1221037</td>\n",
              "      <td>[a1573508, a701939]</td>\n",
              "      <td>[tensor(0.1387), tensor(-0.1581), tensor(-0.02...</td>\n",
              "      <td>[tensor(1.)]</td>\n",
              "      <td>[]</td>\n",
              "      <td>[]</td>\n",
              "      <td>0</td>\n",
              "    </tr>\n",
              "    <tr>\n",
              "      <th>1</th>\n",
              "      <td>p1247452</td>\n",
              "      <td>[a1150721]</td>\n",
              "      <td>[tensor(-0.0670), tensor(-0.0785), tensor(0.05...</td>\n",
              "      <td>[tensor(1.)]</td>\n",
              "      <td>[]</td>\n",
              "      <td>[]</td>\n",
              "      <td>0</td>\n",
              "    </tr>\n",
              "  </tbody>\n",
              "</table>\n",
              "</div>\n",
              "    <div class=\"colab-df-buttons\">\n",
              "\n",
              "  <div class=\"colab-df-container\">\n",
              "    <button class=\"colab-df-convert\" onclick=\"convertToInteractive('df-e1c5833d-ca6b-4931-9f80-6511143e3b94')\"\n",
              "            title=\"Convert this dataframe to an interactive table.\"\n",
              "            style=\"display:none;\">\n",
              "\n",
              "  <svg xmlns=\"http://www.w3.org/2000/svg\" height=\"24px\" viewBox=\"0 -960 960 960\">\n",
              "    <path d=\"M120-120v-720h720v720H120Zm60-500h600v-160H180v160Zm220 220h160v-160H400v160Zm0 220h160v-160H400v160ZM180-400h160v-160H180v160Zm440 0h160v-160H620v160ZM180-180h160v-160H180v160Zm440 0h160v-160H620v160Z\"/>\n",
              "  </svg>\n",
              "    </button>\n",
              "\n",
              "  <style>\n",
              "    .colab-df-container {\n",
              "      display:flex;\n",
              "      gap: 12px;\n",
              "    }\n",
              "\n",
              "    .colab-df-convert {\n",
              "      background-color: #E8F0FE;\n",
              "      border: none;\n",
              "      border-radius: 50%;\n",
              "      cursor: pointer;\n",
              "      display: none;\n",
              "      fill: #1967D2;\n",
              "      height: 32px;\n",
              "      padding: 0 0 0 0;\n",
              "      width: 32px;\n",
              "    }\n",
              "\n",
              "    .colab-df-convert:hover {\n",
              "      background-color: #E2EBFA;\n",
              "      box-shadow: 0px 1px 2px rgba(60, 64, 67, 0.3), 0px 1px 3px 1px rgba(60, 64, 67, 0.15);\n",
              "      fill: #174EA6;\n",
              "    }\n",
              "\n",
              "    .colab-df-buttons div {\n",
              "      margin-bottom: 4px;\n",
              "    }\n",
              "\n",
              "    [theme=dark] .colab-df-convert {\n",
              "      background-color: #3B4455;\n",
              "      fill: #D2E3FC;\n",
              "    }\n",
              "\n",
              "    [theme=dark] .colab-df-convert:hover {\n",
              "      background-color: #434B5C;\n",
              "      box-shadow: 0px 1px 3px 1px rgba(0, 0, 0, 0.15);\n",
              "      filter: drop-shadow(0px 1px 2px rgba(0, 0, 0, 0.3));\n",
              "      fill: #FFFFFF;\n",
              "    }\n",
              "  </style>\n",
              "\n",
              "    <script>\n",
              "      const buttonEl =\n",
              "        document.querySelector('#df-e1c5833d-ca6b-4931-9f80-6511143e3b94 button.colab-df-convert');\n",
              "      buttonEl.style.display =\n",
              "        google.colab.kernel.accessAllowed ? 'block' : 'none';\n",
              "\n",
              "      async function convertToInteractive(key) {\n",
              "        const element = document.querySelector('#df-e1c5833d-ca6b-4931-9f80-6511143e3b94');\n",
              "        const dataTable =\n",
              "          await google.colab.kernel.invokeFunction('convertToInteractive',\n",
              "                                                    [key], {});\n",
              "        if (!dataTable) return;\n",
              "\n",
              "        const docLinkHtml = 'Like what you see? Visit the ' +\n",
              "          '<a target=\"_blank\" href=https://colab.research.google.com/notebooks/data_table.ipynb>data table notebook</a>'\n",
              "          + ' to learn more about interactive tables.';\n",
              "        element.innerHTML = '';\n",
              "        dataTable['output_type'] = 'display_data';\n",
              "        await google.colab.output.renderOutput(dataTable, element);\n",
              "        const docLink = document.createElement('div');\n",
              "        docLink.innerHTML = docLinkHtml;\n",
              "        element.appendChild(docLink);\n",
              "      }\n",
              "    </script>\n",
              "  </div>\n",
              "\n",
              "\n",
              "<div id=\"df-836edb62-e154-408f-830a-7391e4485c6f\">\n",
              "  <button class=\"colab-df-quickchart\" onclick=\"quickchart('df-836edb62-e154-408f-830a-7391e4485c6f')\"\n",
              "            title=\"Suggest charts\"\n",
              "            style=\"display:none;\">\n",
              "\n",
              "<svg xmlns=\"http://www.w3.org/2000/svg\" height=\"24px\"viewBox=\"0 0 24 24\"\n",
              "     width=\"24px\">\n",
              "    <g>\n",
              "        <path d=\"M19 3H5c-1.1 0-2 .9-2 2v14c0 1.1.9 2 2 2h14c1.1 0 2-.9 2-2V5c0-1.1-.9-2-2-2zM9 17H7v-7h2v7zm4 0h-2V7h2v10zm4 0h-2v-4h2v4z\"/>\n",
              "    </g>\n",
              "</svg>\n",
              "  </button>\n",
              "\n",
              "<style>\n",
              "  .colab-df-quickchart {\n",
              "      --bg-color: #E8F0FE;\n",
              "      --fill-color: #1967D2;\n",
              "      --hover-bg-color: #E2EBFA;\n",
              "      --hover-fill-color: #174EA6;\n",
              "      --disabled-fill-color: #AAA;\n",
              "      --disabled-bg-color: #DDD;\n",
              "  }\n",
              "\n",
              "  [theme=dark] .colab-df-quickchart {\n",
              "      --bg-color: #3B4455;\n",
              "      --fill-color: #D2E3FC;\n",
              "      --hover-bg-color: #434B5C;\n",
              "      --hover-fill-color: #FFFFFF;\n",
              "      --disabled-bg-color: #3B4455;\n",
              "      --disabled-fill-color: #666;\n",
              "  }\n",
              "\n",
              "  .colab-df-quickchart {\n",
              "    background-color: var(--bg-color);\n",
              "    border: none;\n",
              "    border-radius: 50%;\n",
              "    cursor: pointer;\n",
              "    display: none;\n",
              "    fill: var(--fill-color);\n",
              "    height: 32px;\n",
              "    padding: 0;\n",
              "    width: 32px;\n",
              "  }\n",
              "\n",
              "  .colab-df-quickchart:hover {\n",
              "    background-color: var(--hover-bg-color);\n",
              "    box-shadow: 0 1px 2px rgba(60, 64, 67, 0.3), 0 1px 3px 1px rgba(60, 64, 67, 0.15);\n",
              "    fill: var(--button-hover-fill-color);\n",
              "  }\n",
              "\n",
              "  .colab-df-quickchart-complete:disabled,\n",
              "  .colab-df-quickchart-complete:disabled:hover {\n",
              "    background-color: var(--disabled-bg-color);\n",
              "    fill: var(--disabled-fill-color);\n",
              "    box-shadow: none;\n",
              "  }\n",
              "\n",
              "  .colab-df-spinner {\n",
              "    border: 2px solid var(--fill-color);\n",
              "    border-color: transparent;\n",
              "    border-bottom-color: var(--fill-color);\n",
              "    animation:\n",
              "      spin 1s steps(1) infinite;\n",
              "  }\n",
              "\n",
              "  @keyframes spin {\n",
              "    0% {\n",
              "      border-color: transparent;\n",
              "      border-bottom-color: var(--fill-color);\n",
              "      border-left-color: var(--fill-color);\n",
              "    }\n",
              "    20% {\n",
              "      border-color: transparent;\n",
              "      border-left-color: var(--fill-color);\n",
              "      border-top-color: var(--fill-color);\n",
              "    }\n",
              "    30% {\n",
              "      border-color: transparent;\n",
              "      border-left-color: var(--fill-color);\n",
              "      border-top-color: var(--fill-color);\n",
              "      border-right-color: var(--fill-color);\n",
              "    }\n",
              "    40% {\n",
              "      border-color: transparent;\n",
              "      border-right-color: var(--fill-color);\n",
              "      border-top-color: var(--fill-color);\n",
              "    }\n",
              "    60% {\n",
              "      border-color: transparent;\n",
              "      border-right-color: var(--fill-color);\n",
              "    }\n",
              "    80% {\n",
              "      border-color: transparent;\n",
              "      border-right-color: var(--fill-color);\n",
              "      border-bottom-color: var(--fill-color);\n",
              "    }\n",
              "    90% {\n",
              "      border-color: transparent;\n",
              "      border-bottom-color: var(--fill-color);\n",
              "    }\n",
              "  }\n",
              "</style>\n",
              "\n",
              "  <script>\n",
              "    async function quickchart(key) {\n",
              "      const quickchartButtonEl =\n",
              "        document.querySelector('#' + key + ' button');\n",
              "      quickchartButtonEl.disabled = true;  // To prevent multiple clicks.\n",
              "      quickchartButtonEl.classList.add('colab-df-spinner');\n",
              "      try {\n",
              "        const charts = await google.colab.kernel.invokeFunction(\n",
              "            'suggestCharts', [key], {});\n",
              "      } catch (error) {\n",
              "        console.error('Error during call to suggestCharts:', error);\n",
              "      }\n",
              "      quickchartButtonEl.classList.remove('colab-df-spinner');\n",
              "      quickchartButtonEl.classList.add('colab-df-quickchart-complete');\n",
              "    }\n",
              "    (() => {\n",
              "      let quickchartButtonEl =\n",
              "        document.querySelector('#df-836edb62-e154-408f-830a-7391e4485c6f button');\n",
              "      quickchartButtonEl.style.display =\n",
              "        google.colab.kernel.accessAllowed ? 'block' : 'none';\n",
              "    })();\n",
              "  </script>\n",
              "</div>\n",
              "    </div>\n",
              "  </div>\n"
            ],
            "application/vnd.google.colaboratory.intrinsic+json": {
              "type": "dataframe",
              "variable_name": "papers"
            }
          },
          "metadata": {},
          "execution_count": 20
        }
      ]
    },
    {
      "cell_type": "code",
      "source": [
        "a = np.array(authors['interest'].to_list()).flatten().reshape((-1,dimen))\n",
        "norm_a = np.linalg.norm(a)\n",
        "# authors['interest'] = authors['interest'].apply(lambda x: x/norm_a)\n",
        "data = tch.from_numpy(normalize(a, axis=0, norm='max'))\n",
        "authors['interest'] = list(data)\n",
        "authors.head(2)"
      ],
      "metadata": {
        "colab": {
          "base_uri": "https://localhost:8080/",
          "height": 112
        },
        "id": "FtRut9Qn1iPm",
        "outputId": "90793bb2-e5e0-4a20-f7b7-ce72fd0d2f5b"
      },
      "execution_count": 21,
      "outputs": [
        {
          "output_type": "execute_result",
          "data": {
            "text/plain": [
              "    index_a     index_p       h_index       p_index  \\\n",
              "0      a100  [p1853556]  [tensor(1.)]  [tensor(1.)]   \n",
              "1  a1000000  [p1608103]  [tensor(1.)]  [tensor(1.)]   \n",
              "\n",
              "                                            interest venue_name  \\\n",
              "0  [tensor(-0.1095), tensor(-0.1607), tensor(0.33...         []   \n",
              "1  [tensor(0.0124), tensor(-0.0852), tensor(0.090...         []   \n",
              "\n",
              "            co_authors  abnormal  \n",
              "0                   []         0  \n",
              "1  [a1145211, a937524]         0  "
            ],
            "text/html": [
              "\n",
              "  <div id=\"df-49d5a40e-fdc0-4b5d-8b45-9a6e005861da\" class=\"colab-df-container\">\n",
              "    <div>\n",
              "<style scoped>\n",
              "    .dataframe tbody tr th:only-of-type {\n",
              "        vertical-align: middle;\n",
              "    }\n",
              "\n",
              "    .dataframe tbody tr th {\n",
              "        vertical-align: top;\n",
              "    }\n",
              "\n",
              "    .dataframe thead th {\n",
              "        text-align: right;\n",
              "    }\n",
              "</style>\n",
              "<table border=\"1\" class=\"dataframe\">\n",
              "  <thead>\n",
              "    <tr style=\"text-align: right;\">\n",
              "      <th></th>\n",
              "      <th>index_a</th>\n",
              "      <th>index_p</th>\n",
              "      <th>h_index</th>\n",
              "      <th>p_index</th>\n",
              "      <th>interest</th>\n",
              "      <th>venue_name</th>\n",
              "      <th>co_authors</th>\n",
              "      <th>abnormal</th>\n",
              "    </tr>\n",
              "  </thead>\n",
              "  <tbody>\n",
              "    <tr>\n",
              "      <th>0</th>\n",
              "      <td>a100</td>\n",
              "      <td>[p1853556]</td>\n",
              "      <td>[tensor(1.)]</td>\n",
              "      <td>[tensor(1.)]</td>\n",
              "      <td>[tensor(-0.1095), tensor(-0.1607), tensor(0.33...</td>\n",
              "      <td>[]</td>\n",
              "      <td>[]</td>\n",
              "      <td>0</td>\n",
              "    </tr>\n",
              "    <tr>\n",
              "      <th>1</th>\n",
              "      <td>a1000000</td>\n",
              "      <td>[p1608103]</td>\n",
              "      <td>[tensor(1.)]</td>\n",
              "      <td>[tensor(1.)]</td>\n",
              "      <td>[tensor(0.0124), tensor(-0.0852), tensor(0.090...</td>\n",
              "      <td>[]</td>\n",
              "      <td>[a1145211, a937524]</td>\n",
              "      <td>0</td>\n",
              "    </tr>\n",
              "  </tbody>\n",
              "</table>\n",
              "</div>\n",
              "    <div class=\"colab-df-buttons\">\n",
              "\n",
              "  <div class=\"colab-df-container\">\n",
              "    <button class=\"colab-df-convert\" onclick=\"convertToInteractive('df-49d5a40e-fdc0-4b5d-8b45-9a6e005861da')\"\n",
              "            title=\"Convert this dataframe to an interactive table.\"\n",
              "            style=\"display:none;\">\n",
              "\n",
              "  <svg xmlns=\"http://www.w3.org/2000/svg\" height=\"24px\" viewBox=\"0 -960 960 960\">\n",
              "    <path d=\"M120-120v-720h720v720H120Zm60-500h600v-160H180v160Zm220 220h160v-160H400v160Zm0 220h160v-160H400v160ZM180-400h160v-160H180v160Zm440 0h160v-160H620v160ZM180-180h160v-160H180v160Zm440 0h160v-160H620v160Z\"/>\n",
              "  </svg>\n",
              "    </button>\n",
              "\n",
              "  <style>\n",
              "    .colab-df-container {\n",
              "      display:flex;\n",
              "      gap: 12px;\n",
              "    }\n",
              "\n",
              "    .colab-df-convert {\n",
              "      background-color: #E8F0FE;\n",
              "      border: none;\n",
              "      border-radius: 50%;\n",
              "      cursor: pointer;\n",
              "      display: none;\n",
              "      fill: #1967D2;\n",
              "      height: 32px;\n",
              "      padding: 0 0 0 0;\n",
              "      width: 32px;\n",
              "    }\n",
              "\n",
              "    .colab-df-convert:hover {\n",
              "      background-color: #E2EBFA;\n",
              "      box-shadow: 0px 1px 2px rgba(60, 64, 67, 0.3), 0px 1px 3px 1px rgba(60, 64, 67, 0.15);\n",
              "      fill: #174EA6;\n",
              "    }\n",
              "\n",
              "    .colab-df-buttons div {\n",
              "      margin-bottom: 4px;\n",
              "    }\n",
              "\n",
              "    [theme=dark] .colab-df-convert {\n",
              "      background-color: #3B4455;\n",
              "      fill: #D2E3FC;\n",
              "    }\n",
              "\n",
              "    [theme=dark] .colab-df-convert:hover {\n",
              "      background-color: #434B5C;\n",
              "      box-shadow: 0px 1px 3px 1px rgba(0, 0, 0, 0.15);\n",
              "      filter: drop-shadow(0px 1px 2px rgba(0, 0, 0, 0.3));\n",
              "      fill: #FFFFFF;\n",
              "    }\n",
              "  </style>\n",
              "\n",
              "    <script>\n",
              "      const buttonEl =\n",
              "        document.querySelector('#df-49d5a40e-fdc0-4b5d-8b45-9a6e005861da button.colab-df-convert');\n",
              "      buttonEl.style.display =\n",
              "        google.colab.kernel.accessAllowed ? 'block' : 'none';\n",
              "\n",
              "      async function convertToInteractive(key) {\n",
              "        const element = document.querySelector('#df-49d5a40e-fdc0-4b5d-8b45-9a6e005861da');\n",
              "        const dataTable =\n",
              "          await google.colab.kernel.invokeFunction('convertToInteractive',\n",
              "                                                    [key], {});\n",
              "        if (!dataTable) return;\n",
              "\n",
              "        const docLinkHtml = 'Like what you see? Visit the ' +\n",
              "          '<a target=\"_blank\" href=https://colab.research.google.com/notebooks/data_table.ipynb>data table notebook</a>'\n",
              "          + ' to learn more about interactive tables.';\n",
              "        element.innerHTML = '';\n",
              "        dataTable['output_type'] = 'display_data';\n",
              "        await google.colab.output.renderOutput(dataTable, element);\n",
              "        const docLink = document.createElement('div');\n",
              "        docLink.innerHTML = docLinkHtml;\n",
              "        element.appendChild(docLink);\n",
              "      }\n",
              "    </script>\n",
              "  </div>\n",
              "\n",
              "\n",
              "<div id=\"df-453087a3-c9c1-461d-a885-ea5cab591989\">\n",
              "  <button class=\"colab-df-quickchart\" onclick=\"quickchart('df-453087a3-c9c1-461d-a885-ea5cab591989')\"\n",
              "            title=\"Suggest charts\"\n",
              "            style=\"display:none;\">\n",
              "\n",
              "<svg xmlns=\"http://www.w3.org/2000/svg\" height=\"24px\"viewBox=\"0 0 24 24\"\n",
              "     width=\"24px\">\n",
              "    <g>\n",
              "        <path d=\"M19 3H5c-1.1 0-2 .9-2 2v14c0 1.1.9 2 2 2h14c1.1 0 2-.9 2-2V5c0-1.1-.9-2-2-2zM9 17H7v-7h2v7zm4 0h-2V7h2v10zm4 0h-2v-4h2v4z\"/>\n",
              "    </g>\n",
              "</svg>\n",
              "  </button>\n",
              "\n",
              "<style>\n",
              "  .colab-df-quickchart {\n",
              "      --bg-color: #E8F0FE;\n",
              "      --fill-color: #1967D2;\n",
              "      --hover-bg-color: #E2EBFA;\n",
              "      --hover-fill-color: #174EA6;\n",
              "      --disabled-fill-color: #AAA;\n",
              "      --disabled-bg-color: #DDD;\n",
              "  }\n",
              "\n",
              "  [theme=dark] .colab-df-quickchart {\n",
              "      --bg-color: #3B4455;\n",
              "      --fill-color: #D2E3FC;\n",
              "      --hover-bg-color: #434B5C;\n",
              "      --hover-fill-color: #FFFFFF;\n",
              "      --disabled-bg-color: #3B4455;\n",
              "      --disabled-fill-color: #666;\n",
              "  }\n",
              "\n",
              "  .colab-df-quickchart {\n",
              "    background-color: var(--bg-color);\n",
              "    border: none;\n",
              "    border-radius: 50%;\n",
              "    cursor: pointer;\n",
              "    display: none;\n",
              "    fill: var(--fill-color);\n",
              "    height: 32px;\n",
              "    padding: 0;\n",
              "    width: 32px;\n",
              "  }\n",
              "\n",
              "  .colab-df-quickchart:hover {\n",
              "    background-color: var(--hover-bg-color);\n",
              "    box-shadow: 0 1px 2px rgba(60, 64, 67, 0.3), 0 1px 3px 1px rgba(60, 64, 67, 0.15);\n",
              "    fill: var(--button-hover-fill-color);\n",
              "  }\n",
              "\n",
              "  .colab-df-quickchart-complete:disabled,\n",
              "  .colab-df-quickchart-complete:disabled:hover {\n",
              "    background-color: var(--disabled-bg-color);\n",
              "    fill: var(--disabled-fill-color);\n",
              "    box-shadow: none;\n",
              "  }\n",
              "\n",
              "  .colab-df-spinner {\n",
              "    border: 2px solid var(--fill-color);\n",
              "    border-color: transparent;\n",
              "    border-bottom-color: var(--fill-color);\n",
              "    animation:\n",
              "      spin 1s steps(1) infinite;\n",
              "  }\n",
              "\n",
              "  @keyframes spin {\n",
              "    0% {\n",
              "      border-color: transparent;\n",
              "      border-bottom-color: var(--fill-color);\n",
              "      border-left-color: var(--fill-color);\n",
              "    }\n",
              "    20% {\n",
              "      border-color: transparent;\n",
              "      border-left-color: var(--fill-color);\n",
              "      border-top-color: var(--fill-color);\n",
              "    }\n",
              "    30% {\n",
              "      border-color: transparent;\n",
              "      border-left-color: var(--fill-color);\n",
              "      border-top-color: var(--fill-color);\n",
              "      border-right-color: var(--fill-color);\n",
              "    }\n",
              "    40% {\n",
              "      border-color: transparent;\n",
              "      border-right-color: var(--fill-color);\n",
              "      border-top-color: var(--fill-color);\n",
              "    }\n",
              "    60% {\n",
              "      border-color: transparent;\n",
              "      border-right-color: var(--fill-color);\n",
              "    }\n",
              "    80% {\n",
              "      border-color: transparent;\n",
              "      border-right-color: var(--fill-color);\n",
              "      border-bottom-color: var(--fill-color);\n",
              "    }\n",
              "    90% {\n",
              "      border-color: transparent;\n",
              "      border-bottom-color: var(--fill-color);\n",
              "    }\n",
              "  }\n",
              "</style>\n",
              "\n",
              "  <script>\n",
              "    async function quickchart(key) {\n",
              "      const quickchartButtonEl =\n",
              "        document.querySelector('#' + key + ' button');\n",
              "      quickchartButtonEl.disabled = true;  // To prevent multiple clicks.\n",
              "      quickchartButtonEl.classList.add('colab-df-spinner');\n",
              "      try {\n",
              "        const charts = await google.colab.kernel.invokeFunction(\n",
              "            'suggestCharts', [key], {});\n",
              "      } catch (error) {\n",
              "        console.error('Error during call to suggestCharts:', error);\n",
              "      }\n",
              "      quickchartButtonEl.classList.remove('colab-df-spinner');\n",
              "      quickchartButtonEl.classList.add('colab-df-quickchart-complete');\n",
              "    }\n",
              "    (() => {\n",
              "      let quickchartButtonEl =\n",
              "        document.querySelector('#df-453087a3-c9c1-461d-a885-ea5cab591989 button');\n",
              "      quickchartButtonEl.style.display =\n",
              "        google.colab.kernel.accessAllowed ? 'block' : 'none';\n",
              "    })();\n",
              "  </script>\n",
              "</div>\n",
              "    </div>\n",
              "  </div>\n"
            ],
            "application/vnd.google.colaboratory.intrinsic+json": {
              "type": "dataframe",
              "variable_name": "authors"
            }
          },
          "metadata": {},
          "execution_count": 21
        }
      ]
    },
    {
      "cell_type": "markdown",
      "source": [
        "**UNITED FEATURE** (LAYER SELF)"
      ],
      "metadata": {
        "id": "CiCZi-heiZK_"
      }
    },
    {
      "cell_type": "code",
      "source": [
        "authors['embed_feat_a'] = authors.apply(lambda row: tch.hstack((row['interest'], row['h_index'], row['p_index'])), axis=1)\n",
        "papers['embed_feat_p'] = papers.apply(lambda row: tch.hstack((row['title'], row['year'])), axis=1) #.reshape((1,-1))\n",
        "embed_a = tch.stack(authors['embed_feat_a'].to_list())\n",
        "embed_p = tch.stack(papers['embed_feat_p'].to_list())"
      ],
      "metadata": {
        "id": "c1aXTVpV8Va-"
      },
      "execution_count": 22,
      "outputs": []
    },
    {
      "cell_type": "code",
      "source": [
        "class AE(tch.nn.Module):\n",
        "  def __init__(self, in_size):\n",
        "    super().__init__()\n",
        "    self.encoder = tch.nn.Sequential(tch.nn.Linear(in_size, 32), tch.nn.ReLU(),\n",
        "                                     tch.nn.Dropout(0.15),\n",
        "                                     tch.nn.Linear(32, 16), tch.nn.ReLU(),\n",
        "                                     tch.nn.Dropout(0.15),\n",
        "                                     tch.nn.Linear(16, 8), tch.nn.ReLU(),\n",
        "                                     tch.nn.Dropout(0.15),\n",
        "                                     tch.nn.Linear(8, 1))\n",
        "\n",
        "    self.decoder = tch.nn.Sequential(tch.nn.Linear(1, 8), tch.nn.ReLU(),\n",
        "                                     tch.nn.Dropout(0.15),\n",
        "                                     tch.nn.Linear(8, 16), tch.nn.ReLU(),\n",
        "                                     tch.nn.Dropout(0.15),\n",
        "                                     tch.nn.Linear(16, 32), tch.nn.ReLU(),\n",
        "                                     tch.nn.Dropout(0.15),\n",
        "                                     tch.nn.Linear(32, in_size))\n",
        "\n",
        "  def forward(self, x):\n",
        "    encoded = self.encoder(x)\n",
        "    decoded = self.decoder(encoded)\n",
        "    return decoded"
      ],
      "metadata": {
        "id": "0a0H8nPKWjyM"
      },
      "execution_count": 23,
      "outputs": []
    },
    {
      "cell_type": "code",
      "source": [
        "model_a = AE(34)\n",
        "model_p = AE(33)\n",
        "loss_function = tch.nn.MSELoss()\n",
        "optimizer_a = tch.optim.Adam(model_a.parameters(), lr = 1e-2, weight_decay = 1e-3, amsgrad=True)\n",
        "optimizer_p = tch.optim.Adam(model_p.parameters(), lr = 1e-2, weight_decay = 1e-3, amsgrad=True)\n",
        "epochs = 40"
      ],
      "metadata": {
        "id": "V8Tb6c8tljyM"
      },
      "execution_count": 24,
      "outputs": []
    },
    {
      "cell_type": "code",
      "source": [
        "# FOR AUTHORS' FEATURES\n",
        "# losses = []\n",
        "for epoch in range(epochs):\n",
        "  reconstructed_a = model_a(embed_a)\n",
        "  loss = loss_function(reconstructed_a, embed_a)\n",
        "  optimizer_a.zero_grad()\n",
        "  loss.backward()\n",
        "  optimizer_a.step()\n",
        "  # losses.append(loss)\n",
        "print(loss)\n",
        "new_a = model_a.encoder(embed_a)\n",
        "# tch.save(model_a, data_path)"
      ],
      "metadata": {
        "colab": {
          "base_uri": "https://localhost:8080/"
        },
        "id": "EEcs5LnQJp0c",
        "outputId": "63b9a27b-1d78-40d6-a889-49d940b742b8"
      },
      "execution_count": 25,
      "outputs": [
        {
          "output_type": "stream",
          "name": "stdout",
          "text": [
            "tensor(2.2961, grad_fn=<MseLossBackward0>)\n"
          ]
        }
      ]
    },
    {
      "cell_type": "code",
      "source": [
        "# FOR PAPERS' FEATURES\n",
        "# losses = []\n",
        "for epoch in range(epochs):\n",
        "  reconstructed_p = model_p(embed_p)\n",
        "  loss = loss_function(reconstructed_p, embed_p)\n",
        "  optimizer_p.zero_grad()\n",
        "  loss.backward()\n",
        "  optimizer_p.step()\n",
        "  # losses.append(loss)\n",
        "print(loss)\n",
        "new_p = model_p.encoder(embed_p)\n",
        "# tch.save(model_p, data_path)"
      ],
      "metadata": {
        "colab": {
          "base_uri": "https://localhost:8080/"
        },
        "id": "FvqpJUQIu1wW",
        "outputId": "2f3b4b38-17f2-40be-856a-35b0312252cb"
      },
      "execution_count": 26,
      "outputs": [
        {
          "output_type": "stream",
          "name": "stdout",
          "text": [
            "tensor(0.1033, grad_fn=<MseLossBackward0>)\n"
          ]
        }
      ]
    },
    {
      "cell_type": "code",
      "source": [
        "# FOR TEST DATA\n",
        "\n",
        "# model_p = tch.load(model_p)"
      ],
      "metadata": {
        "id": "rRAqF26yGG8W"
      },
      "execution_count": 27,
      "outputs": []
    },
    {
      "cell_type": "code",
      "source": [
        "authors['a_embed'] = list(tch.tensor(new_a.reshape((-1,1)).detach().numpy()))\n",
        "authors.head(2)"
      ],
      "metadata": {
        "colab": {
          "base_uri": "https://localhost:8080/",
          "height": 112
        },
        "id": "Uwt8d7U1hb2j",
        "outputId": "0f8dc5dc-201b-42c3-ddc1-36e004e690b6"
      },
      "execution_count": 28,
      "outputs": [
        {
          "output_type": "execute_result",
          "data": {
            "text/plain": [
              "    index_a     index_p       h_index       p_index  \\\n",
              "0      a100  [p1853556]  [tensor(1.)]  [tensor(1.)]   \n",
              "1  a1000000  [p1608103]  [tensor(1.)]  [tensor(1.)]   \n",
              "\n",
              "                                            interest venue_name  \\\n",
              "0  [tensor(-0.1095), tensor(-0.1607), tensor(0.33...         []   \n",
              "1  [tensor(0.0124), tensor(-0.0852), tensor(0.090...         []   \n",
              "\n",
              "            co_authors  abnormal  \\\n",
              "0                   []         0   \n",
              "1  [a1145211, a937524]         0   \n",
              "\n",
              "                                        embed_feat_a            a_embed  \n",
              "0  [tensor(-0.1095), tensor(-0.1607), tensor(0.33...  [tensor(-0.0421)]  \n",
              "1  [tensor(0.0124), tensor(-0.0852), tensor(0.090...  [tensor(-0.0630)]  "
            ],
            "text/html": [
              "\n",
              "  <div id=\"df-f4995905-8ee9-4de5-a859-6f9d8542d9e9\" class=\"colab-df-container\">\n",
              "    <div>\n",
              "<style scoped>\n",
              "    .dataframe tbody tr th:only-of-type {\n",
              "        vertical-align: middle;\n",
              "    }\n",
              "\n",
              "    .dataframe tbody tr th {\n",
              "        vertical-align: top;\n",
              "    }\n",
              "\n",
              "    .dataframe thead th {\n",
              "        text-align: right;\n",
              "    }\n",
              "</style>\n",
              "<table border=\"1\" class=\"dataframe\">\n",
              "  <thead>\n",
              "    <tr style=\"text-align: right;\">\n",
              "      <th></th>\n",
              "      <th>index_a</th>\n",
              "      <th>index_p</th>\n",
              "      <th>h_index</th>\n",
              "      <th>p_index</th>\n",
              "      <th>interest</th>\n",
              "      <th>venue_name</th>\n",
              "      <th>co_authors</th>\n",
              "      <th>abnormal</th>\n",
              "      <th>embed_feat_a</th>\n",
              "      <th>a_embed</th>\n",
              "    </tr>\n",
              "  </thead>\n",
              "  <tbody>\n",
              "    <tr>\n",
              "      <th>0</th>\n",
              "      <td>a100</td>\n",
              "      <td>[p1853556]</td>\n",
              "      <td>[tensor(1.)]</td>\n",
              "      <td>[tensor(1.)]</td>\n",
              "      <td>[tensor(-0.1095), tensor(-0.1607), tensor(0.33...</td>\n",
              "      <td>[]</td>\n",
              "      <td>[]</td>\n",
              "      <td>0</td>\n",
              "      <td>[tensor(-0.1095), tensor(-0.1607), tensor(0.33...</td>\n",
              "      <td>[tensor(-0.0421)]</td>\n",
              "    </tr>\n",
              "    <tr>\n",
              "      <th>1</th>\n",
              "      <td>a1000000</td>\n",
              "      <td>[p1608103]</td>\n",
              "      <td>[tensor(1.)]</td>\n",
              "      <td>[tensor(1.)]</td>\n",
              "      <td>[tensor(0.0124), tensor(-0.0852), tensor(0.090...</td>\n",
              "      <td>[]</td>\n",
              "      <td>[a1145211, a937524]</td>\n",
              "      <td>0</td>\n",
              "      <td>[tensor(0.0124), tensor(-0.0852), tensor(0.090...</td>\n",
              "      <td>[tensor(-0.0630)]</td>\n",
              "    </tr>\n",
              "  </tbody>\n",
              "</table>\n",
              "</div>\n",
              "    <div class=\"colab-df-buttons\">\n",
              "\n",
              "  <div class=\"colab-df-container\">\n",
              "    <button class=\"colab-df-convert\" onclick=\"convertToInteractive('df-f4995905-8ee9-4de5-a859-6f9d8542d9e9')\"\n",
              "            title=\"Convert this dataframe to an interactive table.\"\n",
              "            style=\"display:none;\">\n",
              "\n",
              "  <svg xmlns=\"http://www.w3.org/2000/svg\" height=\"24px\" viewBox=\"0 -960 960 960\">\n",
              "    <path d=\"M120-120v-720h720v720H120Zm60-500h600v-160H180v160Zm220 220h160v-160H400v160Zm0 220h160v-160H400v160ZM180-400h160v-160H180v160Zm440 0h160v-160H620v160ZM180-180h160v-160H180v160Zm440 0h160v-160H620v160Z\"/>\n",
              "  </svg>\n",
              "    </button>\n",
              "\n",
              "  <style>\n",
              "    .colab-df-container {\n",
              "      display:flex;\n",
              "      gap: 12px;\n",
              "    }\n",
              "\n",
              "    .colab-df-convert {\n",
              "      background-color: #E8F0FE;\n",
              "      border: none;\n",
              "      border-radius: 50%;\n",
              "      cursor: pointer;\n",
              "      display: none;\n",
              "      fill: #1967D2;\n",
              "      height: 32px;\n",
              "      padding: 0 0 0 0;\n",
              "      width: 32px;\n",
              "    }\n",
              "\n",
              "    .colab-df-convert:hover {\n",
              "      background-color: #E2EBFA;\n",
              "      box-shadow: 0px 1px 2px rgba(60, 64, 67, 0.3), 0px 1px 3px 1px rgba(60, 64, 67, 0.15);\n",
              "      fill: #174EA6;\n",
              "    }\n",
              "\n",
              "    .colab-df-buttons div {\n",
              "      margin-bottom: 4px;\n",
              "    }\n",
              "\n",
              "    [theme=dark] .colab-df-convert {\n",
              "      background-color: #3B4455;\n",
              "      fill: #D2E3FC;\n",
              "    }\n",
              "\n",
              "    [theme=dark] .colab-df-convert:hover {\n",
              "      background-color: #434B5C;\n",
              "      box-shadow: 0px 1px 3px 1px rgba(0, 0, 0, 0.15);\n",
              "      filter: drop-shadow(0px 1px 2px rgba(0, 0, 0, 0.3));\n",
              "      fill: #FFFFFF;\n",
              "    }\n",
              "  </style>\n",
              "\n",
              "    <script>\n",
              "      const buttonEl =\n",
              "        document.querySelector('#df-f4995905-8ee9-4de5-a859-6f9d8542d9e9 button.colab-df-convert');\n",
              "      buttonEl.style.display =\n",
              "        google.colab.kernel.accessAllowed ? 'block' : 'none';\n",
              "\n",
              "      async function convertToInteractive(key) {\n",
              "        const element = document.querySelector('#df-f4995905-8ee9-4de5-a859-6f9d8542d9e9');\n",
              "        const dataTable =\n",
              "          await google.colab.kernel.invokeFunction('convertToInteractive',\n",
              "                                                    [key], {});\n",
              "        if (!dataTable) return;\n",
              "\n",
              "        const docLinkHtml = 'Like what you see? Visit the ' +\n",
              "          '<a target=\"_blank\" href=https://colab.research.google.com/notebooks/data_table.ipynb>data table notebook</a>'\n",
              "          + ' to learn more about interactive tables.';\n",
              "        element.innerHTML = '';\n",
              "        dataTable['output_type'] = 'display_data';\n",
              "        await google.colab.output.renderOutput(dataTable, element);\n",
              "        const docLink = document.createElement('div');\n",
              "        docLink.innerHTML = docLinkHtml;\n",
              "        element.appendChild(docLink);\n",
              "      }\n",
              "    </script>\n",
              "  </div>\n",
              "\n",
              "\n",
              "<div id=\"df-530b923c-a82c-47e4-af79-36405f1a688a\">\n",
              "  <button class=\"colab-df-quickchart\" onclick=\"quickchart('df-530b923c-a82c-47e4-af79-36405f1a688a')\"\n",
              "            title=\"Suggest charts\"\n",
              "            style=\"display:none;\">\n",
              "\n",
              "<svg xmlns=\"http://www.w3.org/2000/svg\" height=\"24px\"viewBox=\"0 0 24 24\"\n",
              "     width=\"24px\">\n",
              "    <g>\n",
              "        <path d=\"M19 3H5c-1.1 0-2 .9-2 2v14c0 1.1.9 2 2 2h14c1.1 0 2-.9 2-2V5c0-1.1-.9-2-2-2zM9 17H7v-7h2v7zm4 0h-2V7h2v10zm4 0h-2v-4h2v4z\"/>\n",
              "    </g>\n",
              "</svg>\n",
              "  </button>\n",
              "\n",
              "<style>\n",
              "  .colab-df-quickchart {\n",
              "      --bg-color: #E8F0FE;\n",
              "      --fill-color: #1967D2;\n",
              "      --hover-bg-color: #E2EBFA;\n",
              "      --hover-fill-color: #174EA6;\n",
              "      --disabled-fill-color: #AAA;\n",
              "      --disabled-bg-color: #DDD;\n",
              "  }\n",
              "\n",
              "  [theme=dark] .colab-df-quickchart {\n",
              "      --bg-color: #3B4455;\n",
              "      --fill-color: #D2E3FC;\n",
              "      --hover-bg-color: #434B5C;\n",
              "      --hover-fill-color: #FFFFFF;\n",
              "      --disabled-bg-color: #3B4455;\n",
              "      --disabled-fill-color: #666;\n",
              "  }\n",
              "\n",
              "  .colab-df-quickchart {\n",
              "    background-color: var(--bg-color);\n",
              "    border: none;\n",
              "    border-radius: 50%;\n",
              "    cursor: pointer;\n",
              "    display: none;\n",
              "    fill: var(--fill-color);\n",
              "    height: 32px;\n",
              "    padding: 0;\n",
              "    width: 32px;\n",
              "  }\n",
              "\n",
              "  .colab-df-quickchart:hover {\n",
              "    background-color: var(--hover-bg-color);\n",
              "    box-shadow: 0 1px 2px rgba(60, 64, 67, 0.3), 0 1px 3px 1px rgba(60, 64, 67, 0.15);\n",
              "    fill: var(--button-hover-fill-color);\n",
              "  }\n",
              "\n",
              "  .colab-df-quickchart-complete:disabled,\n",
              "  .colab-df-quickchart-complete:disabled:hover {\n",
              "    background-color: var(--disabled-bg-color);\n",
              "    fill: var(--disabled-fill-color);\n",
              "    box-shadow: none;\n",
              "  }\n",
              "\n",
              "  .colab-df-spinner {\n",
              "    border: 2px solid var(--fill-color);\n",
              "    border-color: transparent;\n",
              "    border-bottom-color: var(--fill-color);\n",
              "    animation:\n",
              "      spin 1s steps(1) infinite;\n",
              "  }\n",
              "\n",
              "  @keyframes spin {\n",
              "    0% {\n",
              "      border-color: transparent;\n",
              "      border-bottom-color: var(--fill-color);\n",
              "      border-left-color: var(--fill-color);\n",
              "    }\n",
              "    20% {\n",
              "      border-color: transparent;\n",
              "      border-left-color: var(--fill-color);\n",
              "      border-top-color: var(--fill-color);\n",
              "    }\n",
              "    30% {\n",
              "      border-color: transparent;\n",
              "      border-left-color: var(--fill-color);\n",
              "      border-top-color: var(--fill-color);\n",
              "      border-right-color: var(--fill-color);\n",
              "    }\n",
              "    40% {\n",
              "      border-color: transparent;\n",
              "      border-right-color: var(--fill-color);\n",
              "      border-top-color: var(--fill-color);\n",
              "    }\n",
              "    60% {\n",
              "      border-color: transparent;\n",
              "      border-right-color: var(--fill-color);\n",
              "    }\n",
              "    80% {\n",
              "      border-color: transparent;\n",
              "      border-right-color: var(--fill-color);\n",
              "      border-bottom-color: var(--fill-color);\n",
              "    }\n",
              "    90% {\n",
              "      border-color: transparent;\n",
              "      border-bottom-color: var(--fill-color);\n",
              "    }\n",
              "  }\n",
              "</style>\n",
              "\n",
              "  <script>\n",
              "    async function quickchart(key) {\n",
              "      const quickchartButtonEl =\n",
              "        document.querySelector('#' + key + ' button');\n",
              "      quickchartButtonEl.disabled = true;  // To prevent multiple clicks.\n",
              "      quickchartButtonEl.classList.add('colab-df-spinner');\n",
              "      try {\n",
              "        const charts = await google.colab.kernel.invokeFunction(\n",
              "            'suggestCharts', [key], {});\n",
              "      } catch (error) {\n",
              "        console.error('Error during call to suggestCharts:', error);\n",
              "      }\n",
              "      quickchartButtonEl.classList.remove('colab-df-spinner');\n",
              "      quickchartButtonEl.classList.add('colab-df-quickchart-complete');\n",
              "    }\n",
              "    (() => {\n",
              "      let quickchartButtonEl =\n",
              "        document.querySelector('#df-530b923c-a82c-47e4-af79-36405f1a688a button');\n",
              "      quickchartButtonEl.style.display =\n",
              "        google.colab.kernel.accessAllowed ? 'block' : 'none';\n",
              "    })();\n",
              "  </script>\n",
              "</div>\n",
              "    </div>\n",
              "  </div>\n"
            ],
            "application/vnd.google.colaboratory.intrinsic+json": {
              "type": "dataframe",
              "variable_name": "authors"
            }
          },
          "metadata": {},
          "execution_count": 28
        }
      ]
    },
    {
      "cell_type": "code",
      "source": [
        "papers['p_embed'] = list(tch.tensor(new_p.reshape((-1,1)).detach().numpy()))\n",
        "papers.head(2)"
      ],
      "metadata": {
        "colab": {
          "base_uri": "https://localhost:8080/",
          "height": 112
        },
        "id": "KeVqobT49obc",
        "outputId": "018c2aaf-f7cf-4567-b287-5d07c27146e3"
      },
      "execution_count": 29,
      "outputs": [
        {
          "output_type": "execute_result",
          "data": {
            "text/plain": [
              "    index_p              index_a  \\\n",
              "0  p1221037  [a1573508, a701939]   \n",
              "1  p1247452           [a1150721]   \n",
              "\n",
              "                                               title          year references  \\\n",
              "0  [tensor(0.1387), tensor(-0.1581), tensor(-0.02...  [tensor(1.)]         []   \n",
              "1  [tensor(-0.0670), tensor(-0.0785), tensor(0.05...  [tensor(1.)]         []   \n",
              "\n",
              "  venue_name  abnormal                                       embed_feat_p  \\\n",
              "0         []         0  [tensor(0.1387), tensor(-0.1581), tensor(-0.02...   \n",
              "1         []         0  [tensor(-0.0670), tensor(-0.0785), tensor(0.05...   \n",
              "\n",
              "            p_embed  \n",
              "0  [tensor(0.2295)]  \n",
              "1  [tensor(0.2294)]  "
            ],
            "text/html": [
              "\n",
              "  <div id=\"df-9d73db8d-c4f3-4f74-89fd-d46a481659d2\" class=\"colab-df-container\">\n",
              "    <div>\n",
              "<style scoped>\n",
              "    .dataframe tbody tr th:only-of-type {\n",
              "        vertical-align: middle;\n",
              "    }\n",
              "\n",
              "    .dataframe tbody tr th {\n",
              "        vertical-align: top;\n",
              "    }\n",
              "\n",
              "    .dataframe thead th {\n",
              "        text-align: right;\n",
              "    }\n",
              "</style>\n",
              "<table border=\"1\" class=\"dataframe\">\n",
              "  <thead>\n",
              "    <tr style=\"text-align: right;\">\n",
              "      <th></th>\n",
              "      <th>index_p</th>\n",
              "      <th>index_a</th>\n",
              "      <th>title</th>\n",
              "      <th>year</th>\n",
              "      <th>references</th>\n",
              "      <th>venue_name</th>\n",
              "      <th>abnormal</th>\n",
              "      <th>embed_feat_p</th>\n",
              "      <th>p_embed</th>\n",
              "    </tr>\n",
              "  </thead>\n",
              "  <tbody>\n",
              "    <tr>\n",
              "      <th>0</th>\n",
              "      <td>p1221037</td>\n",
              "      <td>[a1573508, a701939]</td>\n",
              "      <td>[tensor(0.1387), tensor(-0.1581), tensor(-0.02...</td>\n",
              "      <td>[tensor(1.)]</td>\n",
              "      <td>[]</td>\n",
              "      <td>[]</td>\n",
              "      <td>0</td>\n",
              "      <td>[tensor(0.1387), tensor(-0.1581), tensor(-0.02...</td>\n",
              "      <td>[tensor(0.2295)]</td>\n",
              "    </tr>\n",
              "    <tr>\n",
              "      <th>1</th>\n",
              "      <td>p1247452</td>\n",
              "      <td>[a1150721]</td>\n",
              "      <td>[tensor(-0.0670), tensor(-0.0785), tensor(0.05...</td>\n",
              "      <td>[tensor(1.)]</td>\n",
              "      <td>[]</td>\n",
              "      <td>[]</td>\n",
              "      <td>0</td>\n",
              "      <td>[tensor(-0.0670), tensor(-0.0785), tensor(0.05...</td>\n",
              "      <td>[tensor(0.2294)]</td>\n",
              "    </tr>\n",
              "  </tbody>\n",
              "</table>\n",
              "</div>\n",
              "    <div class=\"colab-df-buttons\">\n",
              "\n",
              "  <div class=\"colab-df-container\">\n",
              "    <button class=\"colab-df-convert\" onclick=\"convertToInteractive('df-9d73db8d-c4f3-4f74-89fd-d46a481659d2')\"\n",
              "            title=\"Convert this dataframe to an interactive table.\"\n",
              "            style=\"display:none;\">\n",
              "\n",
              "  <svg xmlns=\"http://www.w3.org/2000/svg\" height=\"24px\" viewBox=\"0 -960 960 960\">\n",
              "    <path d=\"M120-120v-720h720v720H120Zm60-500h600v-160H180v160Zm220 220h160v-160H400v160Zm0 220h160v-160H400v160ZM180-400h160v-160H180v160Zm440 0h160v-160H620v160ZM180-180h160v-160H180v160Zm440 0h160v-160H620v160Z\"/>\n",
              "  </svg>\n",
              "    </button>\n",
              "\n",
              "  <style>\n",
              "    .colab-df-container {\n",
              "      display:flex;\n",
              "      gap: 12px;\n",
              "    }\n",
              "\n",
              "    .colab-df-convert {\n",
              "      background-color: #E8F0FE;\n",
              "      border: none;\n",
              "      border-radius: 50%;\n",
              "      cursor: pointer;\n",
              "      display: none;\n",
              "      fill: #1967D2;\n",
              "      height: 32px;\n",
              "      padding: 0 0 0 0;\n",
              "      width: 32px;\n",
              "    }\n",
              "\n",
              "    .colab-df-convert:hover {\n",
              "      background-color: #E2EBFA;\n",
              "      box-shadow: 0px 1px 2px rgba(60, 64, 67, 0.3), 0px 1px 3px 1px rgba(60, 64, 67, 0.15);\n",
              "      fill: #174EA6;\n",
              "    }\n",
              "\n",
              "    .colab-df-buttons div {\n",
              "      margin-bottom: 4px;\n",
              "    }\n",
              "\n",
              "    [theme=dark] .colab-df-convert {\n",
              "      background-color: #3B4455;\n",
              "      fill: #D2E3FC;\n",
              "    }\n",
              "\n",
              "    [theme=dark] .colab-df-convert:hover {\n",
              "      background-color: #434B5C;\n",
              "      box-shadow: 0px 1px 3px 1px rgba(0, 0, 0, 0.15);\n",
              "      filter: drop-shadow(0px 1px 2px rgba(0, 0, 0, 0.3));\n",
              "      fill: #FFFFFF;\n",
              "    }\n",
              "  </style>\n",
              "\n",
              "    <script>\n",
              "      const buttonEl =\n",
              "        document.querySelector('#df-9d73db8d-c4f3-4f74-89fd-d46a481659d2 button.colab-df-convert');\n",
              "      buttonEl.style.display =\n",
              "        google.colab.kernel.accessAllowed ? 'block' : 'none';\n",
              "\n",
              "      async function convertToInteractive(key) {\n",
              "        const element = document.querySelector('#df-9d73db8d-c4f3-4f74-89fd-d46a481659d2');\n",
              "        const dataTable =\n",
              "          await google.colab.kernel.invokeFunction('convertToInteractive',\n",
              "                                                    [key], {});\n",
              "        if (!dataTable) return;\n",
              "\n",
              "        const docLinkHtml = 'Like what you see? Visit the ' +\n",
              "          '<a target=\"_blank\" href=https://colab.research.google.com/notebooks/data_table.ipynb>data table notebook</a>'\n",
              "          + ' to learn more about interactive tables.';\n",
              "        element.innerHTML = '';\n",
              "        dataTable['output_type'] = 'display_data';\n",
              "        await google.colab.output.renderOutput(dataTable, element);\n",
              "        const docLink = document.createElement('div');\n",
              "        docLink.innerHTML = docLinkHtml;\n",
              "        element.appendChild(docLink);\n",
              "      }\n",
              "    </script>\n",
              "  </div>\n",
              "\n",
              "\n",
              "<div id=\"df-87c9a77d-4067-4a57-9c36-08b252266054\">\n",
              "  <button class=\"colab-df-quickchart\" onclick=\"quickchart('df-87c9a77d-4067-4a57-9c36-08b252266054')\"\n",
              "            title=\"Suggest charts\"\n",
              "            style=\"display:none;\">\n",
              "\n",
              "<svg xmlns=\"http://www.w3.org/2000/svg\" height=\"24px\"viewBox=\"0 0 24 24\"\n",
              "     width=\"24px\">\n",
              "    <g>\n",
              "        <path d=\"M19 3H5c-1.1 0-2 .9-2 2v14c0 1.1.9 2 2 2h14c1.1 0 2-.9 2-2V5c0-1.1-.9-2-2-2zM9 17H7v-7h2v7zm4 0h-2V7h2v10zm4 0h-2v-4h2v4z\"/>\n",
              "    </g>\n",
              "</svg>\n",
              "  </button>\n",
              "\n",
              "<style>\n",
              "  .colab-df-quickchart {\n",
              "      --bg-color: #E8F0FE;\n",
              "      --fill-color: #1967D2;\n",
              "      --hover-bg-color: #E2EBFA;\n",
              "      --hover-fill-color: #174EA6;\n",
              "      --disabled-fill-color: #AAA;\n",
              "      --disabled-bg-color: #DDD;\n",
              "  }\n",
              "\n",
              "  [theme=dark] .colab-df-quickchart {\n",
              "      --bg-color: #3B4455;\n",
              "      --fill-color: #D2E3FC;\n",
              "      --hover-bg-color: #434B5C;\n",
              "      --hover-fill-color: #FFFFFF;\n",
              "      --disabled-bg-color: #3B4455;\n",
              "      --disabled-fill-color: #666;\n",
              "  }\n",
              "\n",
              "  .colab-df-quickchart {\n",
              "    background-color: var(--bg-color);\n",
              "    border: none;\n",
              "    border-radius: 50%;\n",
              "    cursor: pointer;\n",
              "    display: none;\n",
              "    fill: var(--fill-color);\n",
              "    height: 32px;\n",
              "    padding: 0;\n",
              "    width: 32px;\n",
              "  }\n",
              "\n",
              "  .colab-df-quickchart:hover {\n",
              "    background-color: var(--hover-bg-color);\n",
              "    box-shadow: 0 1px 2px rgba(60, 64, 67, 0.3), 0 1px 3px 1px rgba(60, 64, 67, 0.15);\n",
              "    fill: var(--button-hover-fill-color);\n",
              "  }\n",
              "\n",
              "  .colab-df-quickchart-complete:disabled,\n",
              "  .colab-df-quickchart-complete:disabled:hover {\n",
              "    background-color: var(--disabled-bg-color);\n",
              "    fill: var(--disabled-fill-color);\n",
              "    box-shadow: none;\n",
              "  }\n",
              "\n",
              "  .colab-df-spinner {\n",
              "    border: 2px solid var(--fill-color);\n",
              "    border-color: transparent;\n",
              "    border-bottom-color: var(--fill-color);\n",
              "    animation:\n",
              "      spin 1s steps(1) infinite;\n",
              "  }\n",
              "\n",
              "  @keyframes spin {\n",
              "    0% {\n",
              "      border-color: transparent;\n",
              "      border-bottom-color: var(--fill-color);\n",
              "      border-left-color: var(--fill-color);\n",
              "    }\n",
              "    20% {\n",
              "      border-color: transparent;\n",
              "      border-left-color: var(--fill-color);\n",
              "      border-top-color: var(--fill-color);\n",
              "    }\n",
              "    30% {\n",
              "      border-color: transparent;\n",
              "      border-left-color: var(--fill-color);\n",
              "      border-top-color: var(--fill-color);\n",
              "      border-right-color: var(--fill-color);\n",
              "    }\n",
              "    40% {\n",
              "      border-color: transparent;\n",
              "      border-right-color: var(--fill-color);\n",
              "      border-top-color: var(--fill-color);\n",
              "    }\n",
              "    60% {\n",
              "      border-color: transparent;\n",
              "      border-right-color: var(--fill-color);\n",
              "    }\n",
              "    80% {\n",
              "      border-color: transparent;\n",
              "      border-right-color: var(--fill-color);\n",
              "      border-bottom-color: var(--fill-color);\n",
              "    }\n",
              "    90% {\n",
              "      border-color: transparent;\n",
              "      border-bottom-color: var(--fill-color);\n",
              "    }\n",
              "  }\n",
              "</style>\n",
              "\n",
              "  <script>\n",
              "    async function quickchart(key) {\n",
              "      const quickchartButtonEl =\n",
              "        document.querySelector('#' + key + ' button');\n",
              "      quickchartButtonEl.disabled = true;  // To prevent multiple clicks.\n",
              "      quickchartButtonEl.classList.add('colab-df-spinner');\n",
              "      try {\n",
              "        const charts = await google.colab.kernel.invokeFunction(\n",
              "            'suggestCharts', [key], {});\n",
              "      } catch (error) {\n",
              "        console.error('Error during call to suggestCharts:', error);\n",
              "      }\n",
              "      quickchartButtonEl.classList.remove('colab-df-spinner');\n",
              "      quickchartButtonEl.classList.add('colab-df-quickchart-complete');\n",
              "    }\n",
              "    (() => {\n",
              "      let quickchartButtonEl =\n",
              "        document.querySelector('#df-87c9a77d-4067-4a57-9c36-08b252266054 button');\n",
              "      quickchartButtonEl.style.display =\n",
              "        google.colab.kernel.accessAllowed ? 'block' : 'none';\n",
              "    })();\n",
              "  </script>\n",
              "</div>\n",
              "    </div>\n",
              "  </div>\n"
            ],
            "application/vnd.google.colaboratory.intrinsic+json": {
              "type": "dataframe",
              "variable_name": "papers"
            }
          },
          "metadata": {},
          "execution_count": 29
        }
      ]
    },
    {
      "cell_type": "markdown",
      "source": [
        "**MAKE GRAPH**"
      ],
      "metadata": {
        "id": "xBsuJt0XZa98"
      }
    },
    {
      "cell_type": "code",
      "source": [
        "papers['idx_p'] = [i for i in range(len(papers['index_p']))]\n",
        "authors['idx_a'] = [i for i in range(len(authors['index_a']))]"
      ],
      "metadata": {
        "id": "zoWoDUFIyPU2"
      },
      "execution_count": 30,
      "outputs": []
    },
    {
      "cell_type": "code",
      "source": [
        "papers_ex_a = papers.explode(['index_a'], ignore_index= True).reset_index(drop=True)\n",
        "papers_ex_a_mg = papers_ex_a.merge(authors, how='left', on='index_a')\n",
        "papers_ex_a_mg.tail(1)"
      ],
      "metadata": {
        "id": "zPuFnyb9ue5V",
        "colab": {
          "base_uri": "https://localhost:8080/",
          "height": 135
        },
        "outputId": "675ab610-07ba-423b-bceb-f4925a7e1587"
      },
      "execution_count": 31,
      "outputs": [
        {
          "output_type": "execute_result",
          "data": {
            "text/plain": [
              "       index_p_x  index_a                                              title  \\\n",
              "688711   p935104  a527608  [tensor(-0.1990), tensor(-0.1119), tensor(0.12...   \n",
              "\n",
              "                year references venue_name_x  abnormal_x  \\\n",
              "688711  [tensor(1.)]         []           []           0   \n",
              "\n",
              "                                             embed_feat_p           p_embed  \\\n",
              "688711  [tensor(-0.1990), tensor(-0.1119), tensor(0.12...  [tensor(0.2307)]   \n",
              "\n",
              "         idx_p  index_p_y       h_index            p_index  \\\n",
              "688711  137771  [p935104]  [tensor(2.)]  [tensor(13.2500)]   \n",
              "\n",
              "                                                 interest venue_name_y  \\\n",
              "688711  [tensor(-0.1761), tensor(-0.0537), tensor(0.07...           []   \n",
              "\n",
              "       co_authors  abnormal_y  \\\n",
              "688711         []           0   \n",
              "\n",
              "                                             embed_feat_a           a_embed  \\\n",
              "688711  [tensor(-0.1761), tensor(-0.0537), tensor(0.07...  [tensor(8.2325)]   \n",
              "\n",
              "        idx_a  \n",
              "688711  76980  "
            ],
            "text/html": [
              "\n",
              "  <div id=\"df-579ea0d9-ecf5-4ff5-b7d1-d8b82879059c\" class=\"colab-df-container\">\n",
              "    <div>\n",
              "<style scoped>\n",
              "    .dataframe tbody tr th:only-of-type {\n",
              "        vertical-align: middle;\n",
              "    }\n",
              "\n",
              "    .dataframe tbody tr th {\n",
              "        vertical-align: top;\n",
              "    }\n",
              "\n",
              "    .dataframe thead th {\n",
              "        text-align: right;\n",
              "    }\n",
              "</style>\n",
              "<table border=\"1\" class=\"dataframe\">\n",
              "  <thead>\n",
              "    <tr style=\"text-align: right;\">\n",
              "      <th></th>\n",
              "      <th>index_p_x</th>\n",
              "      <th>index_a</th>\n",
              "      <th>title</th>\n",
              "      <th>year</th>\n",
              "      <th>references</th>\n",
              "      <th>venue_name_x</th>\n",
              "      <th>abnormal_x</th>\n",
              "      <th>embed_feat_p</th>\n",
              "      <th>p_embed</th>\n",
              "      <th>idx_p</th>\n",
              "      <th>index_p_y</th>\n",
              "      <th>h_index</th>\n",
              "      <th>p_index</th>\n",
              "      <th>interest</th>\n",
              "      <th>venue_name_y</th>\n",
              "      <th>co_authors</th>\n",
              "      <th>abnormal_y</th>\n",
              "      <th>embed_feat_a</th>\n",
              "      <th>a_embed</th>\n",
              "      <th>idx_a</th>\n",
              "    </tr>\n",
              "  </thead>\n",
              "  <tbody>\n",
              "    <tr>\n",
              "      <th>688711</th>\n",
              "      <td>p935104</td>\n",
              "      <td>a527608</td>\n",
              "      <td>[tensor(-0.1990), tensor(-0.1119), tensor(0.12...</td>\n",
              "      <td>[tensor(1.)]</td>\n",
              "      <td>[]</td>\n",
              "      <td>[]</td>\n",
              "      <td>0</td>\n",
              "      <td>[tensor(-0.1990), tensor(-0.1119), tensor(0.12...</td>\n",
              "      <td>[tensor(0.2307)]</td>\n",
              "      <td>137771</td>\n",
              "      <td>[p935104]</td>\n",
              "      <td>[tensor(2.)]</td>\n",
              "      <td>[tensor(13.2500)]</td>\n",
              "      <td>[tensor(-0.1761), tensor(-0.0537), tensor(0.07...</td>\n",
              "      <td>[]</td>\n",
              "      <td>[]</td>\n",
              "      <td>0</td>\n",
              "      <td>[tensor(-0.1761), tensor(-0.0537), tensor(0.07...</td>\n",
              "      <td>[tensor(8.2325)]</td>\n",
              "      <td>76980</td>\n",
              "    </tr>\n",
              "  </tbody>\n",
              "</table>\n",
              "</div>\n",
              "    <div class=\"colab-df-buttons\">\n",
              "\n",
              "  <div class=\"colab-df-container\">\n",
              "    <button class=\"colab-df-convert\" onclick=\"convertToInteractive('df-579ea0d9-ecf5-4ff5-b7d1-d8b82879059c')\"\n",
              "            title=\"Convert this dataframe to an interactive table.\"\n",
              "            style=\"display:none;\">\n",
              "\n",
              "  <svg xmlns=\"http://www.w3.org/2000/svg\" height=\"24px\" viewBox=\"0 -960 960 960\">\n",
              "    <path d=\"M120-120v-720h720v720H120Zm60-500h600v-160H180v160Zm220 220h160v-160H400v160Zm0 220h160v-160H400v160ZM180-400h160v-160H180v160Zm440 0h160v-160H620v160ZM180-180h160v-160H180v160Zm440 0h160v-160H620v160Z\"/>\n",
              "  </svg>\n",
              "    </button>\n",
              "\n",
              "  <style>\n",
              "    .colab-df-container {\n",
              "      display:flex;\n",
              "      gap: 12px;\n",
              "    }\n",
              "\n",
              "    .colab-df-convert {\n",
              "      background-color: #E8F0FE;\n",
              "      border: none;\n",
              "      border-radius: 50%;\n",
              "      cursor: pointer;\n",
              "      display: none;\n",
              "      fill: #1967D2;\n",
              "      height: 32px;\n",
              "      padding: 0 0 0 0;\n",
              "      width: 32px;\n",
              "    }\n",
              "\n",
              "    .colab-df-convert:hover {\n",
              "      background-color: #E2EBFA;\n",
              "      box-shadow: 0px 1px 2px rgba(60, 64, 67, 0.3), 0px 1px 3px 1px rgba(60, 64, 67, 0.15);\n",
              "      fill: #174EA6;\n",
              "    }\n",
              "\n",
              "    .colab-df-buttons div {\n",
              "      margin-bottom: 4px;\n",
              "    }\n",
              "\n",
              "    [theme=dark] .colab-df-convert {\n",
              "      background-color: #3B4455;\n",
              "      fill: #D2E3FC;\n",
              "    }\n",
              "\n",
              "    [theme=dark] .colab-df-convert:hover {\n",
              "      background-color: #434B5C;\n",
              "      box-shadow: 0px 1px 3px 1px rgba(0, 0, 0, 0.15);\n",
              "      filter: drop-shadow(0px 1px 2px rgba(0, 0, 0, 0.3));\n",
              "      fill: #FFFFFF;\n",
              "    }\n",
              "  </style>\n",
              "\n",
              "    <script>\n",
              "      const buttonEl =\n",
              "        document.querySelector('#df-579ea0d9-ecf5-4ff5-b7d1-d8b82879059c button.colab-df-convert');\n",
              "      buttonEl.style.display =\n",
              "        google.colab.kernel.accessAllowed ? 'block' : 'none';\n",
              "\n",
              "      async function convertToInteractive(key) {\n",
              "        const element = document.querySelector('#df-579ea0d9-ecf5-4ff5-b7d1-d8b82879059c');\n",
              "        const dataTable =\n",
              "          await google.colab.kernel.invokeFunction('convertToInteractive',\n",
              "                                                    [key], {});\n",
              "        if (!dataTable) return;\n",
              "\n",
              "        const docLinkHtml = 'Like what you see? Visit the ' +\n",
              "          '<a target=\"_blank\" href=https://colab.research.google.com/notebooks/data_table.ipynb>data table notebook</a>'\n",
              "          + ' to learn more about interactive tables.';\n",
              "        element.innerHTML = '';\n",
              "        dataTable['output_type'] = 'display_data';\n",
              "        await google.colab.output.renderOutput(dataTable, element);\n",
              "        const docLink = document.createElement('div');\n",
              "        docLink.innerHTML = docLinkHtml;\n",
              "        element.appendChild(docLink);\n",
              "      }\n",
              "    </script>\n",
              "  </div>\n",
              "\n",
              "    </div>\n",
              "  </div>\n"
            ],
            "application/vnd.google.colaboratory.intrinsic+json": {
              "type": "dataframe",
              "summary": "{\n  \"name\": \"papers_ex_a_mg\",\n  \"rows\": 1,\n  \"fields\": [\n    {\n      \"column\": \"index_p_x\",\n      \"properties\": {\n        \"dtype\": \"string\",\n        \"num_unique_values\": 1,\n        \"samples\": [\n          \"p935104\"\n        ],\n        \"semantic_type\": \"\",\n        \"description\": \"\"\n      }\n    },\n    {\n      \"column\": \"index_a\",\n      \"properties\": {\n        \"dtype\": \"string\",\n        \"num_unique_values\": 1,\n        \"samples\": [\n          \"a527608\"\n        ],\n        \"semantic_type\": \"\",\n        \"description\": \"\"\n      }\n    },\n    {\n      \"column\": \"title\",\n      \"properties\": {\n        \"dtype\": \"string\",\n        \"num_unique_values\": 1,\n        \"samples\": [\n          \"tensor([-0.1990, -0.1119,  0.1240,  0.1718,  0.3731, -0.1300, -0.0884,  0.0190,\\n        -0.1060, -0.0934,  0.0087,  0.0251, -0.0742,  0.0848, -0.1465, -0.0507,\\n        -0.1039, -0.0821, -0.0427, -0.0232,  0.0572,  0.1304,  0.0369,  0.0935,\\n         0.0607, -0.0226, -0.2715, -0.2296, -0.1291, -0.0339,  0.1398,  0.0183])\"\n        ],\n        \"semantic_type\": \"\",\n        \"description\": \"\"\n      }\n    },\n    {\n      \"column\": \"year\",\n      \"properties\": {\n        \"dtype\": \"string\",\n        \"num_unique_values\": 1,\n        \"samples\": [\n          \"tensor([1.])\"\n        ],\n        \"semantic_type\": \"\",\n        \"description\": \"\"\n      }\n    },\n    {\n      \"column\": \"references\",\n      \"properties\": {\n        \"dtype\": \"object\",\n        \"semantic_type\": \"\",\n        \"description\": \"\"\n      }\n    },\n    {\n      \"column\": \"venue_name_x\",\n      \"properties\": {\n        \"dtype\": \"object\",\n        \"semantic_type\": \"\",\n        \"description\": \"\"\n      }\n    },\n    {\n      \"column\": \"abnormal_x\",\n      \"properties\": {\n        \"dtype\": \"number\",\n        \"std\": null,\n        \"min\": 0,\n        \"max\": 0,\n        \"num_unique_values\": 1,\n        \"samples\": [\n          0\n        ],\n        \"semantic_type\": \"\",\n        \"description\": \"\"\n      }\n    },\n    {\n      \"column\": \"embed_feat_p\",\n      \"properties\": {\n        \"dtype\": \"string\",\n        \"num_unique_values\": 1,\n        \"samples\": [\n          \"tensor([-0.1990, -0.1119,  0.1240,  0.1718,  0.3731, -0.1300, -0.0884,  0.0190,\\n        -0.1060, -0.0934,  0.0087,  0.0251, -0.0742,  0.0848, -0.1465, -0.0507,\\n        -0.1039, -0.0821, -0.0427, -0.0232,  0.0572,  0.1304,  0.0369,  0.0935,\\n         0.0607, -0.0226, -0.2715, -0.2296, -0.1291, -0.0339,  0.1398,  0.0183,\\n         1.0000])\"\n        ],\n        \"semantic_type\": \"\",\n        \"description\": \"\"\n      }\n    },\n    {\n      \"column\": \"p_embed\",\n      \"properties\": {\n        \"dtype\": \"string\",\n        \"num_unique_values\": 1,\n        \"samples\": [\n          \"tensor([0.2307])\"\n        ],\n        \"semantic_type\": \"\",\n        \"description\": \"\"\n      }\n    },\n    {\n      \"column\": \"idx_p\",\n      \"properties\": {\n        \"dtype\": \"number\",\n        \"std\": null,\n        \"min\": 137771,\n        \"max\": 137771,\n        \"num_unique_values\": 1,\n        \"samples\": [\n          137771\n        ],\n        \"semantic_type\": \"\",\n        \"description\": \"\"\n      }\n    },\n    {\n      \"column\": \"index_p_y\",\n      \"properties\": {\n        \"dtype\": \"object\",\n        \"semantic_type\": \"\",\n        \"description\": \"\"\n      }\n    },\n    {\n      \"column\": \"h_index\",\n      \"properties\": {\n        \"dtype\": \"string\",\n        \"num_unique_values\": 1,\n        \"samples\": [\n          \"tensor([2.])\"\n        ],\n        \"semantic_type\": \"\",\n        \"description\": \"\"\n      }\n    },\n    {\n      \"column\": \"p_index\",\n      \"properties\": {\n        \"dtype\": \"string\",\n        \"num_unique_values\": 1,\n        \"samples\": [\n          \"tensor([13.2500])\"\n        ],\n        \"semantic_type\": \"\",\n        \"description\": \"\"\n      }\n    },\n    {\n      \"column\": \"interest\",\n      \"properties\": {\n        \"dtype\": \"string\",\n        \"num_unique_values\": 1,\n        \"samples\": [\n          \"tensor([-0.1761, -0.0537,  0.0766,  0.1697, -0.2165, -0.0483,  0.0263,  0.1235,\\n        -0.1580,  0.1375,  0.1591, -0.1756, -0.1625,  0.1077,  0.0241, -0.2971,\\n         0.0358, -0.1092, -0.0379,  0.0543,  0.1269,  0.1490,  0.3768, -0.2072,\\n        -0.0518,  0.0381, -0.0303,  0.1265, -0.0499,  0.0411, -0.0130,  0.0918])\"\n        ],\n        \"semantic_type\": \"\",\n        \"description\": \"\"\n      }\n    },\n    {\n      \"column\": \"venue_name_y\",\n      \"properties\": {\n        \"dtype\": \"object\",\n        \"semantic_type\": \"\",\n        \"description\": \"\"\n      }\n    },\n    {\n      \"column\": \"co_authors\",\n      \"properties\": {\n        \"dtype\": \"object\",\n        \"semantic_type\": \"\",\n        \"description\": \"\"\n      }\n    },\n    {\n      \"column\": \"abnormal_y\",\n      \"properties\": {\n        \"dtype\": \"number\",\n        \"std\": null,\n        \"min\": 0,\n        \"max\": 0,\n        \"num_unique_values\": 1,\n        \"samples\": [\n          0\n        ],\n        \"semantic_type\": \"\",\n        \"description\": \"\"\n      }\n    },\n    {\n      \"column\": \"embed_feat_a\",\n      \"properties\": {\n        \"dtype\": \"string\",\n        \"num_unique_values\": 1,\n        \"samples\": [\n          \"tensor([-1.7612e-01, -5.3705e-02,  7.6641e-02,  1.6974e-01, -2.1650e-01,\\n        -4.8343e-02,  2.6316e-02,  1.2349e-01, -1.5803e-01,  1.3754e-01,\\n         1.5907e-01, -1.7560e-01, -1.6249e-01,  1.0768e-01,  2.4086e-02,\\n        -2.9710e-01,  3.5801e-02, -1.0915e-01, -3.7885e-02,  5.4327e-02,\\n         1.2687e-01,  1.4900e-01,  3.7681e-01, -2.0725e-01, -5.1821e-02,\\n         3.8111e-02, -3.0298e-02,  1.2648e-01, -4.9861e-02,  4.1115e-02,\\n        -1.2985e-02,  9.1822e-02,  2.0000e+00,  1.3250e+01])\"\n        ],\n        \"semantic_type\": \"\",\n        \"description\": \"\"\n      }\n    },\n    {\n      \"column\": \"a_embed\",\n      \"properties\": {\n        \"dtype\": \"string\",\n        \"num_unique_values\": 1,\n        \"samples\": [\n          \"tensor([8.2325])\"\n        ],\n        \"semantic_type\": \"\",\n        \"description\": \"\"\n      }\n    },\n    {\n      \"column\": \"idx_a\",\n      \"properties\": {\n        \"dtype\": \"number\",\n        \"std\": null,\n        \"min\": 76980,\n        \"max\": 76980,\n        \"num_unique_values\": 1,\n        \"samples\": [\n          76980\n        ],\n        \"semantic_type\": \"\",\n        \"description\": \"\"\n      }\n    }\n  ]\n}"
            }
          },
          "metadata": {},
          "execution_count": 31
        }
      ]
    },
    {
      "cell_type": "code",
      "source": [
        "papers_ex_p = papers.explode(['references'], ignore_index= True).reset_index(drop=True)\n",
        "papers_ex_p_mg = papers_ex_p.merge(papers, left_on='references', right_on='index_p')\n",
        "papers_ex_p_mg.tail(1)"
      ],
      "metadata": {
        "id": "oAlwBUHV2e0J",
        "colab": {
          "base_uri": "https://localhost:8080/",
          "height": 135
        },
        "outputId": "40e2d5b9-feca-40c2-c896-aa8ea3dd1984"
      },
      "execution_count": 32,
      "outputs": [
        {
          "output_type": "execute_result",
          "data": {
            "text/plain": [
              "       index_p_x             index_a_x  \\\n",
              "572340  p2085557  [a1074831, a1519682]   \n",
              "\n",
              "                                                  title_x        year_x  \\\n",
              "572340  [tensor(0.0762), tensor(-0.0367), tensor(0.267...  [tensor(4.)]   \n",
              "\n",
              "       references_x venue_name_x  abnormal_x  \\\n",
              "572340     p1993683           []           0   \n",
              "\n",
              "                                           embed_feat_p_x         p_embed_x  \\\n",
              "572340  [tensor(0.0762), tensor(-0.0367), tensor(0.267...  [tensor(0.2328)]   \n",
              "\n",
              "        idx_p_x index_p_y  index_a_y  \\\n",
              "572340   137174  p1993683  [a325137]   \n",
              "\n",
              "                                                  title_y        year_y  \\\n",
              "572340  [tensor(0.1603), tensor(-0.0878), tensor(0.118...  [tensor(4.)]   \n",
              "\n",
              "       references_y venue_name_y  abnormal_y  \\\n",
              "572340           []           []           0   \n",
              "\n",
              "                                           embed_feat_p_y         p_embed_y  \\\n",
              "572340  [tensor(0.1603), tensor(-0.0878), tensor(0.118...  [tensor(0.2295)]   \n",
              "\n",
              "        idx_p_y  \n",
              "572340   117539  "
            ],
            "text/html": [
              "\n",
              "  <div id=\"df-0744ff01-3d47-4fbe-a75d-f92b8b3224eb\" class=\"colab-df-container\">\n",
              "    <div>\n",
              "<style scoped>\n",
              "    .dataframe tbody tr th:only-of-type {\n",
              "        vertical-align: middle;\n",
              "    }\n",
              "\n",
              "    .dataframe tbody tr th {\n",
              "        vertical-align: top;\n",
              "    }\n",
              "\n",
              "    .dataframe thead th {\n",
              "        text-align: right;\n",
              "    }\n",
              "</style>\n",
              "<table border=\"1\" class=\"dataframe\">\n",
              "  <thead>\n",
              "    <tr style=\"text-align: right;\">\n",
              "      <th></th>\n",
              "      <th>index_p_x</th>\n",
              "      <th>index_a_x</th>\n",
              "      <th>title_x</th>\n",
              "      <th>year_x</th>\n",
              "      <th>references_x</th>\n",
              "      <th>venue_name_x</th>\n",
              "      <th>abnormal_x</th>\n",
              "      <th>embed_feat_p_x</th>\n",
              "      <th>p_embed_x</th>\n",
              "      <th>idx_p_x</th>\n",
              "      <th>index_p_y</th>\n",
              "      <th>index_a_y</th>\n",
              "      <th>title_y</th>\n",
              "      <th>year_y</th>\n",
              "      <th>references_y</th>\n",
              "      <th>venue_name_y</th>\n",
              "      <th>abnormal_y</th>\n",
              "      <th>embed_feat_p_y</th>\n",
              "      <th>p_embed_y</th>\n",
              "      <th>idx_p_y</th>\n",
              "    </tr>\n",
              "  </thead>\n",
              "  <tbody>\n",
              "    <tr>\n",
              "      <th>572340</th>\n",
              "      <td>p2085557</td>\n",
              "      <td>[a1074831, a1519682]</td>\n",
              "      <td>[tensor(0.0762), tensor(-0.0367), tensor(0.267...</td>\n",
              "      <td>[tensor(4.)]</td>\n",
              "      <td>p1993683</td>\n",
              "      <td>[]</td>\n",
              "      <td>0</td>\n",
              "      <td>[tensor(0.0762), tensor(-0.0367), tensor(0.267...</td>\n",
              "      <td>[tensor(0.2328)]</td>\n",
              "      <td>137174</td>\n",
              "      <td>p1993683</td>\n",
              "      <td>[a325137]</td>\n",
              "      <td>[tensor(0.1603), tensor(-0.0878), tensor(0.118...</td>\n",
              "      <td>[tensor(4.)]</td>\n",
              "      <td>[]</td>\n",
              "      <td>[]</td>\n",
              "      <td>0</td>\n",
              "      <td>[tensor(0.1603), tensor(-0.0878), tensor(0.118...</td>\n",
              "      <td>[tensor(0.2295)]</td>\n",
              "      <td>117539</td>\n",
              "    </tr>\n",
              "  </tbody>\n",
              "</table>\n",
              "</div>\n",
              "    <div class=\"colab-df-buttons\">\n",
              "\n",
              "  <div class=\"colab-df-container\">\n",
              "    <button class=\"colab-df-convert\" onclick=\"convertToInteractive('df-0744ff01-3d47-4fbe-a75d-f92b8b3224eb')\"\n",
              "            title=\"Convert this dataframe to an interactive table.\"\n",
              "            style=\"display:none;\">\n",
              "\n",
              "  <svg xmlns=\"http://www.w3.org/2000/svg\" height=\"24px\" viewBox=\"0 -960 960 960\">\n",
              "    <path d=\"M120-120v-720h720v720H120Zm60-500h600v-160H180v160Zm220 220h160v-160H400v160Zm0 220h160v-160H400v160ZM180-400h160v-160H180v160Zm440 0h160v-160H620v160ZM180-180h160v-160H180v160Zm440 0h160v-160H620v160Z\"/>\n",
              "  </svg>\n",
              "    </button>\n",
              "\n",
              "  <style>\n",
              "    .colab-df-container {\n",
              "      display:flex;\n",
              "      gap: 12px;\n",
              "    }\n",
              "\n",
              "    .colab-df-convert {\n",
              "      background-color: #E8F0FE;\n",
              "      border: none;\n",
              "      border-radius: 50%;\n",
              "      cursor: pointer;\n",
              "      display: none;\n",
              "      fill: #1967D2;\n",
              "      height: 32px;\n",
              "      padding: 0 0 0 0;\n",
              "      width: 32px;\n",
              "    }\n",
              "\n",
              "    .colab-df-convert:hover {\n",
              "      background-color: #E2EBFA;\n",
              "      box-shadow: 0px 1px 2px rgba(60, 64, 67, 0.3), 0px 1px 3px 1px rgba(60, 64, 67, 0.15);\n",
              "      fill: #174EA6;\n",
              "    }\n",
              "\n",
              "    .colab-df-buttons div {\n",
              "      margin-bottom: 4px;\n",
              "    }\n",
              "\n",
              "    [theme=dark] .colab-df-convert {\n",
              "      background-color: #3B4455;\n",
              "      fill: #D2E3FC;\n",
              "    }\n",
              "\n",
              "    [theme=dark] .colab-df-convert:hover {\n",
              "      background-color: #434B5C;\n",
              "      box-shadow: 0px 1px 3px 1px rgba(0, 0, 0, 0.15);\n",
              "      filter: drop-shadow(0px 1px 2px rgba(0, 0, 0, 0.3));\n",
              "      fill: #FFFFFF;\n",
              "    }\n",
              "  </style>\n",
              "\n",
              "    <script>\n",
              "      const buttonEl =\n",
              "        document.querySelector('#df-0744ff01-3d47-4fbe-a75d-f92b8b3224eb button.colab-df-convert');\n",
              "      buttonEl.style.display =\n",
              "        google.colab.kernel.accessAllowed ? 'block' : 'none';\n",
              "\n",
              "      async function convertToInteractive(key) {\n",
              "        const element = document.querySelector('#df-0744ff01-3d47-4fbe-a75d-f92b8b3224eb');\n",
              "        const dataTable =\n",
              "          await google.colab.kernel.invokeFunction('convertToInteractive',\n",
              "                                                    [key], {});\n",
              "        if (!dataTable) return;\n",
              "\n",
              "        const docLinkHtml = 'Like what you see? Visit the ' +\n",
              "          '<a target=\"_blank\" href=https://colab.research.google.com/notebooks/data_table.ipynb>data table notebook</a>'\n",
              "          + ' to learn more about interactive tables.';\n",
              "        element.innerHTML = '';\n",
              "        dataTable['output_type'] = 'display_data';\n",
              "        await google.colab.output.renderOutput(dataTable, element);\n",
              "        const docLink = document.createElement('div');\n",
              "        docLink.innerHTML = docLinkHtml;\n",
              "        element.appendChild(docLink);\n",
              "      }\n",
              "    </script>\n",
              "  </div>\n",
              "\n",
              "    </div>\n",
              "  </div>\n"
            ],
            "application/vnd.google.colaboratory.intrinsic+json": {
              "type": "dataframe",
              "summary": "{\n  \"name\": \"papers_ex_p_mg\",\n  \"rows\": 1,\n  \"fields\": [\n    {\n      \"column\": \"index_p_x\",\n      \"properties\": {\n        \"dtype\": \"string\",\n        \"num_unique_values\": 1,\n        \"samples\": [\n          \"p2085557\"\n        ],\n        \"semantic_type\": \"\",\n        \"description\": \"\"\n      }\n    },\n    {\n      \"column\": \"index_a_x\",\n      \"properties\": {\n        \"dtype\": \"object\",\n        \"semantic_type\": \"\",\n        \"description\": \"\"\n      }\n    },\n    {\n      \"column\": \"title_x\",\n      \"properties\": {\n        \"dtype\": \"string\",\n        \"num_unique_values\": 1,\n        \"samples\": [\n          \"tensor([ 0.0762, -0.0367,  0.2679, -0.0150,  0.1032, -0.0160,  0.1221, -0.0771,\\n        -0.0574, -0.0878,  0.4070,  0.1152, -0.0056, -0.1719, -0.0211,  0.0560,\\n         0.2090, -0.0696,  0.0095,  0.0733,  0.2019,  0.1521, -0.0034, -0.2373,\\n         0.1331, -0.0322, -0.3176,  0.4009, -0.1019, -0.1156, -0.1687,  0.1063])\"\n        ],\n        \"semantic_type\": \"\",\n        \"description\": \"\"\n      }\n    },\n    {\n      \"column\": \"year_x\",\n      \"properties\": {\n        \"dtype\": \"string\",\n        \"num_unique_values\": 1,\n        \"samples\": [\n          \"tensor([4.])\"\n        ],\n        \"semantic_type\": \"\",\n        \"description\": \"\"\n      }\n    },\n    {\n      \"column\": \"references_x\",\n      \"properties\": {\n        \"dtype\": \"string\",\n        \"num_unique_values\": 1,\n        \"samples\": [\n          \"p1993683\"\n        ],\n        \"semantic_type\": \"\",\n        \"description\": \"\"\n      }\n    },\n    {\n      \"column\": \"venue_name_x\",\n      \"properties\": {\n        \"dtype\": \"object\",\n        \"semantic_type\": \"\",\n        \"description\": \"\"\n      }\n    },\n    {\n      \"column\": \"abnormal_x\",\n      \"properties\": {\n        \"dtype\": \"number\",\n        \"std\": null,\n        \"min\": 0,\n        \"max\": 0,\n        \"num_unique_values\": 1,\n        \"samples\": [\n          0\n        ],\n        \"semantic_type\": \"\",\n        \"description\": \"\"\n      }\n    },\n    {\n      \"column\": \"embed_feat_p_x\",\n      \"properties\": {\n        \"dtype\": \"string\",\n        \"num_unique_values\": 1,\n        \"samples\": [\n          \"tensor([ 7.6244e-02, -3.6734e-02,  2.6792e-01, -1.4980e-02,  1.0316e-01,\\n        -1.6025e-02,  1.2210e-01, -7.7090e-02, -5.7417e-02, -8.7772e-02,\\n         4.0696e-01,  1.1517e-01, -5.6400e-03, -1.7192e-01, -2.1120e-02,\\n         5.5989e-02,  2.0903e-01, -6.9580e-02,  9.4535e-03,  7.3307e-02,\\n         2.0187e-01,  1.5211e-01, -3.3674e-03, -2.3735e-01,  1.3310e-01,\\n        -3.2248e-02, -3.1757e-01,  4.0091e-01, -1.0188e-01, -1.1560e-01,\\n        -1.6875e-01,  1.0631e-01,  4.0000e+00])\"\n        ],\n        \"semantic_type\": \"\",\n        \"description\": \"\"\n      }\n    },\n    {\n      \"column\": \"p_embed_x\",\n      \"properties\": {\n        \"dtype\": \"string\",\n        \"num_unique_values\": 1,\n        \"samples\": [\n          \"tensor([0.2328])\"\n        ],\n        \"semantic_type\": \"\",\n        \"description\": \"\"\n      }\n    },\n    {\n      \"column\": \"idx_p_x\",\n      \"properties\": {\n        \"dtype\": \"number\",\n        \"std\": null,\n        \"min\": 137174,\n        \"max\": 137174,\n        \"num_unique_values\": 1,\n        \"samples\": [\n          137174\n        ],\n        \"semantic_type\": \"\",\n        \"description\": \"\"\n      }\n    },\n    {\n      \"column\": \"index_p_y\",\n      \"properties\": {\n        \"dtype\": \"string\",\n        \"num_unique_values\": 1,\n        \"samples\": [\n          \"p1993683\"\n        ],\n        \"semantic_type\": \"\",\n        \"description\": \"\"\n      }\n    },\n    {\n      \"column\": \"index_a_y\",\n      \"properties\": {\n        \"dtype\": \"object\",\n        \"semantic_type\": \"\",\n        \"description\": \"\"\n      }\n    },\n    {\n      \"column\": \"title_y\",\n      \"properties\": {\n        \"dtype\": \"string\",\n        \"num_unique_values\": 1,\n        \"samples\": [\n          \"tensor([ 1.6033e-01, -8.7816e-02,  1.1893e-01,  1.5814e-01,  1.1147e-01,\\n        -8.2031e-02, -5.8255e-02,  2.0851e-04, -1.1406e-01, -4.0315e-02,\\n         2.3266e-01, -9.3432e-02, -8.4723e-02, -2.6307e-01,  2.1638e-02,\\n        -1.0886e-01,  1.0085e-03,  5.5774e-02,  5.1431e-02,  7.8694e-02,\\n         1.5767e-01,  2.4212e-01,  1.1524e-01, -1.4049e-01,  2.3529e-02,\\n         3.0631e-02, -8.0741e-02,  5.1425e-02, -2.4267e-01, -1.6884e-01,\\n         8.1788e-02, -3.1369e-02])\"\n        ],\n        \"semantic_type\": \"\",\n        \"description\": \"\"\n      }\n    },\n    {\n      \"column\": \"year_y\",\n      \"properties\": {\n        \"dtype\": \"string\",\n        \"num_unique_values\": 1,\n        \"samples\": [\n          \"tensor([4.])\"\n        ],\n        \"semantic_type\": \"\",\n        \"description\": \"\"\n      }\n    },\n    {\n      \"column\": \"references_y\",\n      \"properties\": {\n        \"dtype\": \"object\",\n        \"semantic_type\": \"\",\n        \"description\": \"\"\n      }\n    },\n    {\n      \"column\": \"venue_name_y\",\n      \"properties\": {\n        \"dtype\": \"object\",\n        \"semantic_type\": \"\",\n        \"description\": \"\"\n      }\n    },\n    {\n      \"column\": \"abnormal_y\",\n      \"properties\": {\n        \"dtype\": \"number\",\n        \"std\": null,\n        \"min\": 0,\n        \"max\": 0,\n        \"num_unique_values\": 1,\n        \"samples\": [\n          0\n        ],\n        \"semantic_type\": \"\",\n        \"description\": \"\"\n      }\n    },\n    {\n      \"column\": \"embed_feat_p_y\",\n      \"properties\": {\n        \"dtype\": \"string\",\n        \"num_unique_values\": 1,\n        \"samples\": [\n          \"tensor([ 1.6033e-01, -8.7816e-02,  1.1893e-01,  1.5814e-01,  1.1147e-01,\\n        -8.2031e-02, -5.8255e-02,  2.0851e-04, -1.1406e-01, -4.0315e-02,\\n         2.3266e-01, -9.3432e-02, -8.4723e-02, -2.6307e-01,  2.1638e-02,\\n        -1.0886e-01,  1.0085e-03,  5.5774e-02,  5.1431e-02,  7.8694e-02,\\n         1.5767e-01,  2.4212e-01,  1.1524e-01, -1.4049e-01,  2.3529e-02,\\n         3.0631e-02, -8.0741e-02,  5.1425e-02, -2.4267e-01, -1.6884e-01,\\n         8.1788e-02, -3.1369e-02,  4.0000e+00])\"\n        ],\n        \"semantic_type\": \"\",\n        \"description\": \"\"\n      }\n    },\n    {\n      \"column\": \"p_embed_y\",\n      \"properties\": {\n        \"dtype\": \"string\",\n        \"num_unique_values\": 1,\n        \"samples\": [\n          \"tensor([0.2295])\"\n        ],\n        \"semantic_type\": \"\",\n        \"description\": \"\"\n      }\n    },\n    {\n      \"column\": \"idx_p_y\",\n      \"properties\": {\n        \"dtype\": \"number\",\n        \"std\": null,\n        \"min\": 117539,\n        \"max\": 117539,\n        \"num_unique_values\": 1,\n        \"samples\": [\n          117539\n        ],\n        \"semantic_type\": \"\",\n        \"description\": \"\"\n      }\n    }\n  ]\n}"
            }
          },
          "metadata": {},
          "execution_count": 32
        }
      ]
    },
    {
      "cell_type": "code",
      "source": [
        "authors_ex_a = authors.explode(['co_authors'], ignore_index= True).reset_index(drop=True)\n",
        "authors_ex_a_mg = authors_ex_a.merge(authors, left_on='co_authors', right_on='index_a')\n",
        "authors_ex_a_mg.tail(1)"
      ],
      "metadata": {
        "colab": {
          "base_uri": "https://localhost:8080/",
          "height": 165
        },
        "id": "bD3UJvUhW0J-",
        "outputId": "fb40dcc1-51b7-46b5-f586-c0f191faf01d"
      },
      "execution_count": 33,
      "outputs": [
        {
          "output_type": "execute_result",
          "data": {
            "text/plain": [
              "       index_a_x   index_p_x     h_index_x         p_index_x  \\\n",
              "498805   a997788  [p1615256]  [tensor(1.)]  [tensor(0.8000)]   \n",
              "\n",
              "                                               interest_x venue_name_x  \\\n",
              "498805  [tensor(0.0739), tensor(-0.1094), tensor(0.333...           []   \n",
              "\n",
              "       co_authors_x  abnormal_x  \\\n",
              "498805      a999690           0   \n",
              "\n",
              "                                           embed_feat_a_x          a_embed_x  \\\n",
              "498805  [tensor(0.0739), tensor(-0.1094), tensor(0.333...  [tensor(-0.0674)]   \n",
              "\n",
              "        ...   index_p_y     h_index_y         p_index_y  \\\n",
              "498805  ...  [p1615256]  [tensor(1.)]  [tensor(0.8000)]   \n",
              "\n",
              "                                               interest_y venue_name_y  \\\n",
              "498805  [tensor(0.0258), tensor(-0.1170), tensor(0.358...           []   \n",
              "\n",
              "       co_authors_y abnormal_y  \\\n",
              "498805           []          0   \n",
              "\n",
              "                                           embed_feat_a_y          a_embed_y  \\\n",
              "498805  [tensor(0.0258), tensor(-0.1170), tensor(0.358...  [tensor(-0.0293)]   \n",
              "\n",
              "       idx_a_y  \n",
              "498805  111356  \n",
              "\n",
              "[1 rows x 22 columns]"
            ],
            "text/html": [
              "\n",
              "  <div id=\"df-2a15c281-3812-4b9f-b262-5efda66e317c\" class=\"colab-df-container\">\n",
              "    <div>\n",
              "<style scoped>\n",
              "    .dataframe tbody tr th:only-of-type {\n",
              "        vertical-align: middle;\n",
              "    }\n",
              "\n",
              "    .dataframe tbody tr th {\n",
              "        vertical-align: top;\n",
              "    }\n",
              "\n",
              "    .dataframe thead th {\n",
              "        text-align: right;\n",
              "    }\n",
              "</style>\n",
              "<table border=\"1\" class=\"dataframe\">\n",
              "  <thead>\n",
              "    <tr style=\"text-align: right;\">\n",
              "      <th></th>\n",
              "      <th>index_a_x</th>\n",
              "      <th>index_p_x</th>\n",
              "      <th>h_index_x</th>\n",
              "      <th>p_index_x</th>\n",
              "      <th>interest_x</th>\n",
              "      <th>venue_name_x</th>\n",
              "      <th>co_authors_x</th>\n",
              "      <th>abnormal_x</th>\n",
              "      <th>embed_feat_a_x</th>\n",
              "      <th>a_embed_x</th>\n",
              "      <th>...</th>\n",
              "      <th>index_p_y</th>\n",
              "      <th>h_index_y</th>\n",
              "      <th>p_index_y</th>\n",
              "      <th>interest_y</th>\n",
              "      <th>venue_name_y</th>\n",
              "      <th>co_authors_y</th>\n",
              "      <th>abnormal_y</th>\n",
              "      <th>embed_feat_a_y</th>\n",
              "      <th>a_embed_y</th>\n",
              "      <th>idx_a_y</th>\n",
              "    </tr>\n",
              "  </thead>\n",
              "  <tbody>\n",
              "    <tr>\n",
              "      <th>498805</th>\n",
              "      <td>a997788</td>\n",
              "      <td>[p1615256]</td>\n",
              "      <td>[tensor(1.)]</td>\n",
              "      <td>[tensor(0.8000)]</td>\n",
              "      <td>[tensor(0.0739), tensor(-0.1094), tensor(0.333...</td>\n",
              "      <td>[]</td>\n",
              "      <td>a999690</td>\n",
              "      <td>0</td>\n",
              "      <td>[tensor(0.0739), tensor(-0.1094), tensor(0.333...</td>\n",
              "      <td>[tensor(-0.0674)]</td>\n",
              "      <td>...</td>\n",
              "      <td>[p1615256]</td>\n",
              "      <td>[tensor(1.)]</td>\n",
              "      <td>[tensor(0.8000)]</td>\n",
              "      <td>[tensor(0.0258), tensor(-0.1170), tensor(0.358...</td>\n",
              "      <td>[]</td>\n",
              "      <td>[]</td>\n",
              "      <td>0</td>\n",
              "      <td>[tensor(0.0258), tensor(-0.1170), tensor(0.358...</td>\n",
              "      <td>[tensor(-0.0293)]</td>\n",
              "      <td>111356</td>\n",
              "    </tr>\n",
              "  </tbody>\n",
              "</table>\n",
              "<p>1 rows × 22 columns</p>\n",
              "</div>\n",
              "    <div class=\"colab-df-buttons\">\n",
              "\n",
              "  <div class=\"colab-df-container\">\n",
              "    <button class=\"colab-df-convert\" onclick=\"convertToInteractive('df-2a15c281-3812-4b9f-b262-5efda66e317c')\"\n",
              "            title=\"Convert this dataframe to an interactive table.\"\n",
              "            style=\"display:none;\">\n",
              "\n",
              "  <svg xmlns=\"http://www.w3.org/2000/svg\" height=\"24px\" viewBox=\"0 -960 960 960\">\n",
              "    <path d=\"M120-120v-720h720v720H120Zm60-500h600v-160H180v160Zm220 220h160v-160H400v160Zm0 220h160v-160H400v160ZM180-400h160v-160H180v160Zm440 0h160v-160H620v160ZM180-180h160v-160H180v160Zm440 0h160v-160H620v160Z\"/>\n",
              "  </svg>\n",
              "    </button>\n",
              "\n",
              "  <style>\n",
              "    .colab-df-container {\n",
              "      display:flex;\n",
              "      gap: 12px;\n",
              "    }\n",
              "\n",
              "    .colab-df-convert {\n",
              "      background-color: #E8F0FE;\n",
              "      border: none;\n",
              "      border-radius: 50%;\n",
              "      cursor: pointer;\n",
              "      display: none;\n",
              "      fill: #1967D2;\n",
              "      height: 32px;\n",
              "      padding: 0 0 0 0;\n",
              "      width: 32px;\n",
              "    }\n",
              "\n",
              "    .colab-df-convert:hover {\n",
              "      background-color: #E2EBFA;\n",
              "      box-shadow: 0px 1px 2px rgba(60, 64, 67, 0.3), 0px 1px 3px 1px rgba(60, 64, 67, 0.15);\n",
              "      fill: #174EA6;\n",
              "    }\n",
              "\n",
              "    .colab-df-buttons div {\n",
              "      margin-bottom: 4px;\n",
              "    }\n",
              "\n",
              "    [theme=dark] .colab-df-convert {\n",
              "      background-color: #3B4455;\n",
              "      fill: #D2E3FC;\n",
              "    }\n",
              "\n",
              "    [theme=dark] .colab-df-convert:hover {\n",
              "      background-color: #434B5C;\n",
              "      box-shadow: 0px 1px 3px 1px rgba(0, 0, 0, 0.15);\n",
              "      filter: drop-shadow(0px 1px 2px rgba(0, 0, 0, 0.3));\n",
              "      fill: #FFFFFF;\n",
              "    }\n",
              "  </style>\n",
              "\n",
              "    <script>\n",
              "      const buttonEl =\n",
              "        document.querySelector('#df-2a15c281-3812-4b9f-b262-5efda66e317c button.colab-df-convert');\n",
              "      buttonEl.style.display =\n",
              "        google.colab.kernel.accessAllowed ? 'block' : 'none';\n",
              "\n",
              "      async function convertToInteractive(key) {\n",
              "        const element = document.querySelector('#df-2a15c281-3812-4b9f-b262-5efda66e317c');\n",
              "        const dataTable =\n",
              "          await google.colab.kernel.invokeFunction('convertToInteractive',\n",
              "                                                    [key], {});\n",
              "        if (!dataTable) return;\n",
              "\n",
              "        const docLinkHtml = 'Like what you see? Visit the ' +\n",
              "          '<a target=\"_blank\" href=https://colab.research.google.com/notebooks/data_table.ipynb>data table notebook</a>'\n",
              "          + ' to learn more about interactive tables.';\n",
              "        element.innerHTML = '';\n",
              "        dataTable['output_type'] = 'display_data';\n",
              "        await google.colab.output.renderOutput(dataTable, element);\n",
              "        const docLink = document.createElement('div');\n",
              "        docLink.innerHTML = docLinkHtml;\n",
              "        element.appendChild(docLink);\n",
              "      }\n",
              "    </script>\n",
              "  </div>\n",
              "\n",
              "    </div>\n",
              "  </div>\n"
            ],
            "application/vnd.google.colaboratory.intrinsic+json": {
              "type": "dataframe"
            }
          },
          "metadata": {},
          "execution_count": 33
        }
      ]
    },
    {
      "cell_type": "code",
      "source": [
        "a_a_src = authors_ex_a_mg['idx_a_x'].to_list()\n",
        "a_a_dist = authors_ex_a_mg['idx_a_y'].to_list()\n",
        "\n",
        "p_p_src = papers_ex_p_mg['idx_p_x'].to_list()\n",
        "p_p_dist = papers_ex_p_mg['idx_p_y'].to_list()\n",
        "\n",
        "p_a_src = papers_ex_a_mg['idx_p'].to_list()\n",
        "p_a_dist = papers_ex_a_mg['idx_a'].to_list()"
      ],
      "metadata": {
        "id": "dLnGLLiTBWcQ"
      },
      "execution_count": 34,
      "outputs": []
    },
    {
      "cell_type": "code",
      "source": [
        "a_feat_interest = tch.vstack(authors['interest'].to_list())\n",
        "a_feat_pidx = tch.vstack(authors['p_index'].to_list())\n",
        "a_feat_hidx = tch.vstack(authors['h_index'].to_list()).type(tch.float32)\n",
        "a_embed = tch.vstack(authors['a_embed'].to_list())\n",
        "\n",
        "p_embed = tch.vstack(papers['p_embed'].to_list())\n",
        "p_feat_title = tch.vstack(papers['title'].to_list())\n",
        "p_feat_year = tch.vstack(papers['year'].to_list()).type(tch.float32)"
      ],
      "metadata": {
        "id": "U_oA6-SVW0Lk"
      },
      "execution_count": 35,
      "outputs": []
    },
    {
      "cell_type": "code",
      "source": [
        "het_data = {('auth', 'co_auth', 'auth'): (tch.tensor(a_a_src), tch.tensor(a_a_dist)),\n",
        "            ('pap', 'cite', 'pap'): (tch.tensor(p_p_src), tch.tensor(p_p_dist)),\n",
        "            ('pap', 'write', 'auth'): (tch.tensor(p_a_src), tch.tensor(p_a_dist))}\n",
        "het_graph = dgl.heterograph(het_data)\n",
        "het_graph"
      ],
      "metadata": {
        "colab": {
          "base_uri": "https://localhost:8080/"
        },
        "id": "iE8SknbLWBy2",
        "outputId": "5fe7b37a-7264-4519-d254-eacd7e09f38b"
      },
      "execution_count": 36,
      "outputs": [
        {
          "output_type": "execute_result",
          "data": {
            "text/plain": [
              "Graph(num_nodes={'auth': 111387, 'pap': 137772},\n",
              "      num_edges={('auth', 'co_auth', 'auth'): 498806, ('pap', 'cite', 'pap'): 572341, ('pap', 'write', 'auth'): 688712},\n",
              "      metagraph=[('auth', 'auth', 'co_auth'), ('pap', 'pap', 'cite'), ('pap', 'auth', 'write')])"
            ]
          },
          "metadata": {},
          "execution_count": 36
        }
      ]
    },
    {
      "cell_type": "code",
      "source": [
        "het_graph.nodes['auth'].data['interest'] = a_feat_interest\n",
        "het_graph.nodes['auth'].data['p_index'] = a_feat_pidx\n",
        "het_graph.nodes['auth'].data['h_index'] = a_feat_hidx\n",
        "het_graph.nodes['auth'].data['a_embed'] = a_embed\n",
        "het_graph.nodes['pap'].data['p_embed'] = p_embed\n",
        "het_graph.nodes['pap'].data['title'] = p_feat_title\n",
        "het_graph.nodes['pap'].data['year'] = p_feat_year"
      ],
      "metadata": {
        "id": "qJTLibehwQia"
      },
      "execution_count": 37,
      "outputs": []
    },
    {
      "cell_type": "markdown",
      "source": [
        "**LAYER SAME** : GCN for each type and aggregate"
      ],
      "metadata": {
        "id": "1DnrIZQzm4wy"
      }
    },
    {
      "cell_type": "code",
      "source": [
        "homo_auth = het_graph.node_type_subgraph(['auth'])\n",
        "homo_auth"
      ],
      "metadata": {
        "colab": {
          "base_uri": "https://localhost:8080/"
        },
        "id": "bZAyMdPYlxrt",
        "outputId": "08b60780-aec6-43a4-98b7-8a407975e101"
      },
      "execution_count": 38,
      "outputs": [
        {
          "output_type": "execute_result",
          "data": {
            "text/plain": [
              "Graph(num_nodes=111387, num_edges=498806,\n",
              "      ndata_schemes={'interest': Scheme(shape=(32,), dtype=torch.float32), 'p_index': Scheme(shape=(1,), dtype=torch.float32), 'h_index': Scheme(shape=(1,), dtype=torch.float32), 'a_embed': Scheme(shape=(1,), dtype=torch.float32)}\n",
              "      edata_schemes={})"
            ]
          },
          "metadata": {},
          "execution_count": 38
        }
      ]
    },
    {
      "cell_type": "code",
      "source": [
        "homo_auth_bi = dgl.to_bidirected(homo_auth, copy_ndata=True)\n",
        "homo_auth_bi"
      ],
      "metadata": {
        "colab": {
          "base_uri": "https://localhost:8080/"
        },
        "id": "RIuUtv2KtsuB",
        "outputId": "4d86447b-9658-4d24-db40-d04212578be3"
      },
      "execution_count": 39,
      "outputs": [
        {
          "output_type": "execute_result",
          "data": {
            "text/plain": [
              "Graph(num_nodes=111387, num_edges=589531,\n",
              "      ndata_schemes={'interest': Scheme(shape=(32,), dtype=torch.float32), 'p_index': Scheme(shape=(1,), dtype=torch.float32), 'h_index': Scheme(shape=(1,), dtype=torch.float32), 'a_embed': Scheme(shape=(1,), dtype=torch.float32)}\n",
              "      edata_schemes={})"
            ]
          },
          "metadata": {},
          "execution_count": 39
        }
      ]
    },
    {
      "cell_type": "code",
      "source": [
        "class GCN(nn.Module):\n",
        "  def __init__(self, in_size, out_size):\n",
        "    super().__init__()\n",
        "    self.gcn = dglnn.GraphConv(in_size, out_size, norm='both', weight=True, bias=True, allow_zero_in_degree=False)\n",
        "\n",
        "  def forward(self, graph, feat):\n",
        "    h = self.gcn(graph, feat)\n",
        "    h = func.relu(h)\n",
        "    # h = self.gcn(graph, h)\n",
        "    h = self.gcn(graph, h)\n",
        "    # h = func.relu(h)\n",
        "    # h = {k: func.relu(v) for k, v in h.items()}\n",
        "    # h = {k: v.mean(axis=0) for k, v in h.items()}\n",
        "    return h"
      ],
      "metadata": {
        "id": "_kqC_fX8Jf8M"
      },
      "execution_count": 40,
      "outputs": []
    },
    {
      "cell_type": "code",
      "source": [
        "homo_auth_bi = dgl.remove_self_loop(homo_auth_bi)\n",
        "homo_auth_bi = dgl.add_self_loop(homo_auth_bi)"
      ],
      "metadata": {
        "id": "lr5w2oLvJf-9"
      },
      "execution_count": 41,
      "outputs": []
    },
    {
      "cell_type": "code",
      "source": [
        "feat_a = tch.hstack((homo_auth_bi.nodes['auth'].data['interest'], homo_auth_bi.nodes['auth'].data['h_index'],\n",
        "                              homo_auth_bi.nodes['auth'].data['p_index']))\n",
        "feat_a.shape"
      ],
      "metadata": {
        "id": "wrVF2MmGJgBV",
        "colab": {
          "base_uri": "https://localhost:8080/"
        },
        "outputId": "aa7b44e8-0e11-44ff-af3a-497988316ba7"
      },
      "execution_count": 42,
      "outputs": [
        {
          "output_type": "execute_result",
          "data": {
            "text/plain": [
              "torch.Size([111387, 34])"
            ]
          },
          "metadata": {},
          "execution_count": 42
        }
      ]
    },
    {
      "cell_type": "code",
      "source": [
        "model = GCN(34,34)\n",
        "opt = tch.optim.Adam(model.parameters(), lr=1e-2, betas=(0.8, 0.9), eps=1e-9, weight_decay=1e-02, amsgrad=True)\n",
        "\n",
        "for epoch in range(30):\n",
        "  model.train()\n",
        "  pred = model(homo_auth_bi, feat_a)\n",
        "  loss = func.smooth_l1_loss(pred, feat_a)\n",
        "  opt.zero_grad()\n",
        "  loss.backward()\n",
        "  opt.step()\n",
        "print(loss.item())"
      ],
      "metadata": {
        "id": "XNOBEXfqLeRC",
        "colab": {
          "base_uri": "https://localhost:8080/"
        },
        "outputId": "d408151b-4f5c-4449-e48b-4b0b91a3599a"
      },
      "execution_count": 43,
      "outputs": [
        {
          "output_type": "stream",
          "name": "stdout",
          "text": [
            "0.09274818748235703\n"
          ]
        }
      ]
    },
    {
      "cell_type": "code",
      "source": [
        "feat_same_auth = model(homo_auth_bi, feat_a)\n",
        "feat_same_auth[0]"
      ],
      "metadata": {
        "colab": {
          "base_uri": "https://localhost:8080/"
        },
        "id": "i99vT787LeTu",
        "outputId": "2bd1787f-e132-4e59-cd99-071faa6e6275"
      },
      "execution_count": 44,
      "outputs": [
        {
          "output_type": "execute_result",
          "data": {
            "text/plain": [
              "tensor([-0.0205, -0.0671,  0.1245,  0.1543, -0.1237, -0.0821,  0.1216,  0.2076,\n",
              "        -0.1664, -0.0433,  0.0823, -0.1621,  0.0376,  0.0151, -0.1203, -0.1140,\n",
              "         0.0703,  0.0824, -0.1288,  0.0369,  0.2435,  0.1765,  0.2135, -0.1583,\n",
              "         0.0249, -0.0258, -0.0718,  0.1894, -0.1931, -0.0873, -0.0545, -0.0665,\n",
              "         1.0242,  0.9815], grad_fn=<SelectBackward0>)"
            ]
          },
          "metadata": {},
          "execution_count": 44
        }
      ]
    },
    {
      "cell_type": "code",
      "source": [
        "epochs = 40"
      ],
      "metadata": {
        "id": "jXNhUFPbl0nm"
      },
      "execution_count": 45,
      "outputs": []
    },
    {
      "cell_type": "code",
      "source": [
        "model_rd_a = AE(34)\n",
        "loss_function = tch.nn.MSELoss()\n",
        "optimizer_a = tch.optim.Adam(model_rd_a.parameters(), lr=1e-2, betas=(0.4, 0.9), eps=1e-9, weight_decay = 1e-3, amsgrad=True)\n",
        "# losses = []\n",
        "for epoch in range(epochs):\n",
        "  reconstructed_a = model_rd_a(feat_same_auth.detach())\n",
        "  loss = loss_function(reconstructed_a, feat_same_auth.detach())\n",
        "  optimizer_a.zero_grad()\n",
        "  loss.backward()\n",
        "  optimizer_a.step()\n",
        "  # losses.append(loss)\n",
        "print(loss)\n",
        "same_a_rd = model_rd_a.encoder(feat_same_auth)"
      ],
      "metadata": {
        "colab": {
          "base_uri": "https://localhost:8080/"
        },
        "outputId": "dd473c02-bd52-4a02-c299-2fc426500f2c",
        "id": "txuNJcq6l0n5"
      },
      "execution_count": 46,
      "outputs": [
        {
          "output_type": "stream",
          "name": "stdout",
          "text": [
            "tensor(0.2534, grad_fn=<MseLossBackward0>)\n"
          ]
        }
      ]
    },
    {
      "cell_type": "code",
      "source": [
        "authors['feat_a_same'] = list(tch.tensor(same_a_rd.detach().numpy()))"
      ],
      "metadata": {
        "id": "S344w04LiKMN"
      },
      "execution_count": 47,
      "outputs": []
    },
    {
      "cell_type": "code",
      "source": [
        "homo_pap = het_graph.node_type_subgraph(['pap'])\n",
        "homo_pap_bi = dgl.to_bidirected(homo_pap, copy_ndata=True)\n",
        "homo_pap_bi"
      ],
      "metadata": {
        "id": "imGhs6S7OkLn",
        "colab": {
          "base_uri": "https://localhost:8080/"
        },
        "outputId": "7637d3d9-70d3-4d0b-a7e3-5a48d5252b38"
      },
      "execution_count": 48,
      "outputs": [
        {
          "output_type": "execute_result",
          "data": {
            "text/plain": [
              "Graph(num_nodes=137772, num_edges=573354,\n",
              "      ndata_schemes={'p_embed': Scheme(shape=(1,), dtype=torch.float32), 'title': Scheme(shape=(32,), dtype=torch.float32), 'year': Scheme(shape=(1,), dtype=torch.float32)}\n",
              "      edata_schemes={})"
            ]
          },
          "metadata": {},
          "execution_count": 48
        }
      ]
    },
    {
      "cell_type": "code",
      "source": [
        "feat_p = tch.hstack((homo_pap_bi.nodes['pap'].data['title'], homo_pap_bi.nodes['pap'].data['year']))#,\n",
        "                              # homo_pap_bi.nodes['pap'].data['year']))\n",
        "feat_p.shape"
      ],
      "metadata": {
        "colab": {
          "base_uri": "https://localhost:8080/"
        },
        "id": "iHui6AoddUA7",
        "outputId": "19b535fb-4c47-4909-eed2-0241c6259a1b"
      },
      "execution_count": 49,
      "outputs": [
        {
          "output_type": "execute_result",
          "data": {
            "text/plain": [
              "torch.Size([137772, 33])"
            ]
          },
          "metadata": {},
          "execution_count": 49
        }
      ]
    },
    {
      "cell_type": "code",
      "source": [
        "homo_pap_bi = dgl.remove_self_loop(homo_pap_bi)\n",
        "homo_pap_bi = dgl.add_self_loop(homo_pap_bi)"
      ],
      "metadata": {
        "id": "IRBj2xD7d7Z7"
      },
      "execution_count": 50,
      "outputs": []
    },
    {
      "cell_type": "code",
      "source": [
        "model = GCN(33,33)\n",
        "opt = tch.optim.Adam(model.parameters(), lr=1e-2, betas=(0.4, 0.9), eps=1e-7, weight_decay=1e-02, amsgrad=True)\n",
        "\n",
        "for epoch in range(30):\n",
        "  model.train()\n",
        "  pred = model(homo_pap_bi, feat_p)\n",
        "  loss = func.l1_loss(pred, feat_p)\n",
        "  opt.zero_grad()\n",
        "  loss.backward()\n",
        "  opt.step()\n",
        "print(loss.item())"
      ],
      "metadata": {
        "id": "mXKP0oZCdNWg",
        "colab": {
          "base_uri": "https://localhost:8080/"
        },
        "outputId": "e9e996b7-a2fc-4e9d-f3bd-5af8c614ead1"
      },
      "execution_count": 51,
      "outputs": [
        {
          "output_type": "stream",
          "name": "stdout",
          "text": [
            "0.09611961990594864\n"
          ]
        }
      ]
    },
    {
      "cell_type": "code",
      "source": [
        "feat_same_pap = model(homo_pap_bi, feat_p)\n",
        "feat_same_pap[0]"
      ],
      "metadata": {
        "id": "alz8GbE4dNai",
        "colab": {
          "base_uri": "https://localhost:8080/"
        },
        "outputId": "7da0e8bf-1004-41ba-fb77-6f49ed3734a5"
      },
      "execution_count": 52,
      "outputs": [
        {
          "output_type": "execute_result",
          "data": {
            "text/plain": [
              "tensor([ 2.5042e-02, -9.3822e-02,  8.4443e-02,  4.9173e-02,  4.8709e-02,\n",
              "        -7.6217e-02,  1.1172e-01, -9.8599e-02, -9.3696e-02,  6.8891e-03,\n",
              "         3.4992e-02, -8.7489e-02, -3.2059e-02, -4.8937e-02, -4.4092e-02,\n",
              "        -5.6675e-03, -1.1833e-01,  6.6986e-02,  3.1539e-02,  1.1573e-01,\n",
              "         9.3312e-02,  7.3880e-02,  7.5549e-02, -8.1204e-02,  5.8966e-04,\n",
              "         1.8531e-02, -1.0583e-01, -3.0710e-03, -4.7345e-02, -1.9382e-02,\n",
              "        -3.6771e-02,  6.5453e-02,  1.1806e+00], grad_fn=<SelectBackward0>)"
            ]
          },
          "metadata": {},
          "execution_count": 52
        }
      ]
    },
    {
      "cell_type": "code",
      "source": [
        "# losses = []\n",
        "model_rd_p = AE(33)\n",
        "optimizer_p = tch.optim.Adam(model_rd_p.parameters(), lr = 1e-2, weight_decay = 1e-3, amsgrad=True)\n",
        "\n",
        "for epoch in range(epochs):\n",
        "  reconstructed_p = model_rd_p(feat_same_pap.detach())\n",
        "  loss = loss_function(reconstructed_p, feat_same_pap.detach())\n",
        "  optimizer_p.zero_grad()\n",
        "  loss.backward()\n",
        "  optimizer_p.step()\n",
        "  # losses.append(loss)\n",
        "print(loss)\n",
        "same_p_rd = model_rd_p.encoder(feat_same_pap.detach())"
      ],
      "metadata": {
        "colab": {
          "base_uri": "https://localhost:8080/"
        },
        "outputId": "3e32a1f1-6192-47e2-aca9-c1cf5909f74c",
        "id": "R1xy9jyGl0n5"
      },
      "execution_count": 53,
      "outputs": [
        {
          "output_type": "stream",
          "name": "stdout",
          "text": [
            "tensor(0.0457, grad_fn=<MseLossBackward0>)\n"
          ]
        }
      ]
    },
    {
      "cell_type": "code",
      "source": [
        "papers['feat_p_same'] = list(tch.tensor(same_p_rd.detach().numpy()))"
      ],
      "metadata": {
        "id": "-M_W69X1iHWO"
      },
      "execution_count": 54,
      "outputs": []
    },
    {
      "cell_type": "markdown",
      "source": [
        "**LAYER DIFF** (MESSAGE PASSING)"
      ],
      "metadata": {
        "id": "NPwv5tLX2-tt"
      }
    },
    {
      "cell_type": "code",
      "source": [
        "het_graph.multi_update_all({'write':(dglfunc.u_add_v('p_embed', 'a_embed', 'msg_write'), dglfunc.sum('msg_write', 'diff_msg')),\n",
        "                            'cite':(dglfunc.u_add_v('p_embed', 'p_embed', 'msg_cite'), dglfunc.sum('msg_cite', 'diff_msg')),\n",
        "                            'co_auth':(dglfunc.u_add_v('a_embed', 'a_embed', 'msg_co_auth'), dglfunc.sum('msg_co_auth', 'diff_msg'))\n",
        "                      },'sum')"
      ],
      "metadata": {
        "id": "hsRCuZnmluGX"
      },
      "execution_count": 55,
      "outputs": []
    },
    {
      "cell_type": "code",
      "source": [
        "diff_feat_a = list(het_graph.ndata['diff_msg']['auth'])\n",
        "diff_feat_p = list(het_graph.ndata['diff_msg']['pap'])\n",
        "authors['diff_feat'] = diff_feat_a\n",
        "papers['diff_feat'] = diff_feat_p\n",
        "authors.head(1)"
      ],
      "metadata": {
        "id": "HJE_QFe-aT1L",
        "colab": {
          "base_uri": "https://localhost:8080/",
          "height": 98
        },
        "outputId": "772134fa-26dd-47e4-a4a7-47ffff9be336"
      },
      "execution_count": 56,
      "outputs": [
        {
          "output_type": "execute_result",
          "data": {
            "text/plain": [
              "  index_a     index_p       h_index       p_index  \\\n",
              "0    a100  [p1853556]  [tensor(1.)]  [tensor(1.)]   \n",
              "\n",
              "                                            interest venue_name co_authors  \\\n",
              "0  [tensor(-0.1095), tensor(-0.1607), tensor(0.33...         []         []   \n",
              "\n",
              "   abnormal                                       embed_feat_a  \\\n",
              "0         0  [tensor(-0.1095), tensor(-0.1607), tensor(0.33...   \n",
              "\n",
              "             a_embed  idx_a       feat_a_same         diff_feat  \n",
              "0  [tensor(-0.0421)]      0  [tensor(0.2560)]  [tensor(0.1917)]  "
            ],
            "text/html": [
              "\n",
              "  <div id=\"df-e928aa3a-e034-418f-9722-3e9e24c8265f\" class=\"colab-df-container\">\n",
              "    <div>\n",
              "<style scoped>\n",
              "    .dataframe tbody tr th:only-of-type {\n",
              "        vertical-align: middle;\n",
              "    }\n",
              "\n",
              "    .dataframe tbody tr th {\n",
              "        vertical-align: top;\n",
              "    }\n",
              "\n",
              "    .dataframe thead th {\n",
              "        text-align: right;\n",
              "    }\n",
              "</style>\n",
              "<table border=\"1\" class=\"dataframe\">\n",
              "  <thead>\n",
              "    <tr style=\"text-align: right;\">\n",
              "      <th></th>\n",
              "      <th>index_a</th>\n",
              "      <th>index_p</th>\n",
              "      <th>h_index</th>\n",
              "      <th>p_index</th>\n",
              "      <th>interest</th>\n",
              "      <th>venue_name</th>\n",
              "      <th>co_authors</th>\n",
              "      <th>abnormal</th>\n",
              "      <th>embed_feat_a</th>\n",
              "      <th>a_embed</th>\n",
              "      <th>idx_a</th>\n",
              "      <th>feat_a_same</th>\n",
              "      <th>diff_feat</th>\n",
              "    </tr>\n",
              "  </thead>\n",
              "  <tbody>\n",
              "    <tr>\n",
              "      <th>0</th>\n",
              "      <td>a100</td>\n",
              "      <td>[p1853556]</td>\n",
              "      <td>[tensor(1.)]</td>\n",
              "      <td>[tensor(1.)]</td>\n",
              "      <td>[tensor(-0.1095), tensor(-0.1607), tensor(0.33...</td>\n",
              "      <td>[]</td>\n",
              "      <td>[]</td>\n",
              "      <td>0</td>\n",
              "      <td>[tensor(-0.1095), tensor(-0.1607), tensor(0.33...</td>\n",
              "      <td>[tensor(-0.0421)]</td>\n",
              "      <td>0</td>\n",
              "      <td>[tensor(0.2560)]</td>\n",
              "      <td>[tensor(0.1917)]</td>\n",
              "    </tr>\n",
              "  </tbody>\n",
              "</table>\n",
              "</div>\n",
              "    <div class=\"colab-df-buttons\">\n",
              "\n",
              "  <div class=\"colab-df-container\">\n",
              "    <button class=\"colab-df-convert\" onclick=\"convertToInteractive('df-e928aa3a-e034-418f-9722-3e9e24c8265f')\"\n",
              "            title=\"Convert this dataframe to an interactive table.\"\n",
              "            style=\"display:none;\">\n",
              "\n",
              "  <svg xmlns=\"http://www.w3.org/2000/svg\" height=\"24px\" viewBox=\"0 -960 960 960\">\n",
              "    <path d=\"M120-120v-720h720v720H120Zm60-500h600v-160H180v160Zm220 220h160v-160H400v160Zm0 220h160v-160H400v160ZM180-400h160v-160H180v160Zm440 0h160v-160H620v160ZM180-180h160v-160H180v160Zm440 0h160v-160H620v160Z\"/>\n",
              "  </svg>\n",
              "    </button>\n",
              "\n",
              "  <style>\n",
              "    .colab-df-container {\n",
              "      display:flex;\n",
              "      gap: 12px;\n",
              "    }\n",
              "\n",
              "    .colab-df-convert {\n",
              "      background-color: #E8F0FE;\n",
              "      border: none;\n",
              "      border-radius: 50%;\n",
              "      cursor: pointer;\n",
              "      display: none;\n",
              "      fill: #1967D2;\n",
              "      height: 32px;\n",
              "      padding: 0 0 0 0;\n",
              "      width: 32px;\n",
              "    }\n",
              "\n",
              "    .colab-df-convert:hover {\n",
              "      background-color: #E2EBFA;\n",
              "      box-shadow: 0px 1px 2px rgba(60, 64, 67, 0.3), 0px 1px 3px 1px rgba(60, 64, 67, 0.15);\n",
              "      fill: #174EA6;\n",
              "    }\n",
              "\n",
              "    .colab-df-buttons div {\n",
              "      margin-bottom: 4px;\n",
              "    }\n",
              "\n",
              "    [theme=dark] .colab-df-convert {\n",
              "      background-color: #3B4455;\n",
              "      fill: #D2E3FC;\n",
              "    }\n",
              "\n",
              "    [theme=dark] .colab-df-convert:hover {\n",
              "      background-color: #434B5C;\n",
              "      box-shadow: 0px 1px 3px 1px rgba(0, 0, 0, 0.15);\n",
              "      filter: drop-shadow(0px 1px 2px rgba(0, 0, 0, 0.3));\n",
              "      fill: #FFFFFF;\n",
              "    }\n",
              "  </style>\n",
              "\n",
              "    <script>\n",
              "      const buttonEl =\n",
              "        document.querySelector('#df-e928aa3a-e034-418f-9722-3e9e24c8265f button.colab-df-convert');\n",
              "      buttonEl.style.display =\n",
              "        google.colab.kernel.accessAllowed ? 'block' : 'none';\n",
              "\n",
              "      async function convertToInteractive(key) {\n",
              "        const element = document.querySelector('#df-e928aa3a-e034-418f-9722-3e9e24c8265f');\n",
              "        const dataTable =\n",
              "          await google.colab.kernel.invokeFunction('convertToInteractive',\n",
              "                                                    [key], {});\n",
              "        if (!dataTable) return;\n",
              "\n",
              "        const docLinkHtml = 'Like what you see? Visit the ' +\n",
              "          '<a target=\"_blank\" href=https://colab.research.google.com/notebooks/data_table.ipynb>data table notebook</a>'\n",
              "          + ' to learn more about interactive tables.';\n",
              "        element.innerHTML = '';\n",
              "        dataTable['output_type'] = 'display_data';\n",
              "        await google.colab.output.renderOutput(dataTable, element);\n",
              "        const docLink = document.createElement('div');\n",
              "        docLink.innerHTML = docLinkHtml;\n",
              "        element.appendChild(docLink);\n",
              "      }\n",
              "    </script>\n",
              "  </div>\n",
              "\n",
              "    </div>\n",
              "  </div>\n"
            ],
            "application/vnd.google.colaboratory.intrinsic+json": {
              "type": "dataframe",
              "variable_name": "authors"
            }
          },
          "metadata": {},
          "execution_count": 56
        }
      ]
    },
    {
      "cell_type": "code",
      "source": [
        "a_an = authors[authors['abnormal'] == 1]"
      ],
      "metadata": {
        "id": "PXp1dYnd57Gt"
      },
      "execution_count": 57,
      "outputs": []
    },
    {
      "cell_type": "code",
      "source": [
        "a_an.iloc[0]"
      ],
      "metadata": {
        "colab": {
          "base_uri": "https://localhost:8080/"
        },
        "id": "MZr4ml_vnntv",
        "outputId": "24cf701a-c2a6-4b7c-f4ac-e469f8e0d76d"
      },
      "execution_count": 58,
      "outputs": [
        {
          "output_type": "execute_result",
          "data": {
            "text/plain": [
              "index_a                                                  a1000110\n",
              "index_p                                                [p1614531]\n",
              "h_index                                              [tensor(5.)]\n",
              "p_index                                         [tensor(32.3020)]\n",
              "interest        [tensor(0.0878), tensor(0.0250), tensor(0.2079...\n",
              "venue_name                                                     []\n",
              "co_authors                                                     []\n",
              "abnormal                                                        1\n",
              "embed_feat_a    [tensor(0.0878), tensor(0.0250), tensor(0.2079...\n",
              "a_embed                                         [tensor(18.7435)]\n",
              "idx_a                                                          23\n",
              "feat_a_same                                     [tensor(-5.6504)]\n",
              "diff_feat                                       [tensor(18.9731)]\n",
              "Name: 23, dtype: object"
            ]
          },
          "metadata": {},
          "execution_count": 58
        }
      ]
    },
    {
      "cell_type": "code",
      "source": [
        "# authors.to_csv(data_path + 'AMiner-Authors-5p-embed-csv.csv', encoding=\"utf8\", index=False)\n",
        "# papers.to_csv(data_path + 'AMiner-Papers-5p-embed-csv.csv', encoding=\"utf8\", index=False)"
      ],
      "metadata": {
        "id": "nUG7INHyYYvu"
      },
      "execution_count": 59,
      "outputs": []
    },
    {
      "cell_type": "markdown",
      "source": [
        "**IMAGE**"
      ],
      "metadata": {
        "id": "CBZwi_eQ7TLI"
      }
    },
    {
      "cell_type": "code",
      "source": [
        "len(papers['index_p'])"
      ],
      "metadata": {
        "id": "gj0tT0EG7mgm",
        "colab": {
          "base_uri": "https://localhost:8080/"
        },
        "outputId": "0d9e5f8a-1e1c-42b3-e8d7-adde6137c170"
      },
      "execution_count": 60,
      "outputs": [
        {
          "output_type": "execute_result",
          "data": {
            "text/plain": [
              "137772"
            ]
          },
          "metadata": {},
          "execution_count": 60
        }
      ]
    },
    {
      "cell_type": "code",
      "source": [
        "len(authors['index_a'])"
      ],
      "metadata": {
        "id": "w3Q6xs_f7u47",
        "colab": {
          "base_uri": "https://localhost:8080/"
        },
        "outputId": "9eb0128b-aa46-4aaa-d87f-d10be03e6670"
      },
      "execution_count": 61,
      "outputs": [
        {
          "output_type": "execute_result",
          "data": {
            "text/plain": [
              "111387"
            ]
          },
          "metadata": {},
          "execution_count": 61
        }
      ]
    },
    {
      "cell_type": "code",
      "source": [
        "auth_mx = np.stack((authors['a_embed'], authors['feat_a_same'], authors['diff_feat']), axis=1)\n",
        "auth_mx = auth_mx.reshape((-1,1,3)).astype(float)\n",
        "auth_mx.shape"
      ],
      "metadata": {
        "id": "kjNzgiLM2ajt",
        "colab": {
          "base_uri": "https://localhost:8080/"
        },
        "outputId": "5f450094-024b-49e1-c4b5-4fa4eb4befff"
      },
      "execution_count": 62,
      "outputs": [
        {
          "output_type": "execute_result",
          "data": {
            "text/plain": [
              "(111387, 1, 3)"
            ]
          },
          "metadata": {},
          "execution_count": 62
        }
      ]
    },
    {
      "cell_type": "code",
      "source": [
        "a_image = cv2.normalize(auth_mx, None, alpha = 0, beta = 255, norm_type = cv2.NORM_MINMAX, dtype = cv2.CV_32F)\n",
        "a_image = np.array(a_image, dtype=np.uint8)\n",
        "# cv2_imshow(a_image)"
      ],
      "metadata": {
        "id": "Py2rrA7p3Zkw",
        "collapsed": true
      },
      "execution_count": 63,
      "outputs": []
    },
    {
      "cell_type": "code",
      "source": [
        "unique_a, counts_a = np.unique(a_image, return_counts=True)\n",
        "print(unique_a, counts_a)"
      ],
      "metadata": {
        "colab": {
          "base_uri": "https://localhost:8080/"
        },
        "id": "9ApoFR3w8rLW",
        "outputId": "ccd6aaad-8318-4a2e-9452-f0fcc3dbbbfa"
      },
      "execution_count": 64,
      "outputs": [
        {
          "output_type": "stream",
          "name": "stdout",
          "text": [
            "[  0   1   2   3   4   5   6   7   8   9  10  11  12  13  14  15  16  17\n",
            "  18  19  20  21  23  24  27  28  31  32  38  41  42  50  83 130 189 255] [     2    803 332212    762    153     65     47     18     22     14\n",
            "     17      6      1      1      2      3      4      4      1      3\n",
            "      1      3      1      2      1      1      2      1      1      1\n",
            "      1      2      1      1      1      1]\n"
          ]
        }
      ]
    },
    {
      "cell_type": "code",
      "source": [
        "# max_occurance_a = unique_a[np.where(counts_a == counts_a.max())[0][0]]\n",
        "max_occurance_a = unique_a[np.where(counts_a <= np.quantile(counts_a, 0.95))[0][0]]\n",
        "temp_pos_a = np.where(a_image != max_occurance_a)\n",
        "temp_pos_a"
      ],
      "metadata": {
        "colab": {
          "base_uri": "https://localhost:8080/"
        },
        "id": "yR5Wsj79dG2C",
        "outputId": "d29b2168-034d-4876-9834-39712b8c9288"
      },
      "execution_count": 65,
      "outputs": [
        {
          "output_type": "execute_result",
          "data": {
            "text/plain": [
              "(array([     0,      0,      0, ..., 111386, 111386, 111386]),\n",
              " array([0, 0, 0, ..., 0, 0, 0]),\n",
              " array([0, 1, 2, ..., 0, 1, 2]))"
            ]
          },
          "metadata": {},
          "execution_count": 65
        }
      ]
    },
    {
      "cell_type": "code",
      "source": [
        "t = unique_a[counts_a >= np.quantile(counts_a, 0.95)]\n",
        "print(t)\n",
        "# temp_pos_a = np.where(a_image != )\n",
        "# print(temp_pos_a)\n",
        "# np.unique(temp_pos_a[0])"
      ],
      "metadata": {
        "colab": {
          "base_uri": "https://localhost:8080/"
        },
        "id": "kR4hqpI8W6Ee",
        "outputId": "6cad3361-ad67-46cc-d663-2da218ee4354"
      },
      "execution_count": null,
      "outputs": [
        {
          "output_type": "stream",
          "name": "stdout",
          "text": [
            "[249 250 251]\n"
          ]
        }
      ]
    },
    {
      "cell_type": "code",
      "source": [
        "pos = a_image in(t)\n",
        "pos"
      ],
      "metadata": {
        "colab": {
          "base_uri": "https://localhost:8080/"
        },
        "id": "EAXAp4DAa-h-",
        "outputId": "4315a07e-36a3-4a45-f22f-ad963e95c06f"
      },
      "execution_count": null,
      "outputs": [
        {
          "output_type": "execute_result",
          "data": {
            "text/plain": [
              "True"
            ]
          },
          "metadata": {},
          "execution_count": 264
        }
      ]
    },
    {
      "cell_type": "code",
      "source": [
        "q1 = np.quantile(counts_a, 0.85)\n",
        "q2 = np.quantile(counts_a, 0.90)\n",
        "q3 = np.quantile(counts_a, 0.95)\n",
        "\n",
        "print(q1, q2, q3)"
      ],
      "metadata": {
        "colab": {
          "base_uri": "https://localhost:8080/"
        },
        "id": "90BB5IzFZYWM",
        "outputId": "fccc6d25-045c-4d3b-ca2a-fe31fc973b88"
      },
      "execution_count": null,
      "outputs": [
        {
          "output_type": "stream",
          "name": "stdout",
          "text": [
            "40.850000000000016 73.49999999999997 1594.9499999999894\n"
          ]
        }
      ]
    },
    {
      "cell_type": "code",
      "source": [
        "# WHY?\n",
        "# temp[1].max() == 0"
      ],
      "metadata": {
        "id": "6mhDsbeOuVs7"
      },
      "execution_count": null,
      "outputs": []
    },
    {
      "cell_type": "code",
      "source": [
        "abnormal_a = authors.iloc[np.unique(temp_pos_a[0])]\n",
        "normal_a = authors.loc[authors.index.difference(abnormal_a.index)]"
      ],
      "metadata": {
        "id": "vYvYfz4yhmqR"
      },
      "execution_count": null,
      "outputs": []
    },
    {
      "cell_type": "code",
      "source": [
        "len(abnormal_a['abnormal'])"
      ],
      "metadata": {
        "colab": {
          "base_uri": "https://localhost:8080/"
        },
        "id": "ALdN33GZiuCb",
        "outputId": "5c9def97-2299-40bc-8ee0-fb4d7dbc7278"
      },
      "execution_count": null,
      "outputs": [
        {
          "output_type": "execute_result",
          "data": {
            "text/plain": [
              "111387"
            ]
          },
          "metadata": {},
          "execution_count": 243
        }
      ]
    },
    {
      "cell_type": "code",
      "source": [
        "len(normal_a['abnormal'])"
      ],
      "metadata": {
        "colab": {
          "base_uri": "https://localhost:8080/"
        },
        "id": "r_OJNLSHYa9i",
        "outputId": "cc06fe0b-76bd-46c2-f74b-015eee463ca8"
      },
      "execution_count": null,
      "outputs": [
        {
          "output_type": "execute_result",
          "data": {
            "text/plain": [
              "0"
            ]
          },
          "metadata": {},
          "execution_count": 244
        }
      ]
    },
    {
      "cell_type": "code",
      "source": [
        "total_a = len(authors['index_a'])\n",
        "\n",
        "expected_pos_a = abnormal_a['index_a'].to_list()\n",
        "expected_neg_a = normal_a['index_a'].to_list()\n",
        "\n",
        "real_pos_a_lst = authors[authors['abnormal'] == 1]['index_a'].to_list()\n",
        "real_neg_a_lst = authors[authors['abnormal'] == 0]['index_a'].to_list()\n",
        "\n",
        "ex_pos = len(expected_pos_a)\n",
        "ex_neg = len(expected_neg_a)\n",
        "real_pos_a = len(real_pos_a_lst)\n",
        "real_neg_a = len(real_neg_a_lst)\n",
        "\n",
        "print('Expected_pos:', ex_pos)\n",
        "print('Real_pos:', real_pos_a)\n",
        "\n",
        "TP_a=0\n",
        "FP_a=0\n",
        "for ex in expected_pos_a:\n",
        "  if ex in real_pos_a_lst:\n",
        "    TP_a+=1\n",
        "  else:\n",
        "    FP_a+=1\n",
        "TN_a=0\n",
        "FN_a=0\n",
        "for ex in expected_neg_a:\n",
        "  if ex in real_neg_a_lst:\n",
        "    TN_a+=1\n",
        "  else:\n",
        "    FN_a+=1\n",
        "\n",
        "print('True Positive:', TP_a)\n",
        "print('True Negative:', TN_a)\n",
        "print('False Negative:', FN_a)\n",
        "print('False Positive:', FP_a)\n",
        "\n",
        "accuracy_a = (TP_a+TN_a)/(total_a)\n",
        "recall_a = TP_a/real_pos_a\n",
        "sensitivity_a = TP_a/(TP_a+FN_a)\n",
        "specificity_a = TN_a/(TN_a+FP_a)\n",
        "print(accuracy_a, recall_a, sensitivity_a, specificity_a)"
      ],
      "metadata": {
        "colab": {
          "base_uri": "https://localhost:8080/"
        },
        "id": "hTQh48Zv7lEs",
        "outputId": "bd482e96-c027-484e-8a26-83dd189e5af8"
      },
      "execution_count": null,
      "outputs": [
        {
          "output_type": "stream",
          "name": "stdout",
          "text": [
            "Expected_pos: 10223\n",
            "Real_pos: 5635\n",
            "True Positive: 5123\n",
            "True Negative: 100652\n",
            "False Negative: 512\n",
            "False Positive: 5100\n",
            "0.9496171007388654 0.9091393078970719 0.9091393078970719 0.9517739617217641\n"
          ]
        }
      ]
    },
    {
      "cell_type": "code",
      "source": [
        "cm = np.array([[TP_a, FP_a],\n",
        "               [FN_a, TN_a]])\n",
        "\n",
        "classes = ['Abnormal', 'Normal']\n",
        "figure, ax = plot_confusion_matrix(conf_mat = cm, class_names = classes, show_absolute = False, colorbar = True, show_normed = True)\n",
        "plt.show()"
      ],
      "metadata": {
        "colab": {
          "base_uri": "https://localhost:8080/",
          "height": 493
        },
        "id": "ILBjGcJsmMpC",
        "outputId": "d0531f59-80ac-47b8-b42d-0b1035719431"
      },
      "execution_count": null,
      "outputs": [
        {
          "output_type": "display_data",
          "data": {
            "text/plain": [
              "<Figure size 640x480 with 2 Axes>"
            ],
            "image/png": "[encoded data removed]"
          },
          "metadata": {}
        }
      ]
    },
    {
      "cell_type": "code",
      "source": [
        "pap_mx = np.stack((papers['p_embed'], papers['feat_p_same'], papers['diff_feat']), axis=1)\n",
        "pap_mx = pap_mx.reshape((-1,3,3)).astype(float)\n",
        "p_image = cv2.normalize(pap_mx, None, alpha = 0, beta = 255, norm_type = cv2.NORM_MINMAX, dtype = cv2.CV_32F)\n",
        "p_image = np.array(p_image, dtype=np.uint8)\n",
        "# cv2_imshow(p_image)"
      ],
      "metadata": {
        "id": "DVpNzh5o78jI",
        "collapsed": true
      },
      "execution_count": null,
      "outputs": []
    },
    {
      "cell_type": "code",
      "source": [
        "unique_p, counts_p = np.unique(p_image, return_counts=True)\n",
        "print(unique_p, counts_p)"
      ],
      "metadata": {
        "colab": {
          "base_uri": "https://localhost:8080/"
        },
        "id": "Yak-IZeY3ciQ",
        "outputId": "d99148e9-2988-488b-82d6-69d131b1af23"
      },
      "execution_count": null,
      "outputs": [
        {
          "output_type": "stream",
          "name": "stdout",
          "text": [
            "[  0   1   2   3  88  89  90  91  92  93  94  95  96  97  98  99 100 101\n",
            " 102 103 104 105 107 108 109 110 111 112 113 114 115 116 117 118 121 123\n",
            " 129 130 194 195 196 197 198 199 200 201 202 203 205 206 207 208 209 211\n",
            " 212 213 214 215 216 217 218 219 220 222 223 224 225 226 228 231 233 236\n",
            " 237 238 239 245 246 251 252 254 255] [271872    263  33029 104765      1     38     40     26     16     64\n",
            "    257    254    209     97    153    415    225    167     27    109\n",
            "      7      3    153     53     69      9     13     26    131    186\n",
            "     38      4     15      1     11      4     40      2      3      1\n",
            "      5      4      4      1     24     19     16     16     38     28\n",
            "      5      2      2     92     20      5     29     22      9      5\n",
            "      6     28      4      4     19      6     16      1     12      5\n",
            "      3     21      9      1     30      1      1      2      3      1\n",
            "      1]\n"
          ]
        }
      ]
    },
    {
      "cell_type": "code",
      "source": [
        "max_occurance_p = unique_p[np.where(counts_p == counts_p.max())[0][0]]\n",
        "temp_pos_p = np.where(p_image != max_occurance_p)\n",
        "# temp_pos_p = np.where((p_image != 0) | (p_image != 1))\n",
        "temp_pos_p"
      ],
      "metadata": {
        "colab": {
          "base_uri": "https://localhost:8080/"
        },
        "outputId": "2398b17e-0fef-4e39-99a7-e655517f67f0",
        "id": "gI-Pp1GvqRNu"
      },
      "execution_count": null,
      "outputs": [
        {
          "output_type": "execute_result",
          "data": {
            "text/plain": [
              "(array([    0,     0,     0, ..., 45923, 45923, 45923]),\n",
              " array([0, 1, 2, ..., 0, 1, 2]),\n",
              " array([1, 1, 1, ..., 1, 1, 1]))"
            ]
          },
          "metadata": {},
          "execution_count": 193
        }
      ]
    },
    {
      "cell_type": "code",
      "source": [
        "abnormal_p = papers.iloc[np.unique(temp_pos_p)]\n",
        "normal_p = papers.loc[papers.index.difference(abnormal_p.index)]"
      ],
      "metadata": {
        "id": "67BYszMwqRNv"
      },
      "execution_count": null,
      "outputs": []
    },
    {
      "cell_type": "code",
      "source": [
        "len(abnormal_p['abnormal'])"
      ],
      "metadata": {
        "colab": {
          "base_uri": "https://localhost:8080/"
        },
        "outputId": "4d27828c-7bb9-4c17-e50a-11e7ca4e54c6",
        "id": "bBfg0rdWqRNx"
      },
      "execution_count": null,
      "outputs": [
        {
          "output_type": "execute_result",
          "data": {
            "text/plain": [
              "45924"
            ]
          },
          "metadata": {},
          "execution_count": 195
        }
      ]
    },
    {
      "cell_type": "code",
      "source": [
        "len(normal_p['abnormal'])"
      ],
      "metadata": {
        "colab": {
          "base_uri": "https://localhost:8080/"
        },
        "outputId": "c45bbedd-867c-4c59-e833-14454071ae9e",
        "id": "XsJhRprhqRNx"
      },
      "execution_count": null,
      "outputs": [
        {
          "output_type": "execute_result",
          "data": {
            "text/plain": [
              "91848"
            ]
          },
          "metadata": {},
          "execution_count": 196
        }
      ]
    },
    {
      "cell_type": "code",
      "source": [
        "total_p = len(papers['index_p'])\n",
        "\n",
        "expected_pos_p = abnormal_p['index_p'].to_list()\n",
        "expected_neg_p = normal_p['index_p'].to_list()\n",
        "\n",
        "real_pos_p_lst = papers[papers['abnormal'] == 1]['index_p'].to_list()\n",
        "real_neg_p_lst = papers[papers['abnormal'] == 0]['index_p'].to_list()\n",
        "\n",
        "ex_pos_p = len(expected_pos_p)\n",
        "ex_neg = len(expected_neg_p)\n",
        "real_pos_p = len(real_pos_p_lst)\n",
        "real_neg_p = len(real_neg_p_lst)\n",
        "\n",
        "print('Expected_pos:', ex_pos_p)\n",
        "print('Real_pos:', real_pos_p)\n",
        "\n",
        "TP_p=0\n",
        "FP_p=0\n",
        "for ex in expected_pos_p:\n",
        "  if ex in real_pos_p_lst:\n",
        "    TP_p+=1\n",
        "  else:\n",
        "    FP_p+=1\n",
        "TN_p=0\n",
        "FN_p=0\n",
        "for ex in expected_neg_p:\n",
        "  if ex in real_neg_p_lst:\n",
        "    TN_p+=1\n",
        "  else:\n",
        "    FN_p+=1\n",
        "\n",
        "print('True Positive:', TP_p)\n",
        "print('True Negative:', TN_p)\n",
        "print('False Negative:', FN_p)\n",
        "print('False Positive:', FP_p)\n",
        "\n",
        "accuracy_p = (TP_p+TN_p)/(total_p)\n",
        "recall_p = TP_p/real_pos_p\n",
        "sensitivity_p = TP_p/(TP_p+FN_p)\n",
        "specificity_p = TN_p/(TN_p+FP_p)\n",
        "print(accuracy_p, recall_p, sensitivity_p, specificity_p)"
      ],
      "metadata": {
        "colab": {
          "base_uri": "https://localhost:8080/"
        },
        "id": "aENIhNuQ9FgC",
        "outputId": "20b18837-f1a0-4e3b-fa82-6db712cdbcc5"
      },
      "execution_count": null,
      "outputs": [
        {
          "output_type": "stream",
          "name": "stdout",
          "text": [
            "Expected_pos: 45924\n",
            "Real_pos: 6845\n",
            "True Positive: 2350\n",
            "True Negative: 87353\n",
            "False Negative: 4495\n",
            "False Positive: 43574\n",
            "0.6510974653775804 0.34331628926223523 0.34331628926223523 0.6671885860059422\n"
          ]
        }
      ]
    },
    {
      "cell_type": "code",
      "source": [
        "cm_p = np.array([[TP_p, FP_p],\n",
        "               [FN_p, TN_p]])\n",
        "\n",
        "classes = ['Abnormal', 'Normal']\n",
        "figure, ax = plot_confusion_matrix(conf_mat = cm_p, class_names = classes, show_absolute = False, colorbar = True, show_normed = True)\n",
        "plt.show()"
      ],
      "metadata": {
        "id": "6riSiyPm7SJ_",
        "colab": {
          "base_uri": "https://localhost:8080/",
          "height": 493
        },
        "outputId": "6153fde0-c5b0-4f6a-af62-3955165ece22"
      },
      "execution_count": null,
      "outputs": [
        {
          "output_type": "display_data",
          "data": {
            "text/plain": [
              "<Figure size 640x480 with 2 Axes>"
            ],
            "image/png": "[encoded data removed]"
          },
          "metadata": {}
        }
      ]
    },
    {
      "cell_type": "code",
      "source": [],
      "metadata": {
        "id": "sqCgkeGv7SNB"
      },
      "execution_count": null,
      "outputs": []
    },
    {
      "cell_type": "code",
      "source": [],
      "metadata": {
        "id": "RZDVoUUV7SPI"
      },
      "execution_count": null,
      "outputs": []
    }
  ],
  "metadata": {
    "kernelspec": {
      "display_name": "Python 3",
      "language": "python",
      "name": "python3"
    },
    "language_info": {
      "codemirror_mode": {
        "name": "ipython",
        "version": 3
      },
      "file_extension": ".py",
      "mimetype": "text/x-python",
      "name": "python",
      "nbconvert_exporter": "python",
      "pygments_lexer": "ipython3",
      "version": "3.6.9"
    },
    "colab": {
      "provenance": [],
      "include_colab_link": true
    }
  },
  "nbformat": 4,
  "nbformat_minor": 0
}